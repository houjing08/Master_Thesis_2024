{
  "metadata": {
    "kernelspec": {
      "display_name": "Python 3",
      "name": "python3"
    },
    "language_info": {
      "name": "python",
      "version": "3.10.13",
      "mimetype": "text/x-python",
      "codemirror_mode": {
        "name": "ipython",
        "version": 3
      },
      "pygments_lexer": "ipython3",
      "nbconvert_exporter": "python",
      "file_extension": ".py"
    },
    "kaggle": {
      "accelerator": "none",
      "dataSources": [
        {
          "sourceId": 17999,
          "sourceType": "datasetVersion",
          "datasetId": 9726
        },
        {
          "sourceId": 7996461,
          "sourceType": "datasetVersion",
          "datasetId": 4464838
        }
      ],
      "dockerImageVersionId": 30673,
      "isInternetEnabled": false,
      "language": "python",
      "sourceType": "notebook",
      "isGpuEnabled": false
    },
    "colab": {
      "name": "FNET_MNIST_LETTERS",
      "provenance": [],
      "gpuType": "T4"
    },
    "accelerator": "GPU"
  },
  "nbformat_minor": 0,
  "nbformat": 4,
  "cells": [
    {
      "source": [
        "\n",
        "# IMPORTANT: RUN THIS CELL IN ORDER TO IMPORT YOUR KAGGLE DATA SOURCES\n",
        "# TO THE CORRECT LOCATION (/kaggle/input) IN YOUR NOTEBOOK,\n",
        "# THEN FEEL FREE TO DELETE THIS CELL.\n",
        "# NOTE: THIS NOTEBOOK ENVIRONMENT DIFFERS FROM KAGGLE'S PYTHON\n",
        "# ENVIRONMENT SO THERE MAY BE MISSING LIBRARIES USED BY YOUR\n",
        "# NOTEBOOK.\n",
        "\n",
        "import os\n",
        "import sys\n",
        "from tempfile import NamedTemporaryFile\n",
        "from urllib.request import urlopen\n",
        "from urllib.parse import unquote, urlparse\n",
        "from urllib.error import HTTPError\n",
        "from zipfile import ZipFile\n",
        "import tarfile\n",
        "import shutil\n",
        "\n",
        "CHUNK_SIZE = 40960\n",
        "DATA_SOURCE_MAPPING = 'az-handwritten-alphabets-in-csv-format:https%3A%2F%2Fstorage.googleapis.com%2Fkaggle-data-sets%2F9726%2F17999%2Fbundle%2Farchive.zip%3FX-Goog-Algorithm%3DGOOG4-RSA-SHA256%26X-Goog-Credential%3Dgcp-kaggle-com%2540kaggle-161607.iam.gserviceaccount.com%252F20240401%252Fauto%252Fstorage%252Fgoog4_request%26X-Goog-Date%3D20240401T085909Z%26X-Goog-Expires%3D259200%26X-Goog-SignedHeaders%3Dhost%26X-Goog-Signature%3D457e14ec4dd1c8ddaa7faf9e7ca6881b38851d532166953c66feb81d3a4ce8e15b1941bb9a1f3c6127a71d7c4b2ca8cfc7d65c0b9c2e563e3004a1f3fe5551c702ca0aeff52512422439c19ae82145dd0fab306d0e8c9d85b3cb6851775b2c2db18ba792c93c52d367693767e7c0a1ae35d56fc14608d99b6a9774187d2d3cf6e442fea9cab43fdd9fdb8e2c490f092d17f69c70f1769c9bc5b6a97e953aa5d557b7cefc44ad9de8e3e1be739b12e872ff8db897a22d094af80bf7c37323fe6c646de92a666444f1ddfc02c00ffe93fba58b4240c34d74a6a4e452a792f33580a000d2f77d430b1a64ef16a15ae2d5531fc422e9055ed51cf02823c05e4dcb72,customclasses:https%3A%2F%2Fstorage.googleapis.com%2Fkaggle-data-sets%2F4464838%2F7996461%2Fbundle%2Farchive.zip%3FX-Goog-Algorithm%3DGOOG4-RSA-SHA256%26X-Goog-Credential%3Dgcp-kaggle-com%2540kaggle-161607.iam.gserviceaccount.com%252F20240401%252Fauto%252Fstorage%252Fgoog4_request%26X-Goog-Date%3D20240401T085909Z%26X-Goog-Expires%3D259200%26X-Goog-SignedHeaders%3Dhost%26X-Goog-Signature%3D3b228e80e72008baf47f32667a479e84a12b0dd4930583e2e009374e08ed92b683d12f96458be59c9cec17b2dfa8730fce238f407ce0d62267563794549f31ab538d2b30cdbdfa1b14902e3b6d340d373868cb0168ad6ee93099a4ec83e98aaba84886aeaf53638c5359b57f92cf489c1030982c0fac03b8f61dccd7875a20cf18e00c7757436b3df2ff0e3cf9af28aaf77b784b043b9e1ea08b74470afad2260a816d373a7f56ef4d46497f245441dd83d5cf7a4b10c8dbf760739be7d0f53ab87215bd2686964d5f36670ebba57a1ca0f9f17654e38208bf2a3f973445109f4be110881214fd2f10aa92ea2afbe8fae76fd0d71ed2e9f91bb572a814135b63'\n",
        "\n",
        "KAGGLE_INPUT_PATH='/kaggle/input'\n",
        "KAGGLE_WORKING_PATH='/kaggle/working'\n",
        "KAGGLE_SYMLINK='kaggle'\n",
        "\n",
        "!umount /kaggle/input/ 2> /dev/null\n",
        "shutil.rmtree('/kaggle/input', ignore_errors=True)\n",
        "os.makedirs(KAGGLE_INPUT_PATH, 0o777, exist_ok=True)\n",
        "os.makedirs(KAGGLE_WORKING_PATH, 0o777, exist_ok=True)\n",
        "\n",
        "try:\n",
        "  os.symlink(KAGGLE_INPUT_PATH, os.path.join(\"..\", 'input'), target_is_directory=True)\n",
        "except FileExistsError:\n",
        "  pass\n",
        "try:\n",
        "  os.symlink(KAGGLE_WORKING_PATH, os.path.join(\"..\", 'working'), target_is_directory=True)\n",
        "except FileExistsError:\n",
        "  pass\n",
        "\n",
        "for data_source_mapping in DATA_SOURCE_MAPPING.split(','):\n",
        "    directory, download_url_encoded = data_source_mapping.split(':')\n",
        "    download_url = unquote(download_url_encoded)\n",
        "    filename = urlparse(download_url).path\n",
        "    destination_path = os.path.join(KAGGLE_INPUT_PATH, directory)\n",
        "    try:\n",
        "        with urlopen(download_url) as fileres, NamedTemporaryFile() as tfile:\n",
        "            total_length = fileres.headers['content-length']\n",
        "            print(f'Downloading {directory}, {total_length} bytes compressed')\n",
        "            dl = 0\n",
        "            data = fileres.read(CHUNK_SIZE)\n",
        "            while len(data) > 0:\n",
        "                dl += len(data)\n",
        "                tfile.write(data)\n",
        "                done = int(50 * dl / int(total_length))\n",
        "                sys.stdout.write(f\"\\r[{'=' * done}{' ' * (50-done)}] {dl} bytes downloaded\")\n",
        "                sys.stdout.flush()\n",
        "                data = fileres.read(CHUNK_SIZE)\n",
        "            if filename.endswith('.zip'):\n",
        "              with ZipFile(tfile) as zfile:\n",
        "                zfile.extractall(destination_path)\n",
        "            else:\n",
        "              with tarfile.open(tfile.name) as tarfile:\n",
        "                tarfile.extractall(destination_path)\n",
        "            print(f'\\nDownloaded and uncompressed: {directory}')\n",
        "    except HTTPError as e:\n",
        "        print(f'Failed to load (likely expired) {download_url} to path {destination_path}')\n",
        "        continue\n",
        "    except OSError as e:\n",
        "        print(f'Failed to load {download_url} to path {destination_path}')\n",
        "        continue\n",
        "\n",
        "print('Data source import complete.')\n"
      ],
      "metadata": {
        "colab": {
          "base_uri": "https://localhost:8080/"
        },
        "id": "2BdRvT8b4kzx",
        "outputId": "ca522af1-6136-4644-ec3e-b51e0763540d"
      },
      "cell_type": "code",
      "outputs": [
        {
          "output_type": "stream",
          "name": "stdout",
          "text": [
            "Downloading az-handwritten-alphabets-in-csv-format, 193643888 bytes compressed\n",
            "[==================================================] 193643888 bytes downloaded\n",
            "Downloaded and uncompressed: az-handwritten-alphabets-in-csv-format\n",
            "Downloading customclasses, 12296 bytes compressed\n",
            "[==================================================] 12296 bytes downloaded\n",
            "Downloaded and uncompressed: customclasses\n",
            "Data source import complete.\n"
          ]
        }
      ],
      "execution_count": 8
    },
    {
      "cell_type": "code",
      "source": [
        "#import keras\n",
        "#from keras import layers\n",
        "#from keras import ops\n",
        "\n",
        "import os\n",
        "import numpy as np\n",
        "import matplotlib.pyplot as plt\n",
        "\n",
        "\n",
        "import os, time, json\n",
        "\n",
        "for dirname, _, filenames in os.walk('/kaggle/input'):\n",
        "    if dirname.split('/')[-1] == 'customclasses':\n",
        "        if dirname not in os.sys.path:\n",
        "            os.sys.path.insert(0, dirname)\n",
        "        for filename in filenames:\n",
        "            print(os.path.join(dirname, filename))\n",
        "\n",
        "\n",
        "# Import all custom variables and modules\n",
        "from preprocessing import *\n",
        "from Unet_like import *\n",
        "# from fnet import *\n",
        "\n",
        "RND_STATE = 247\n",
        "keras.utils.set_random_seed(RND_STATE)\n",
        "\n",
        "INTERACTIVE_SESSION = True\n",
        "\n",
        "from tensorflow.data import Dataset as tf_data\n"
      ],
      "metadata": {
        "_uuid": "8f2839f25d086af736a60e9eeb907d3b93b6e0e5",
        "_cell_guid": "b1076dfc-b9ad-4769-8c92-a6c4dae69d19",
        "execution": {
          "iopub.status.busy": "2024-04-01T08:49:50.006842Z",
          "iopub.execute_input": "2024-04-01T08:49:50.008198Z",
          "iopub.status.idle": "2024-04-01T08:49:50.021049Z",
          "shell.execute_reply.started": "2024-04-01T08:49:50.008153Z",
          "shell.execute_reply": "2024-04-01T08:49:50.019835Z"
        },
        "trusted": true,
        "colab": {
          "base_uri": "https://localhost:8080/"
        },
        "id": "usI0vk_t4kzy",
        "outputId": "6c4161d1-853b-4af4-ec26-c96811c3bfee"
      },
      "execution_count": 9,
      "outputs": [
        {
          "output_type": "stream",
          "name": "stdout",
          "text": [
            "/kaggle/input/customclasses/preprocessing.py\n",
            "/kaggle/input/customclasses/setup.py\n",
            "/kaggle/input/customclasses/fnet.py\n",
            "/kaggle/input/customclasses/Unet_like.py\n",
            "/kaggle/input/customclasses/ae.py\n",
            "/kaggle/input/customclasses/deeplabv3plus.py\n"
          ]
        }
      ]
    },
    {
      "cell_type": "markdown",
      "source": [
        "## Data preparation and model configurations"
      ],
      "metadata": {
        "id": "0w2PlGPK4kzz"
      }
    },
    {
      "cell_type": "code",
      "source": [
        "    print(\"{}\\n\\t{}\\n{}\".format('='*55,'Data preparation and model configurations', '-'*55))\n",
        "    # Hand-written alphabet images\n",
        "    start = time.time()\n",
        "    if 'letters' not in dir():\n",
        "        letters = MNIST_letters(\n",
        "            '/kaggle/input/az-handwritten-alphabets-in-csv-format/A_Z Handwritten Data.csv'\n",
        "        )\n",
        "\n",
        "    # Load data (split ratio = train:val:test = 5:1:4)\n",
        "    (x_train, _), (x_test, _), (x_val, _) = \\\n",
        "        letters.split_data(train_ratio=0.5, val_ratio=1./6, random_state=RND_STATE)\n",
        "\n",
        "    print(\"Shape of dataset: {}\".format(str(letters.df.shape)))\n",
        "    print(\"Shape of training data: {}\".format(str(x_train.shape)))\n",
        "    print(\"Shape of validation data: {}\".format(str(x_val.shape)))\n",
        "    print(\"Shape of test data: {}\".format(str(x_test.shape)))\n",
        "\n",
        "    # Model configurations\n",
        "    conf = model_config(\n",
        "        epochs=100,\n",
        "        batch_size=256,\n",
        "        shuffle=True,\n",
        "        scaling=1,\n",
        "        verbose=1,\n",
        "        save_path='/kaggle/working/',\n",
        "        augmentation=False,\n",
        "        pos_label=letters.pos_label\n",
        "    )\n",
        "\n",
        "\n",
        ""
      ],
      "metadata": {
        "execution": {
          "iopub.status.busy": "2024-04-01T08:48:22.626283Z",
          "iopub.execute_input": "2024-04-01T08:48:22.627012Z",
          "iopub.status.idle": "2024-04-01T08:48:40.090972Z",
          "shell.execute_reply.started": "2024-04-01T08:48:22.626972Z",
          "shell.execute_reply": "2024-04-01T08:48:40.089764Z"
        },
        "trusted": true,
        "colab": {
          "base_uri": "https://localhost:8080/"
        },
        "id": "eicTnoPc4kzz",
        "outputId": "9ed9e6c0-a90b-4181-ab23-f4ac8c5e89ff"
      },
      "execution_count": 10,
      "outputs": [
        {
          "output_type": "stream",
          "name": "stdout",
          "text": [
            "=======================================================\n",
            "\tData preparation and model configurations\n",
            "-------------------------------------------------------\n",
            "Shape of dataset: (144013, 784)\n",
            "Shape of training data: (60005, 28, 28)\n",
            "Shape of validation data: (12001, 28, 28)\n",
            "Shape of test data: (72007, 28, 28)\n"
          ]
        }
      ]
    },
    {
      "cell_type": "markdown",
      "source": [
        "## Create data generator for respective data samples and labels"
      ],
      "metadata": {
        "id": "ukHsGQlF4kz0"
      }
    },
    {
      "cell_type": "code",
      "source": [
        "\n",
        "\n",
        "    train_dataset = tf_data.from_tensor_slices(letters.generate_data(x_train)) \\\n",
        "                    .batch(conf.training_args['batch_size'])\n",
        "    val_dataset = tf_data.from_tensor_slices(letters.generate_data(x_val)) \\\n",
        "                    .batch(conf.training_args['batch_size'])\n",
        "    x_test, y_test = letters.generate_data(x_test)\n",
        "    print(\"Train Dataset:\", train_dataset)\n",
        "    print('...elapsed time: ___{:5.2f} minutes___'.format((time.time()-start) / 60))\n",
        "\n",
        "\n",
        "    es_callback = keras.callbacks.EarlyStopping(\n",
        "        monitor=\"val_loss\",\n",
        "        patience=5,\n",
        "        restore_best_weights=True\n",
        "    )\n",
        "\n",
        "    conf.set( validation_data=val_dataset,  callbacks=[es_callback] )\n",
        "    conf.set('compile')\n",
        "    conf.info()\n"
      ],
      "metadata": {
        "execution": {
          "iopub.status.busy": "2024-04-01T08:49:55.528596Z",
          "iopub.execute_input": "2024-04-01T08:49:55.528993Z",
          "iopub.status.idle": "2024-04-01T08:49:58.079108Z",
          "shell.execute_reply.started": "2024-04-01T08:49:55.528966Z",
          "shell.execute_reply": "2024-04-01T08:49:58.077832Z"
        },
        "trusted": true,
        "colab": {
          "base_uri": "https://localhost:8080/"
        },
        "id": "Z1m6CN8i4kz0",
        "outputId": "1b0a79f0-00ef-400e-93ec-ea6854bb1a47"
      },
      "execution_count": 11,
      "outputs": [
        {
          "output_type": "stream",
          "name": "stdout",
          "text": [
            "Train Dataset: <_BatchDataset element_spec=(TensorSpec(shape=(None, 28, 28, 1), dtype=tf.float32, name=None), TensorSpec(shape=(None, 28, 28, 1), dtype=tf.int64, name=None))>\n",
            "...elapsed time: ___ 0.12 minutes___\n",
            "        compile_args:\n",
            "                     optimizer: adam\n",
            "                          loss: binary_crossentropy\n",
            "       training_args:\n",
            "                        epochs: 100\n",
            "                    batch_size: 256\n",
            "                       shuffle: True\n",
            "                       verbose: 1\n",
            "               validation_data: <class 'tensorflow.python.data.ops.batch_op._BatchDataset'>\n",
            "                     callbacks: <class 'tensorflow.python.trackable.data_structures.ListWrapper'>\n",
            "          model_arch:\n",
            "                     img_shape: (28, 28)\n",
            "                   target_size: (28, 28)\n",
            "                  channels_dim: (1, 1)\n",
            "                       scaling: 1\n",
            "                  augmentation: False\n",
            "                     threshold: 0.95\n",
            "                     pos_label: 1\n",
            "new_training_session: False\n",
            "           save_path: /kaggle/working/\n"
          ]
        }
      ]
    },
    {
      "cell_type": "markdown",
      "source": [
        "## Build  model"
      ],
      "metadata": {
        "id": "uYCt40S34kz1"
      }
    },
    {
      "cell_type": "code",
      "source": [
        "\n",
        "\n",
        "    print(\"\\n\\n{}\\n\\t{}\\n{}\".format('='*55,f'Build model', '-'*55))\n",
        "    m_obj = UNET2D(panel_sizes=[32,64,128,256], model_arch=conf.model_arch)\n",
        "    model = m_obj.build_model()\n",
        "    # model.summary()\n",
        "    # keras.utils.plot_model(model, 'm_obj.png',show_shapes=True)\n",
        "    print(f\"Total trainable wieghts: {model.count_params():,}\")\n",
        "\n",
        "\n",
        ""
      ],
      "metadata": {
        "execution": {
          "iopub.status.busy": "2024-04-01T08:50:24.768281Z",
          "iopub.execute_input": "2024-04-01T08:50:24.768709Z",
          "iopub.status.idle": "2024-04-01T08:50:31.604113Z",
          "shell.execute_reply.started": "2024-04-01T08:50:24.768679Z",
          "shell.execute_reply": "2024-04-01T08:50:31.602607Z"
        },
        "trusted": true,
        "colab": {
          "base_uri": "https://localhost:8080/"
        },
        "id": "fI7aVG9y4kz1",
        "outputId": "b9d9c636-ca7b-4b0e-8631-9b21aa673a18"
      },
      "execution_count": 12,
      "outputs": [
        {
          "output_type": "stream",
          "name": "stdout",
          "text": [
            "\n",
            "\n",
            "=======================================================\n",
            "\tBuild model\n",
            "-------------------------------------------------------\n",
            "inputs padded by 2 to fit model design\n",
            "Cropping the output by 2 to fit input...\n",
            "Total trainable wieghts: 2,057,825\n"
          ]
        }
      ]
    },
    {
      "cell_type": "markdown",
      "source": [
        "## Train and evaluate  model"
      ],
      "metadata": {
        "id": "73x-nGUv4kz1"
      }
    },
    {
      "cell_type": "code",
      "source": [
        "    print(\"\\n\\n{}\\n\\t{}\\n{}\".format('='*55,f'Train {m_obj.Name} model', '-'*55))\n",
        "\n",
        "    conf.execute_training(\n",
        "        model,\n",
        "        data=train_dataset,\n",
        "        saveas=m_obj.Name,\n",
        "        plot_history=INTERACTIVE_SESSION\n",
        "    )\n",
        "\n"
      ],
      "metadata": {
        "execution": {
          "iopub.status.busy": "2024-04-01T08:52:08.334143Z",
          "iopub.execute_input": "2024-04-01T08:52:08.335663Z"
        },
        "trusted": true,
        "colab": {
          "base_uri": "https://localhost:8080/",
          "height": 1000
        },
        "id": "sEHbdBOJ4kz2",
        "outputId": "6a9b3ffd-5108-431a-a461-c65c35f5288b"
      },
      "execution_count": 13,
      "outputs": [
        {
          "output_type": "stream",
          "name": "stdout",
          "text": [
            "\n",
            "\n",
            "=======================================================\n",
            "\tTrain unet model\n",
            "-------------------------------------------------------\n",
            "Model training...\n",
            "Epoch 1/100\n",
            "235/235 [==============================] - 25s 63ms/step - loss: 0.2325 - val_loss: 0.3801\n",
            "Epoch 2/100\n",
            "235/235 [==============================] - 14s 58ms/step - loss: 0.0843 - val_loss: 0.2274\n",
            "Epoch 3/100\n",
            "235/235 [==============================] - 14s 59ms/step - loss: 0.0664 - val_loss: 0.0778\n",
            "Epoch 4/100\n",
            "235/235 [==============================] - 14s 59ms/step - loss: 0.0576 - val_loss: 0.0788\n",
            "Epoch 5/100\n",
            "235/235 [==============================] - 14s 60ms/step - loss: 0.0522 - val_loss: 0.0594\n",
            "Epoch 6/100\n",
            "235/235 [==============================] - 14s 60ms/step - loss: 0.0483 - val_loss: 0.0552\n",
            "Epoch 7/100\n",
            "235/235 [==============================] - 14s 60ms/step - loss: 0.0452 - val_loss: 0.0682\n",
            "Epoch 8/100\n",
            "235/235 [==============================] - 14s 59ms/step - loss: 0.0423 - val_loss: 0.1108\n",
            "Epoch 9/100\n",
            "235/235 [==============================] - 14s 59ms/step - loss: 0.0394 - val_loss: 0.3854\n",
            "Epoch 10/100\n",
            "235/235 [==============================] - 14s 59ms/step - loss: 0.0369 - val_loss: 0.2907\n",
            "Epoch 11/100\n",
            "235/235 [==============================] - 14s 59ms/step - loss: 0.0344 - val_loss: 0.9739\n",
            "training elapsed time: ___ 2.76 minutes___\n",
            "...training completed!\n"
          ]
        },
        {
          "output_type": "display_data",
          "data": {
            "text/plain": [
              "<Figure size 640x480 with 1 Axes>"
            ],
            "image/png": "[encoded data removed]"
          },
          "metadata": {}
        }
      ]
    },
    {
      "cell_type": "code",
      "source": [
        "    print(\"\\n\\n{}\\n\\t{}\\n{}\".format('='*55,f'Evaluate {m_obj.Name} model', '-'*55))\n",
        "    decoded_imgs = model.predict(x_test)\n",
        "    m_obj.evaluate_sklearn(y_test, decoded_imgs,report=True)\n",
        "\n",
        "    if INTERACTIVE_SESSION:\n",
        "        display_sample_images(x_test, decoded_imgs, conf.img_shape)"
      ],
      "metadata": {
        "colab": {
          "base_uri": "https://localhost:8080/",
          "height": 413
        },
        "id": "_JUBsJ684kz2",
        "outputId": "ac669d05-6185-42e4-f6e8-191ef83363cd"
      },
      "execution_count": 14,
      "outputs": [
        {
          "output_type": "stream",
          "name": "stdout",
          "text": [
            "\n",
            "\n",
            "=======================================================\n",
            "\tEvaluate unet model\n",
            "-------------------------------------------------------\n",
            "2251/2251 [==============================] - 10s 4ms/step\n",
            "evaluation elapsed time:___ 4.37___minutes\n"
          ]
        },
        {
          "output_type": "display_data",
          "data": {
            "text/plain": [
              "<Figure size 2000x400 with 20 Axes>"
            ],
            "image/png": "[encoded data removed]"
          },
          "metadata": {}
        }
      ]
    }
  ]
}