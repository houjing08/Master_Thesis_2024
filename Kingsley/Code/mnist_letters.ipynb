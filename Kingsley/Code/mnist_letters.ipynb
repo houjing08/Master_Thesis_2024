{
 "cells": [
  {
   "cell_type": "code",
   "execution_count": 287,
   "metadata": {},
   "outputs": [
    {
     "name": "stdout",
     "output_type": "stream",
     "text": [
      "The autoreload extension is already loaded. To reload it, use:\n",
      "  %reload_ext autoreload\n"
     ]
    }
   ],
   "source": [
    "%load_ext autoreload\n",
    "%autoreload 2"
   ]
  },
  {
   "cell_type": "code",
   "execution_count": 288,
   "metadata": {},
   "outputs": [],
   "source": [
    "from IPython.core.interactiveshell import InteractiveShell\n",
    "InteractiveShell.ast_node_interactivity = \"last\" # all | last | last_expr | none "
   ]
  },
  {
   "cell_type": "code",
   "execution_count": 289,
   "metadata": {},
   "outputs": [],
   "source": [
    "# for name in dir():\n",
    "#     if not name.startswith('_'):\n",
    "#         del globals()[name]"
   ]
  },
  {
   "cell_type": "code",
   "execution_count": 290,
   "metadata": {},
   "outputs": [],
   "source": [
    "# ============= Import required packaages ==============\n",
    "import time\n",
    "\n",
    "# Import all custom variables and modules\n",
    "from custom_classes_defs.preprocessing import *\n",
    "# from custom_classes_defs.Unet_like import *   \n",
    "from custom_classes_defs.fnet import *\n",
    "\n",
    "RND_STATE = 247\n",
    "BATCH_SIZE = 256\n",
    "keras.utils.set_random_seed(RND_STATE)\n",
    "\n",
    "INTERACTIVE_SESSION = True\n",
    "\n",
    "from tensorflow.data import Dataset as tf_data\n",
    "# -------------------------------------------------------"
   ]
  },
  {
   "cell_type": "markdown",
   "metadata": {},
   "source": [
    "### Data preparation and model configurations"
   ]
  },
  {
   "cell_type": "code",
   "execution_count": 291,
   "metadata": {},
   "outputs": [
    {
     "name": "stdout",
     "output_type": "stream",
     "text": [
      "=======================================================\n",
      "\tData preparation and model configurations\n",
      "-------------------------------------------------------\n",
      "Shape of dataset: (144013, 784)\n",
      "Shape of training data: (12000, 28, 28)\n",
      "Shape of validation data: (2401, 28, 28)\n",
      "Shape of test data: (129612, 28, 28)\n",
      "Train Dataset: <_BatchDataset element_spec=(TensorSpec(shape=(None, 28, 28, 1), dtype=tf.float32, name=None), TensorSpec(shape=(None, 28, 28), dtype=tf.int64, name=None))>\n",
      "...elapsed time: ___ 0.05 minutes___\n"
     ]
    }
   ],
   "source": [
    "print(\"{}\\n\\t{}\\n{}\".format('='*55,'Data preparation and model configurations', '-'*55))\n",
    "# Hand-written alphabet images\n",
    "start = time.time()\n",
    "if 'letters' not in dir():\n",
    "    letters = MNIST_letters(\n",
    "        './data/az_handwritten_alphabets_in_csv_format/A_Z_Handwritten_Data.csv'\n",
    "    )\n",
    "    \n",
    "# Load data (split ratio = train:val:test = 5:1:4)\n",
    "(x_train, _), (x_test, _), (x_val, _) = \\\n",
    "    letters.split_data(train_ratio=0.1, val_ratio=1./6)\n",
    "print(\"Shape of dataset: {}\".format(str(letters.df.shape)))\n",
    "print(\"Shape of training data: {}\".format(str(x_train.shape)))\n",
    "print(\"Shape of validation data: {}\".format(str(x_val.shape)))\n",
    "print(\"Shape of test data: {}\".format(str(x_test.shape))) \n",
    "\n",
    "x_test = x_test[:1000]\n",
    "\n",
    "\n",
    "# Create data generator for respective data samples and labels\n",
    "        \n",
    "train_dataset = tf_data.from_tensor_slices(letters.generate_data(x_train)) \\\n",
    "                .batch(BATCH_SIZE)\n",
    "val_dataset = tf_data.from_tensor_slices(letters.generate_data(x_val)) \\\n",
    "                .batch(BATCH_SIZE)\n",
    "x_test, y_test = letters.generate_data(x_test)\n",
    "print(\"Train Dataset:\", train_dataset)\n",
    "print('...elapsed time: ___{:5.2f} minutes___'.format((time.time()-start) / 60))"
   ]
  },
  {
   "cell_type": "code",
   "execution_count": 292,
   "metadata": {},
   "outputs": [
    {
     "data": {
      "image/png": "[encoded data removed]",
      "text/plain": [
       "<Figure size 2000x400 with 20 Axes>"
      ]
     },
     "metadata": {},
     "output_type": "display_data"
    }
   ],
   "source": [
    "display_sample_images(x_test, y_test, img_shape=(28,28))"
   ]
  },
  {
   "cell_type": "code",
   "execution_count": 293,
   "metadata": {},
   "outputs": [
    {
     "name": "stdout",
     "output_type": "stream",
     "text": [
      "        compile_args:\n",
      "                     optimizer: adam\n",
      "                          loss: binary_crossentropy\n",
      "       training_args:\n",
      "                        epochs: 10\n",
      "                    batch_size: 256\n",
      "                       shuffle: True\n",
      "                       verbose: 1\n",
      "               validation_data: <class 'tensorflow.python.data.ops.batch_op._BatchDataset'>\n",
      "                     callbacks: <class 'list'>\n",
      "          model_arch:\n",
      "                     img_shape: (28, 28)\n",
      "                   target_size: (28, 28)\n",
      "                  channels_dim: (1, 1)\n",
      "                       scaling: 1\n",
      "                  augmentation: True\n",
      "new_training_session: False\n",
      "           save_path: ./data\n",
      "           threshold: 0.5\n",
      "           pos_label: 1\n"
     ]
    }
   ],
   "source": [
    "\n",
    "# Model configurations\n",
    "conf = model_config(\n",
    "    epochs=10,\n",
    "    batch_size=BATCH_SIZE,\n",
    "    shuffle=True,\n",
    "    scaling=1,\n",
    "    verbose=1,\n",
    "    save_path='./data',\n",
    "    augmentation=True,\n",
    "    threshold=letters.threshold,\n",
    "    pos_label=letters.pos_label\n",
    ")\n",
    "\n",
    "\n",
    "es_callback = keras.callbacks.EarlyStopping(\n",
    "    monitor=\"val_loss\",\n",
    "    patience=5,\n",
    "    restore_best_weights=True\n",
    ")\n",
    "\n",
    "conf.set( validation_data=val_dataset,  callbacks=[es_callback] )\n",
    "conf.set('compile')\n",
    "conf.info()"
   ]
  },
  {
   "cell_type": "code",
   "execution_count": 294,
   "metadata": {},
   "outputs": [
    {
     "name": "stdout",
     "output_type": "stream",
     "text": [
      "New train session? (y/n):  y\n",
      "Are you sure, you want to run this session interactively? (y/n):  y\n"
     ]
    }
   ],
   "source": [
    "### Interactive step:\n",
    "if INTERACTIVE_SESSION:\n",
    "    train = input(\"New train session? (y/n): \")\n",
    "    if train[0].lower()=='y':\n",
    "        conf.new_training_session = True\n",
    "    else:\n",
    "        conf.new_training_session = False\n",
    "    interact = input(\"Are you sure, you want to run this session interactively? (y/n): \")\n",
    "    if interact[0].lower()!='y':\n",
    "        INTERACTIVE_SESSION = False"
   ]
  },
  {
   "cell_type": "markdown",
   "metadata": {},
   "source": [
    "### Build  model "
   ]
  },
  {
   "cell_type": "code",
   "execution_count": 295,
   "metadata": {},
   "outputs": [
    {
     "name": "stdout",
     "output_type": "stream",
     "text": [
      "\n",
      "\n",
      "=======================================================\n",
      "\tBuild model\n",
      "-------------------------------------------------------\n",
      "inputs padded by 2 to fit model design\n",
      "Cropping the output by 2 to fit input...\n",
      "Total trainable wieghts: 8,065,089\n"
     ]
    }
   ],
   "source": [
    "print(\"\\n\\n{}\\n\\t{}\\n{}\".format('='*55,f'Build model', '-'*55))\n",
    "m_obj = FNET2D(panel_sizes=[32,64,128,256], model_arch=conf.model_arch)\n",
    "model = m_obj.build_model()\n",
    "# model.summary()\n",
    "# keras.utils.plot_model(model, 'm_obj.png',show_shapes=True)\n",
    "print(f\"Total trainable wieghts: {model.count_params():,}\")\n",
    "\n"
   ]
  },
  {
   "cell_type": "markdown",
   "metadata": {},
   "source": [
    "### Train and evaluate  model"
   ]
  },
  {
   "cell_type": "code",
   "execution_count": 296,
   "metadata": {},
   "outputs": [
    {
     "name": "stdout",
     "output_type": "stream",
     "text": [
      "\n",
      "\n",
      "=======================================================\n",
      "\tTrain fnet model\n",
      "-------------------------------------------------------\n",
      "Model training...\n",
      "Epoch 1/10\n",
      "\u001b[1m47/47\u001b[0m \u001b[32m━━━━━━━━━━━━━━━━━━━━\u001b[0m\u001b[37m\u001b[0m \u001b[1m143s\u001b[0m 3s/step - loss: 2.9152 - val_loss: 2.2925\n",
      "Epoch 2/10\n",
      "\u001b[1m47/47\u001b[0m \u001b[32m━━━━━━━━━━━━━━━━━━━━\u001b[0m\u001b[37m\u001b[0m \u001b[1m149s\u001b[0m 3s/step - loss: 2.2824 - val_loss: 2.2925\n",
      "Epoch 3/10\n",
      "\u001b[1m47/47\u001b[0m \u001b[32m━━━━━━━━━━━━━━━━━━━━\u001b[0m\u001b[37m\u001b[0m \u001b[1m153s\u001b[0m 3s/step - loss: 2.2824 - val_loss: 2.2925\n",
      "Epoch 4/10\n",
      "\u001b[1m47/47\u001b[0m \u001b[32m━━━━━━━━━━━━━━━━━━━━\u001b[0m\u001b[37m\u001b[0m \u001b[1m152s\u001b[0m 3s/step - loss: 2.2824 - val_loss: 2.2925\n",
      "Epoch 5/10\n",
      "\u001b[1m47/47\u001b[0m \u001b[32m━━━━━━━━━━━━━━━━━━━━\u001b[0m\u001b[37m\u001b[0m \u001b[1m176s\u001b[0m 4s/step - loss: 2.2824 - val_loss: 2.2925\n",
      "Epoch 6/10\n",
      "\u001b[1m47/47\u001b[0m \u001b[32m━━━━━━━━━━━━━━━━━━━━\u001b[0m\u001b[37m\u001b[0m \u001b[1m211s\u001b[0m 4s/step - loss: 2.2824 - val_loss: 2.2925\n",
      "training elapsed time: ___16.39 minutes___\n",
      "...training completed!\n"
     ]
    },
    {
     "data": {
      "image/png": "[encoded data removed]",
      "text/plain": [
       "<Figure size 640x480 with 1 Axes>"
      ]
     },
     "metadata": {},
     "output_type": "display_data"
    }
   ],
   "source": [
    "\n",
    "print(\"\\n\\n{}\\n\\t{}\\n{}\".format('='*55,f'Train {m_obj.Name} model', '-'*55))\n",
    "\n",
    "conf.execute_training(\n",
    "    model, \n",
    "    data=train_dataset, \n",
    "    saveas=m_obj.Name+'_aug', \n",
    "    plot_history=INTERACTIVE_SESSION\n",
    ")\n"
   ]
  },
  {
   "cell_type": "code",
   "execution_count": 297,
   "metadata": {},
   "outputs": [
    {
     "name": "stdout",
     "output_type": "stream",
     "text": [
      "\n",
      "\n",
      "=======================================================\n",
      "\tEvaluate fnet model\n",
      "-------------------------------------------------------\n",
      "\u001b[1m32/32\u001b[0m \u001b[32m━━━━━━━━━━━━━━━━━━━━\u001b[0m\u001b[37m\u001b[0m \u001b[1m17s\u001b[0m 476ms/step\n",
      "evaluation elapsed time:___ 0.02___minutes\n",
      "{'Avg-precision': 0.14, 'f1-score(ODS)': 0.0, 'f1-score(OIS)': 0.0}\n"
     ]
    },
    {
     "data": {
      "image/png": "[encoded data removed]",
      "text/plain": [
       "<Figure size 2000x400 with 20 Axes>"
      ]
     },
     "metadata": {},
     "output_type": "display_data"
    }
   ],
   "source": [
    "\n",
    "\n",
    "print(\"\\n\\n{}\\n\\t{}\\n{}\".format('='*55,f'Evaluate {m_obj.Name} model', '-'*55))\n",
    "decoded_imgs = model.predict(x_test)\n",
    "scores = m_obj.evaluate_sklearn(y_test, decoded_imgs,report=True)\n",
    "print(scores)\n",
    "\n",
    "if INTERACTIVE_SESSION:\n",
    "    display_sample_images(x_test, decoded_imgs, conf.img_shape)\n",
    "    "
   ]
  }
 ],
 "metadata": {
  "kernelspec": {
   "display_name": "Python 3 (ipykernel)",
   "language": "python",
   "name": "python3"
  },
  "language_info": {
   "codemirror_mode": {
    "name": "ipython",
    "version": 3
   },
   "file_extension": ".py",
   "mimetype": "text/x-python",
   "name": "python",
   "nbconvert_exporter": "python",
   "pygments_lexer": "ipython3",
   "version": "3.10.14"
  }
 },
 "nbformat": 4,
 "nbformat_minor": 4
}
