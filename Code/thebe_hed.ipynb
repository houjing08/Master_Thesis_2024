{
 "cells": [
  {
   "cell_type": "code",
   "execution_count": 1,
   "metadata": {},
   "outputs": [],
   "source": [
    "%load_ext autoreload\n",
    "%autoreload 2"
   ]
  },
  {
   "cell_type": "code",
   "execution_count": 2,
   "metadata": {},
   "outputs": [],
   "source": [
    "from IPython.core.interactiveshell import InteractiveShell\n",
    "InteractiveShell.ast_node_interactivity = \"last\" # all | last | last_expr | none "
   ]
  },
  {
   "cell_type": "code",
   "execution_count": 3,
   "metadata": {},
   "outputs": [],
   "source": [
    "# for name in dir():\n",
    "#     if not name.startswith('_'):\n",
    "#         del globals()[name]"
   ]
  },
  {
   "cell_type": "code",
   "execution_count": 4,
   "metadata": {},
   "outputs": [],
   "source": [
    "# ============= Import required packaages | Define global variables ==============\n",
    "\n",
    "# Import all custom variables and modules\n",
    "from custom_classes_defs.preprocessing import *\n",
    "from custom_classes_defs.hed import *\n",
    "\n",
    "RND_STATE = 247\n",
    "BATCH_SIZE = 256\n",
    "EPOCHS = 100\n",
    "INTERACTIVE_SESSION = True\n",
    "\n",
    "FREEZE = 0\n",
    "\n",
    "keras.utils.set_random_seed(RND_STATE)\n",
    "from keras.utils import plot_model\n",
    "\n",
    "# -------------------------------------------------------\n"
   ]
  },
  {
   "cell_type": "code",
   "execution_count": null,
   "metadata": {},
   "outputs": [],
   "source": [
    "# Verify tensorflow/keras versions\n",
    "print(f\"tensorflow version: {tf.__version__}\")\n",
    "print(f\"keras version: {keras.__version__}\")\n",
    "\n",
    "# Verify CPU/GPU availability\n",
    "print(tf.config.list_physical_devices())\n",
    "NUM_GPU = len(tf.config.list_physical_devices('GPU'))\n",
    "print(f\"Number of GPUs assigned for computation: {NUM_GPU}\")\n",
    "\n",
    "if NUM_GPU:\n",
    "    # print GPU info\n",
    "    !nvidia-smi\n",
    "    \n",
    "if NUM_GPU>1:\n",
    "    strategy = tf.distribute.MirroredStrategy()\n",
    "    BATCH_SIZE = strategy.num_replicas_in_sync * BATCH_SIZE"
   ]
  },
  {
   "cell_type": "markdown",
   "metadata": {},
   "source": [
    "### Data preparation and model configurations"
   ]
  },
  {
   "cell_type": "code",
   "execution_count": null,
   "metadata": {},
   "outputs": [],
   "source": [
    "print(\"{}\\n\\t{}\\n{}\".format('='*55,'Data preparation and model configurations', '-'*55))\n",
    "# Images and annations for Thebe seismic data\n",
    "start = time.time()\n",
    "img_url = '../thebe_new/seismic'\n",
    "target_url = '../thebe_new/fault'\n",
    "seis = Thebe(img_url, target_url)\n",
    "    \n",
    "# Create datasets for respective data samples\n",
    "train_dataset = seis.data_generator('train', \n",
    "    batch_size=BATCH_SIZE, cache=NUM_GPU, weighted_loss=True\n",
    ") \n",
    "val_dataset = seis.data_generator('val', \n",
    "    batch_size=BATCH_SIZE, cache=NUM_GPU, weighted_loss=True\n",
    ")\n",
    "x_test, y_test = seis.data_generator('test', as_numpy=True)\n",
    "        \n",
    "print(\"Train Dataset:\", train_dataset)\n",
    "\n",
    "print(\"Size of training data: {}\".format(seis.train_size))\n",
    "print(\"Size of validation data: {}\".format(seis.validation_size))\n",
    "print(\"Size of test data: {}\".format(seis.test_size)) \n",
    "print(\"Data images tensor:\",train_dataset.element_spec[0])\n",
    "print(\"Data labels tensor:\",train_dataset.element_spec[1])\n",
    "print(\"Data weights tensor:\",train_dataset.element_spec[-1])\n",
    "\n",
    "print('...elapsed time: ___{:5.2f} minutes___'.format((time.time()-start) / 60))"
   ]
  },
  {
   "cell_type": "code",
   "execution_count": null,
   "metadata": {},
   "outputs": [],
   "source": [
    "if INTERACTIVE_SESSION:\n",
    "    # a = next(train_dataset.as_numpy_iterator())\n",
    "    # a = next(val_dataset.as_numpy_iterator())\n",
    "    # seis.display_sample_images(a[0], a[1], num_images=4)\n",
    "    # seis.display_sample_images(a[0], a[1], num_images=4)\n",
    "\n",
    "    seis.display_sample_images(x_test, y_test, num_images=4)\n",
    "    seis.display_sample_images(x_test, y_test, num_images=4)\n"
   ]
  },
  {
   "cell_type": "code",
   "execution_count": null,
   "metadata": {},
   "outputs": [],
   "source": [
    "# Model configurations\n",
    "conf = model_config(\n",
    "    epochs=EPOCHS,\n",
    "    batch_size=BATCH_SIZE,\n",
    "    shuffle=True,\n",
    "    scaling=1,\n",
    "    save_path=f'./Thebe/hed{FREEZE}',\n",
    "    img_shape=seis.img_size,\n",
    "    target_size=seis.img_size,\n",
    "    threshold=seis.threshold,\n",
    "    pos_label=seis.pos_label,\n",
    "    train_size=seis.train_size,\n",
    "    test_size=seis.test_size,\n",
    "    new_training_session=True,\n",
    "    multiple_gpu_device=(NUM_GPU>1),\n",
    "    validation_size=seis.validation_size\n",
    ")\n",
    "\n",
    "out_no = 5\n",
    "hed_out = f'output{out_no}_'\n",
    "callbacks = conf.callbacks(\n",
    "    chkpt_monitor=f'val_{hed_out}f1_score', \n",
    "    es_monitor=f'{hed_out}accuracy',\n",
    "    es_patience=EPOCHS // 4, \n",
    "    lr_monitor=f'val_{hed_out}loss'\n",
    ")\n",
    "\n",
    "conf.set( validation_data=val_dataset,  callbacks=callbacks )\n",
    "\n",
    "def compilation_step():\n",
    "    m1 = f1_score(positive_label=seis.pos_label, threshold=seis.threshold)\n",
    "    weighted_dict = dict([(f'output{k}','binary_crossentropy') for k in range(5)])\n",
    "    conf.set(\n",
    "        'compile', \n",
    "        metrics= ['accuracy', m1],\n",
    "        weighted_metrics=weighted_dict\n",
    "    )\n",
    "\n",
    "# conf.double_check(INTERACTIVE_SESSION)\n",
    "conf.info()"
   ]
  },
  {
   "cell_type": "markdown",
   "metadata": {},
   "source": [
    "### Build  model "
   ]
  },
  {
   "cell_type": "code",
   "execution_count": null,
   "metadata": {},
   "outputs": [],
   "source": [
    "print(\"\\n\\n{}\\n\\t{}\\n{}\".format('='*55,f'Build model', '-'*55))\n",
    "\n",
    "if conf.multiple_gpu_device:\n",
    "\n",
    "    # strategy = tf.distribute.MirroredStrategy()\n",
    "    print(f\"Number of devices: {strategy.num_replicas_in_sync}\")\n",
    "    with strategy.scope():\n",
    "\n",
    "        compilation_step()\n",
    "        m_obj = HED2D(model_arch=conf.model_arch, num_freeze=FREEZE)\n",
    "        model = m_obj.build_model()\n",
    "        model.compile(**conf.compile_args)\n",
    "\n",
    "else:\n",
    "\n",
    "    compilation_step()\n",
    "    m_obj = HED2D(model_arch=conf.model_arch, num_freeze=FREEZE)\n",
    "    model = m_obj.build_model()\n",
    "    model.compile(**conf.compile_args)\n",
    "\n",
    "\n",
    "model.summary()\n",
    "# keras.utils.plot_model(model, 'm_obj.png',show_shapes=True)\n",
    "# plot_model(model, 'm_obj.png',show_shapes=True)\n",
    "num_trainable_weights = sum([np.prod(w.shape) for w in model.trainable_weights])\n",
    "print(f\"Total number of parameters: {model.count_params():,}\")\n",
    "print(f\"Total trainable wieghts: {num_trainable_weights:,}\")\n",
    "print(f\"Total non-trainable wieghts: {model.count_params()-num_trainable_weights:,}\")\n",
    "\n"
   ]
  },
  {
   "cell_type": "markdown",
   "metadata": {},
   "source": [
    "### Train  model"
   ]
  },
  {
   "cell_type": "code",
   "execution_count": null,
   "metadata": {},
   "outputs": [],
   "source": [
    "print(\"\\n\\n{}\\n\\t{}\\n{}\".format('='*55,f'Train {m_obj.Name} model', '-'*55))\n",
    "\n",
    "model, train_history = \\\n",
    "    conf.execute_training(\n",
    "        model, \n",
    "        data=train_dataset, \n",
    "        plot_history=INTERACTIVE_SESSION,\n",
    "        metrics=[f'{hed_out}loss', f'val_{hed_out}loss'],\n",
    "        save_model_history=False\n",
    ")\n"
   ]
  },
  {
   "cell_type": "code",
   "execution_count": null,
   "metadata": {},
   "outputs": [],
   "source": [
    "if INTERACTIVE_SESSION:\n",
    "    for out_no in range(6):\n",
    "        hed_out = f'output{out_no}_'\n",
    "        show_convergence(train_history.history, [hed_out+'accuracy','val_'+hed_out+'accuracy'])"
   ]
  },
  {
   "cell_type": "code",
   "execution_count": null,
   "metadata": {},
   "outputs": [],
   "source": [
    "if INTERACTIVE_SESSION:\n",
    "    for out_no in range(6):\n",
    "        hed_out = f'output{out_no}_'\n",
    "        show_convergence(train_history.history, [hed_out+'f1_score','val_'+hed_out+'f1_score'])"
   ]
  },
  {
   "cell_type": "code",
   "execution_count": null,
   "metadata": {},
   "outputs": [],
   "source": [
    "if INTERACTIVE_SESSION:\n",
    "    for out_no in range(6):\n",
    "        hed_out = f'output{out_no}_'\n",
    "        show_convergence(train_history.history, [hed_out+'loss','val_'+hed_out+'loss'])"
   ]
  },
  {
   "cell_type": "code",
   "execution_count": null,
   "metadata": {},
   "outputs": [],
   "source": [
    "if INTERACTIVE_SESSION:\n",
    "    show_convergence(train_history.history, 'lr')"
   ]
  },
  {
   "cell_type": "markdown",
   "metadata": {},
   "source": [
    "### Evaluate and Vizualize"
   ]
  },
  {
   "cell_type": "code",
   "execution_count": null,
   "metadata": {},
   "outputs": [],
   "source": [
    "# print(\"\\n\\n{}\\n\\t{}\\n{}\".format('='*55,f'Evaluate {m_obj.Name} model', '-'*55))\n",
    "y_pred = model.predict(x_test, batch_size=BATCH_SIZE, verbose=2)\n"
   ]
  },
  {
   "cell_type": "code",
   "execution_count": null,
   "metadata": {},
   "outputs": [],
   "source": [
    "Num_outputs = len(y_pred)\n",
    "\n",
    "if INTERACTIVE_SESSION:\n",
    "    for out_no in range(Num_outputs):\n",
    "        print(f\"output {out_no}\")\n",
    "        seis.display_sample_images(x_test, y_test, y_pred[out_no])\n",
    "    "
   ]
  },
  {
   "cell_type": "code",
   "execution_count": null,
   "metadata": {},
   "outputs": [],
   "source": [
    "# model.evaluate(x=x_test, batch_size=BATCH_SIZE, verbose=2)\n"
   ]
  },
  {
   "cell_type": "code",
   "execution_count": null,
   "metadata": {},
   "outputs": [],
   "source": [
    "for out_no in range(Num_outputs):\n",
    "    print(f\"{'='*33}\\n\\toutput {out_no}\\n{'-'*33}\")\n",
    "    scores = conf.evaluate_sklearn(y_test, y_pred[out_no],report=True)\n",
    "    print(scores)"
   ]
  }
 ],
 "metadata": {
  "kernelspec": {
   "display_name": "Python 3 (ipykernel)",
   "language": "python",
   "name": "python3"
  },
  "language_info": {
   "codemirror_mode": {
    "name": "ipython",
    "version": 3
   },
   "file_extension": ".py",
   "mimetype": "text/x-python",
   "name": "python",
   "nbconvert_exporter": "python",
   "pygments_lexer": "ipython3",
   "version": "3.10.14"
  }
 },
 "nbformat": 4,
 "nbformat_minor": 4
}
