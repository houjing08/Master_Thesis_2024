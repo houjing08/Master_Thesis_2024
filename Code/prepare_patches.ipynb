{
 "cells": [
  {
   "cell_type": "code",
   "execution_count": null,
   "metadata": {},
   "outputs": [],
   "source": [
    "from custom_classes_defs.preprocessing import *"
   ]
  },
  {
   "cell_type": "markdown",
   "metadata": {},
   "source": [
    "Concatenate the original files of the seistrain/faulttrain into one big file (original dataset)"
   ]
  },
  {
   "cell_type": "code",
   "execution_count": 41,
   "metadata": {},
   "outputs": [],
   "source": [
    "folder_path = \"data_download/fault_train\"\n",
    "files = os.listdir(folder_path)\n",
    "file_contents_list = []\n",
    "\n",
    "for file_name in files:\n",
    "    file_path = os.path.join(folder_path, file_name)\n",
    "    \n",
    "    if os.path.isfile(file_path):\n",
    "        file_contents = np.load(file_path)\n",
    "        file_contents_list.append(file_contents)\n",
    "\n",
    "# Concatenate the arrays into one big array\n",
    "#combined_array = np.concatenate(file_contents_list, axis=0)\n",
    "#np.save(\"combined_faulttrain.npy\", combined_array)\n",
    "#np.savez_compressed('compressed_data.npz', combined_array)\n"
   ]
  },
  {
   "cell_type": "markdown",
   "metadata": {},
   "source": [
    "-------------\n",
    "Re-order the file in IL,Z,XL and normalization and save them as npz files,  \n",
    "after concatenate all into one big file"
   ]
  },
  {
   "cell_type": "code",
   "execution_count": 4,
   "metadata": {},
   "outputs": [],
   "source": [
    "def prepare_reorder(input_f1, input_f2, output_folder):\n",
    "    # Get a list of all files in the input folder\n",
    "    seismicfiles = os.listdir(input_f1)\n",
    "    faultfiles = os.listdir(input_f2)\n",
    "    \n",
    "    for file_name in seismicfiles:\n",
    "        print(file_name)\n",
    "        path = os.path.join(input_f1+file_name)\n",
    "        seismic = np.load(path)\n",
    "        # re-order IL,Z and XL\n",
    "        seismic = np.moveaxis(seismic,-2,-1)\n",
    "        # normalization step - make the range (0,1)in axis 1 and 2 direction\n",
    "        seismic = (seismic-seismic.min(axis=(1,2), keepdims=True))/(seismic.max(axis=(1,2), keepdims=True)-seismic.min(axis=(1,2), keepdims=True))\n",
    "        output_path = os.path.join(output_folder, file_name[:-4] + '_re.npz')\n",
    "        #np.save(output_path, seismic)\n",
    "        np.savez_compressed(output_path, seismic)\n",
    "    \n",
    "    for file_name in faultfiles:\n",
    "        print(file_name)\n",
    "        path = os.path.join(input_f2+file_name)\n",
    "        fault = np.load(path)\n",
    "        fault = np.moveaxis(fault,-2,-1)\n",
    "        output_fault_path = os.path.join(output_folder, file_name[:-4] + '_re.npz')\n",
    "        #np.save(output_fault_path, fault)\n",
    "        np.savez_compressed(output_fault_path, fault)"
   ]
  },
  {
   "cell_type": "code",
   "execution_count": 20,
   "metadata": {},
   "outputs": [
    {
     "name": "stdout",
     "output_type": "stream",
     "text": [
      "seistrain7.npy\n",
      "seistrain8.npy\n",
      "seistrain9.npy\n",
      "faulttrain7.npy\n",
      "faulttrain8.npy\n",
      "faulttrain9.npy\n"
     ]
    }
   ],
   "source": [
    "input_folder ='data_download/temp/seis_temp/'\n",
    "input_fault  = 'data_download/temp/fault_temp/'\n",
    "output_folder = 'data_download/temp/output'\n",
    "\n",
    "#prepare_reorder(input_folder,input_fault,output_folder)"
   ]
  },
  {
   "cell_type": "markdown",
   "metadata": {},
   "source": [
    "load all the npz files"
   ]
  },
  {
   "cell_type": "code",
   "execution_count": 3,
   "metadata": {},
   "outputs": [
    {
     "name": "stdout",
     "output_type": "stream",
     "text": [
      "['seistest1_re.npz', 'seistest2_re.npz', 'seistest3_re.npz', 'seistest4_re.npz', 'seistest5_re.npz', 'seistest6_re.npz', 'seistest7_re.npz']\n"
     ]
    }
   ],
   "source": [
    "folder_path = 'data_download/temp/seis_temp/'\n",
    "\n",
    "# List all files in the folder\n",
    "files = os.listdir(folder_path)\n",
    "print(files)"
   ]
  },
  {
   "cell_type": "code",
   "execution_count": 8,
   "metadata": {},
   "outputs": [],
   "source": [
    "# Load NPZ file\n",
    "#data = np.load('data_download/temp/seis_temp/faulttrain1_re.npz')\n",
    "\n",
    "# Concatenate or combine arrays in numpy\n",
    "#fault_array = np.concatenate([data[key] for key in data.keys()], axis=0)\n",
    "\n",
    "# Save the combined array as an NPZ file\n",
    "# np.save('faulttrain1_re.npy', fault_array)\n"
   ]
  },
  {
   "cell_type": "markdown",
   "metadata": {},
   "source": [
    "now combine files into one big file\n"
   ]
  },
  {
   "cell_type": "code",
   "execution_count": 55,
   "metadata": {},
   "outputs": [],
   "source": [
    "def load_npz(input_folder):\n",
    "    # print all files in the folder\n",
    "    files = os.listdir(input_folder)\n",
    "    print(files)\n",
    "    combine_seismic =[]\n",
    "    \n",
    "    for file_name in files:\n",
    "        print(file_name)\n",
    "        path = os.path.join(input_folder+file_name)\n",
    "        seismic = np.load(path)\n",
    "        # Concatenate or combine arrays\n",
    "        arrays = np.concatenate([seismic[key] for key in seismic.keys()], axis=0)\n",
    "        combine_seismic.append(arrays)\n",
    "        \n",
    "    # Concatenate the arrays into one big array\n",
    "    combined_array = np.concatenate(combine_seismic, axis=0)\n",
    "    np.save('data_download/temp/seis_temp/combined_seistrain_re.npy', combined_array)"
   ]
  },
  {
   "cell_type": "code",
   "execution_count": 56,
   "metadata": {},
   "outputs": [
    {
     "name": "stdout",
     "output_type": "stream",
     "text": [
      "['seistrain1_re.npz', 'seistrain2_re.npz', 'seistrain3_re.npz', 'seistrain4_re.npz', 'seistrain5_re.npz', 'seistrain6_re.npz', 'seistrain7_re.npz', 'seistrain8_re.npz', 'seistrain9_re.npz']\n",
      "seistrain1_re.npz\n",
      "seistrain2_re.npz\n",
      "seistrain3_re.npz\n",
      "seistrain4_re.npz\n",
      "seistrain5_re.npz\n",
      "seistrain6_re.npz\n",
      "seistrain7_re.npz\n",
      "seistrain8_re.npz\n",
      "seistrain9_re.npz\n"
     ]
    }
   ],
   "source": [
    "load_npz(folder_path)"
   ]
  },
  {
   "cell_type": "markdown",
   "metadata": {},
   "source": [
    "-------------"
   ]
  },
  {
   "cell_type": "code",
   "execution_count": 5,
   "metadata": {},
   "outputs": [
    {
     "name": "stdout",
     "output_type": "stream",
     "text": [
      "Data loading : 65.07822275161743 secs\n",
      "(900, 1537, 3174)\n",
      "(900, 1537, 3174)\n"
     ]
    }
   ],
   "source": [
    "t_start = time.time()\n",
    "\n",
    "# load training set\n",
    "\n",
    "seismic_path = 'data_download/combined_seistrain_re.npy'\n",
    "label_path = 'data_download/combined_faulttrain_re.npy'\n",
    "\n",
    "seismic = np.load(seismic_path)\n",
    "fault = np.load(label_path)\n",
    "t_end = time.time()\n",
    "\n",
    "print(\"Data loading :\", t_end- t_start, \"secs\")\n",
    "print(seismic.shape)\n",
    "print(fault.shape)"
   ]
  },
  {
   "cell_type": "code",
   "execution_count": 6,
   "metadata": {},
   "outputs": [
    {
     "name": "stdout",
     "output_type": "stream",
     "text": [
      "1.0 0.0 True False\n"
     ]
    }
   ],
   "source": [
    "print(seismic.max(),seismic.min(), fault.max(), fault.min())"
   ]
  },
  {
   "cell_type": "code",
   "execution_count": 11,
   "metadata": {},
   "outputs": [
    {
     "name": "stdout",
     "output_type": "stream",
     "text": [
      "276\n"
     ]
    }
   ],
   "source": [
    "IL, Z, XL = fault.shape\n",
    "\n",
    "im_height = Z\n",
    "im_width = XL\n",
    "splitsize = 96\n",
    "stepsize = 48\n",
    "overlapsize = splitsize-stepsize\n",
    "pixelThre = int(0.03*splitsize*splitsize) # pixel threshold sets as 3% of total number of pixels\n",
    "print(pixelThre)"
   ]
  },
  {
   "cell_type": "code",
   "execution_count": 12,
   "metadata": {},
   "outputs": [
    {
     "name": "stdout",
     "output_type": "stream",
     "text": [
      "horizontal_splits_number 66\n",
      "width_after_pad 3216\n",
      "left_pad,right_pad 21 21\n",
      "vertical_splits_number 32\n",
      "height_after_pad 1584\n",
      "top_pad,bottom_pad 23 24\n"
     ]
    }
   ],
   "source": [
    "horizontal_splits_number = int(np.ceil((im_width-overlapsize)/stepsize))\n",
    "print(\"horizontal_splits_number\", horizontal_splits_number)\n",
    "width_after_pad = stepsize*horizontal_splits_number+overlapsize\n",
    "print(\"width_after_pad\", width_after_pad)\n",
    "left_pad = int((width_after_pad-im_width)/2)\n",
    "right_pad = width_after_pad-im_width-left_pad\n",
    "print(\"left_pad,right_pad\",left_pad,right_pad)\n",
    "\n",
    "vertical_splits_number = int(np.ceil((im_height-overlapsize)/stepsize))\n",
    "print(\"vertical_splits_number\",vertical_splits_number)\n",
    "height_after_pad = stepsize*vertical_splits_number+overlapsize\n",
    "print(\"height_after_pad\",height_after_pad)\n",
    "top_pad = int((height_after_pad-im_height)/2)\n",
    "bottom_pad = height_after_pad-im_height-top_pad\n",
    "print(\"top_pad,bottom_pad\", top_pad,bottom_pad)"
   ]
  },
  {
   "cell_type": "code",
   "execution_count": 14,
   "metadata": {},
   "outputs": [
    {
     "name": "stdout",
     "output_type": "stream",
     "text": [
      "181029\n",
      "181029\n",
      "(96, 96)\n",
      "read images in 278.8198833465576 sec\n"
     ]
    }
   ],
   "source": [
    "t_start = time.time()\n",
    "X = []   # seismic\n",
    "Y = []   # fault\n",
    "for i in range(0,900,1):\n",
    "    mask = fault[i]\n",
    "    splits = split_Image(mask, True,top_pad,bottom_pad,left_pad,right_pad,splitsize,stepsize,vertical_splits_number,horizontal_splits_number)\n",
    "#     print(splits.shape)\n",
    "    t = (splits.sum((1,2)) < pixelThre)\n",
    "    no_label_element_index = list(compress(range(len(t)), t))\n",
    "    # get all the indexes of the no label pieces by adding elements in axis 2 and 3.\n",
    "    splits = np.delete(splits, no_label_element_index,0) # delete element i along axis 0\n",
    "#     print(\"splits.shape\", splits.shape)\n",
    "    Y.extend(splits)\n",
    "    \n",
    "    img = seismic[i]\n",
    "    splits = split_Image(img, True,top_pad,bottom_pad,left_pad,right_pad,splitsize,stepsize,vertical_splits_number,horizontal_splits_number)\n",
    "    splits = np.delete(splits, no_label_element_index,0) # delete element i along axis 0\n",
    "#     print(\"splits.shape\", splits.shape)\n",
    "    X.extend(splits)\n",
    "#     break\n",
    "\n",
    "print(len(Y))\n",
    "print(len(X))\n",
    "print(X[0].shape)\n",
    "print(\"read images in {} sec\".format(time.time()-t_start))"
   ]
  },
  {
   "cell_type": "code",
   "execution_count": 15,
   "metadata": {},
   "outputs": [
    {
     "name": "stdout",
     "output_type": "stream",
     "text": [
      "float64\n",
      "float32\n"
     ]
    }
   ],
   "source": [
    "print(X[0].dtype)\n",
    "X = np.asarray(X, dtype=np.float32)\n",
    "Y = np.asarray(Y, dtype=np.float32)\n",
    "print(X[0].dtype)"
   ]
  },
  {
   "cell_type": "code",
   "execution_count": 20,
   "metadata": {},
   "outputs": [],
   "source": [
    "# check if the folder is ready to save the patches\n",
    "\n",
    "directory = \"data_download/processed_patches/seismic/train\"\n",
    "if not os.path.exists(directory):\n",
    "    os.makedirs(directory)\n",
    "directory = \"data_download/processed_patches/fault/train\"\n",
    "if not os.path.exists(directory):\n",
    "    os.makedirs(directory)"
   ]
  },
  {
   "cell_type": "code",
   "execution_count": 21,
   "metadata": {},
   "outputs": [],
   "source": [
    "processed_data = 'data_download/processed_patches'"
   ]
  },
  {
   "cell_type": "code",
   "execution_count": 22,
   "metadata": {},
   "outputs": [],
   "source": [
    "for i in range(len(X)):\n",
    "    np.save(\"{}/seismic/train/{}.npy\".format(processed_data, i),X[i])\n",
    "    np.save(\"{}/fault/train/{}.npy\".format(processed_data, i),Y[i])"
   ]
  },
  {
   "cell_type": "markdown",
   "metadata": {},
   "source": [
    "---------\n",
    "validation dataset preparation"
   ]
  },
  {
   "cell_type": "code",
   "execution_count": 23,
   "metadata": {},
   "outputs": [
    {
     "name": "stdout",
     "output_type": "stream",
     "text": [
      "['seisval1.npy', 'seisval2.npy']\n"
     ]
    }
   ],
   "source": [
    "folder_path = 'data_download/seis_val'\n",
    "\n",
    "# List all files in the folder\n",
    "files = os.listdir(folder_path)\n",
    "print(files)\n"
   ]
  },
  {
   "cell_type": "code",
   "execution_count": 24,
   "metadata": {},
   "outputs": [
    {
     "name": "stdout",
     "output_type": "stream",
     "text": [
      "seisval1.npy\n",
      "seisval2.npy\n",
      "faultval1.npy\n",
      "faultval2.npy\n"
     ]
    }
   ],
   "source": [
    "input_folder ='data_download/temp/seis_temp/'\n",
    "input_fault  = 'data_download/temp/fault_temp/'\n",
    "output_folder = 'data_download/temp/output'\n",
    "\n",
    "prepare_reorder(input_folder,input_fault,output_folder)"
   ]
  },
  {
   "cell_type": "code",
   "execution_count": 30,
   "metadata": {},
   "outputs": [
    {
     "name": "stdout",
     "output_type": "stream",
     "text": [
      "['faultval1_re.npz', 'faultval2_re.npz']\n"
     ]
    }
   ],
   "source": [
    "folder_path = 'data_download/temp/fault_temp/'\n",
    "\n",
    "# List all files in the folder\n",
    "files = os.listdir(folder_path)\n",
    "print(files)\n"
   ]
  },
  {
   "cell_type": "code",
   "execution_count": 32,
   "metadata": {},
   "outputs": [],
   "source": [
    "def load_npz(input_folder):\n",
    "    # print all files in the folder\n",
    "    files = os.listdir(input_folder)\n",
    "    print(files)\n",
    "    combine_seismic =[]\n",
    "    \n",
    "    for file_name in files:\n",
    "        print(file_name)\n",
    "        path = os.path.join(input_folder+file_name)\n",
    "        seismic = np.load(path)\n",
    "        # Concatenate or combine arrays\n",
    "        arrays = np.concatenate([seismic[key] for key in seismic.keys()], axis=0)\n",
    "        combine_seismic.append(arrays)\n",
    "        \n",
    "    # Concatenate the arrays into one big array\n",
    "    combined_array = np.concatenate(combine_seismic, axis=0)\n",
    "    np.save('data_download/temp/fault_temp/combined_faultval_re.npy', combined_array)"
   ]
  },
  {
   "cell_type": "code",
   "execution_count": 33,
   "metadata": {},
   "outputs": [
    {
     "name": "stdout",
     "output_type": "stream",
     "text": [
      "['faultval1_re.npz', 'faultval2_re.npz']\n",
      "faultval1_re.npz\n",
      "faultval2_re.npz\n"
     ]
    }
   ],
   "source": [
    "load_npz(folder_path)"
   ]
  },
  {
   "cell_type": "code",
   "execution_count": 51,
   "metadata": {},
   "outputs": [
    {
     "name": "stdout",
     "output_type": "stream",
     "text": [
      "Data loading : 9.374779224395752 secs\n",
      "(200, 1537, 3174)\n",
      "(200, 1537, 3174)\n"
     ]
    }
   ],
   "source": [
    "t_start = time.time()\n",
    "\n",
    "# load validation set\n",
    "\n",
    "seismic_path = 'data_download/combined_seisval_re.npy'\n",
    "label_path = 'data_download/combined_faultval_re.npy'\n",
    "\n",
    "seismic = np.load(seismic_path)\n",
    "fault = np.load(label_path)\n",
    "\n",
    "t_end = time.time()\n",
    "print(\"Data loading :\", t_end- t_start, \"secs\")\n",
    "print(seismic.shape)\n",
    "print(fault.shape)"
   ]
  },
  {
   "cell_type": "code",
   "execution_count": 36,
   "metadata": {},
   "outputs": [
    {
     "name": "stdout",
     "output_type": "stream",
     "text": [
      "1.0 0.0 True False\n"
     ]
    }
   ],
   "source": [
    "print(seismic.max(),seismic.min(), fault.max(), fault.min())"
   ]
  },
  {
   "cell_type": "code",
   "execution_count": 37,
   "metadata": {},
   "outputs": [
    {
     "name": "stdout",
     "output_type": "stream",
     "text": [
      "64317\n",
      "64317\n",
      "(96, 96)\n",
      "read images in 18.106667518615723 sec\n"
     ]
    }
   ],
   "source": [
    "t_start = time.time()\n",
    "X = []\n",
    "Y = []\n",
    "for i in range(0,200,1):\n",
    "    mask = fault[i]\n",
    "    splits = split_Image(mask, True,top_pad,bottom_pad,left_pad,right_pad,splitsize,stepsize,vertical_splits_number,horizontal_splits_number)\n",
    "#     print(splits.shape)\n",
    "    t = (splits.sum((1,2)) < pixelThre)\n",
    "    no_label_element_index = list(compress(range(len(t)), t))\n",
    "    # get all the indexes of the no label pieces by adding elements in axis 2 and 3.\n",
    "    splits = np.delete(splits, no_label_element_index,0) # delete element i along axis 0\n",
    "#     print(\"splits.shape\", splits.shape)\n",
    "    Y.extend(splits)\n",
    "    \n",
    "    img = seismic[i]\n",
    "    splits = split_Image(img, True,top_pad,bottom_pad,left_pad,right_pad,splitsize,stepsize,vertical_splits_number,horizontal_splits_number)\n",
    "    splits = np.delete(splits, no_label_element_index,0) # delete element i along axis 0\n",
    "    X.extend(splits)\n",
    "\n",
    "print(len(Y))\n",
    "print(len(X))\n",
    "print(X[0].shape)\n",
    "print(\"read images in {} sec\".format(time.time()-t_start))"
   ]
  },
  {
   "cell_type": "code",
   "execution_count": 38,
   "metadata": {},
   "outputs": [],
   "source": [
    "X = np.asarray(X, dtype=np.float32)\n",
    "Y = np.asarray(Y, dtype=np.float32)"
   ]
  },
  {
   "cell_type": "code",
   "execution_count": 39,
   "metadata": {},
   "outputs": [],
   "source": [
    "# check if the folder is ready to save the patches\n",
    "\n",
    "directory = \"data_download/processed_patches/seismic/val\"\n",
    "if not os.path.exists(directory):\n",
    "    os.makedirs(directory)\n",
    "directory = \"data_download/processed_patches/fault/val\"\n",
    "if not os.path.exists(directory):\n",
    "    os.makedirs(directory)"
   ]
  },
  {
   "cell_type": "code",
   "execution_count": 40,
   "metadata": {},
   "outputs": [],
   "source": [
    "processed_data = 'data_download/processed_patches'\n",
    "for i in range(len(X)):\n",
    "    np.save(\"{}/seismic/val/{}.npy\".format(processed_data, i),X[i])\n",
    "    np.save(\"{}/fault/val/{}.npy\".format(processed_data, i),Y[i])"
   ]
  },
  {
   "cell_type": "markdown",
   "metadata": {},
   "source": [
    "---------\n",
    "Test dataset preparation"
   ]
  },
  {
   "cell_type": "code",
   "execution_count": 41,
   "metadata": {},
   "outputs": [
    {
     "name": "stdout",
     "output_type": "stream",
     "text": [
      "seistest1.npy\n",
      "seistest2.npy\n",
      "seistest3.npy\n",
      "seistest4.npy\n",
      "seistest5.npy\n",
      "seistest6.npy\n",
      "seistest7.npy\n",
      "faulttest1.npy\n",
      "faulttest2.npy\n",
      "faulttest3.npy\n",
      "faulttest4.npy\n",
      "faulttest5.npy\n",
      "faulttest6.npy\n",
      "faulttest7.npy\n"
     ]
    }
   ],
   "source": [
    "input_folder ='data_download/temp/seis_temp/'\n",
    "input_fault  = 'data_download/temp/fault_temp/'\n",
    "output_folder = 'data_download/temp/output'\n",
    "\n",
    "prepare_reorder(input_folder,input_fault,output_folder)"
   ]
  },
  {
   "cell_type": "code",
   "execution_count": 4,
   "metadata": {},
   "outputs": [
    {
     "name": "stdout",
     "output_type": "stream",
     "text": [
      "['seistest1_re.npz', 'seistest2_re.npz', 'seistest3_re.npz', 'seistest4_re.npz', 'seistest5_re.npz', 'seistest6_re.npz', 'seistest7_re.npz']\n"
     ]
    }
   ],
   "source": [
    "folder_path = 'data_download/temp/seis_temp/'\n",
    "\n",
    "# List all files in the folder\n",
    "files = os.listdir(folder_path)\n",
    "print(files)"
   ]
  },
  {
   "cell_type": "code",
   "execution_count": 47,
   "metadata": {},
   "outputs": [],
   "source": [
    "def load_npz(input_folder):\n",
    "    # print all files in the folder\n",
    "    files = os.listdir(input_folder)\n",
    "    print(files)\n",
    "    combine_seismic =[]\n",
    "    \n",
    "    for file_name in files:\n",
    "        print(file_name)\n",
    "        path = os.path.join(input_folder+file_name)\n",
    "        seismic = np.load(path)\n",
    "        # Concatenate or combine arrays\n",
    "        arrays = np.concatenate([seismic[key] for key in seismic.keys()], axis=0)\n",
    "        combine_seismic.append(arrays)\n",
    "        \n",
    "    # Concatenate the arrays into one big array\n",
    "    combined_array = np.concatenate(combine_seismic, axis=0)\n",
    "    np.save('data_download/temp/seis_temp/combined_seistest_re.npy', combined_array)"
   ]
  },
  {
   "cell_type": "code",
   "execution_count": 48,
   "metadata": {},
   "outputs": [
    {
     "name": "stdout",
     "output_type": "stream",
     "text": [
      "['seistest1_re.npz', 'seistest2_re.npz', 'seistest3_re.npz', 'seistest4_re.npz', 'seistest5_re.npz', 'seistest6_re.npz', 'seistest7_re.npz']\n",
      "seistest1_re.npz\n",
      "seistest2_re.npz\n",
      "seistest3_re.npz\n",
      "seistest4_re.npz\n",
      "seistest5_re.npz\n",
      "seistest6_re.npz\n",
      "seistest7_re.npz\n"
     ]
    }
   ],
   "source": [
    "load_npz(folder_path)"
   ]
  },
  {
   "cell_type": "code",
   "execution_count": 5,
   "metadata": {},
   "outputs": [
    {
     "name": "stdout",
     "output_type": "stream",
     "text": [
      "Data loading : 55.88553428649902 secs\n",
      "(703, 1537, 3174)\n",
      "(703, 1537, 3174)\n"
     ]
    }
   ],
   "source": [
    "t_start = time.time()\n",
    "\n",
    "# load test set\n",
    "seismic_path = 'data_download/combined_seistest_re.npy'\n",
    "label_path = 'data_download/combined_faulttest_re.npy'\n",
    "\n",
    "seismic = np.load(seismic_path)\n",
    "fault = np.load(label_path)\n",
    "\n",
    "t_end = time.time()\n",
    "print(\"Data loading :\", t_end- t_start, \"secs\")\n",
    "print(seismic.shape)\n",
    "print(fault.shape)"
   ]
  },
  {
   "cell_type": "code",
   "execution_count": 6,
   "metadata": {},
   "outputs": [
    {
     "name": "stdout",
     "output_type": "stream",
     "text": [
      "1.0 0.0 True False\n"
     ]
    }
   ],
   "source": [
    "print(seismic.max(),seismic.min(), fault.max(), fault.min())"
   ]
  },
  {
   "cell_type": "code",
   "execution_count": null,
   "metadata": {},
   "outputs": [],
   "source": [
    "t_start = time.time()\n",
    "X = []   # seismic\n",
    "Y = []   # fault\n",
    "for i in range(0,703,1):\n",
    "    mask = fault[i]\n",
    "    splits = split_Image(mask, True,top_pad,bottom_pad,left_pad,right_pad,splitsize,stepsize,vertical_splits_number,horizontal_splits_number)\n",
    "#     print(splits.shape)\n",
    "    t = (splits.sum((1,2)) < pixelThre)\n",
    "    no_label_element_index = list(compress(range(len(t)), t))\n",
    "    # get all the indexes of the no label pieces by adding elements in axis 2 and 3.\n",
    "    splits = np.delete(splits, no_label_element_index,0) # delete element i along axis 0\n",
    "#     print(\"splits.shape\", splits.shape)\n",
    "    Y.extend(splits)\n",
    "    \n",
    "    img = seismic[i]\n",
    "    splits = split_Image(img, True,top_pad,bottom_pad,left_pad,right_pad,splitsize,stepsize,vertical_splits_number,horizontal_splits_number)\n",
    "    splits = np.delete(splits, no_label_element_index,0) # delete element i along axis 0\n",
    "#     print(\"splits.shape\", splits.shape)\n",
    "    X.extend(splits)\n",
    "#     break\n",
    "\n",
    "print(len(Y))\n",
    "print(len(X))\n",
    "print(X[0].shape)\n",
    "print(\"read images in {} sec\".format(time.time()-t_start))"
   ]
  },
  {
   "cell_type": "code",
   "execution_count": 15,
   "metadata": {},
   "outputs": [],
   "source": [
    "# check if the folder is ready to save the patches\n",
    "\n",
    "directory = \"data_download/processed_patches/seismic/test\"\n",
    "if not os.path.exists(directory):\n",
    "    os.makedirs(directory)\n",
    "directory = \"data_download/processed_patches/fault/test\"\n",
    "if not os.path.exists(directory):\n",
    "    os.makedirs(directory)"
   ]
  },
  {
   "cell_type": "code",
   "execution_count": 16,
   "metadata": {},
   "outputs": [],
   "source": [
    "processed_data = 'data_download/processed_patches'\n",
    "for i in range(len(X)):\n",
    "    np.save(\"{}/seismic/test/{}.npy\".format(processed_data, i),X[i])\n",
    "    np.save(\"{}/fault/test/{}.npy\".format(processed_data, i),Y[i])"
   ]
  },
  {
   "cell_type": "code",
   "execution_count": 58,
   "metadata": {},
   "outputs": [],
   "source": [
    "#processed_data = 'data_download/processed_patches'\n",
    "\n",
    "# split the test data (0,703) with the step of 5, generating 140 patches\n",
    "\n",
    "#count = 0\n",
    "#for i in range(0,len(seismic),5):\n",
    "#    np.save(\"{}/seismic/test/{}.npy\".format(processed_data, count),seismic[i])\n",
    "#    np.save(\"{}/fault/test/{}.npy\".format(processed_data, count),fault[i])\n",
    "#    count = count + 1"
   ]
  },
  {
   "cell_type": "markdown",
   "metadata": {},
   "source": [
    "--------------\n",
    "visualize the patches (training, validation,test)"
   ]
  },
  {
   "cell_type": "code",
   "execution_count": 7,
   "metadata": {},
   "outputs": [],
   "source": [
    "processed_data = 'data_download/processed_patches'"
   ]
  },
  {
   "cell_type": "code",
   "execution_count": 18,
   "metadata": {},
   "outputs": [
    {
     "data": {
      "text/plain": [
       "(-0.5, 95.5, 95.5, -0.5)"
      ]
     },
     "execution_count": 18,
     "metadata": {},
     "output_type": "execute_result"
    },
    {
     "data": {
      "image/png": "[encoded data removed]",
      "text/plain": [
       "<Figure size 400x400 with 1 Axes>"
      ]
     },
     "metadata": {},
     "output_type": "display_data"
    }
   ],
   "source": [
    "i = 1000\n",
    "seis = np.load(\"{}/seismic/val/{}.npy\".format(processed_data, i))\n",
    "mask = np.load(\"{}/fault/val/{}.npy\".format(processed_data, i))\n",
    "plt.figure(figsize=(4,4))\n",
    "plt.imshow(seis,'seismic')\n",
    "plt.imshow(mask, 'gray', alpha=0.7)\n",
    "plt.axis('off')"
   ]
  },
  {
   "cell_type": "code",
   "execution_count": 63,
   "metadata": {},
   "outputs": [
    {
     "data": {
      "text/plain": [
       "(-0.5, 95.5, 95.5, -0.5)"
      ]
     },
     "execution_count": 63,
     "metadata": {},
     "output_type": "execute_result"
    },
    {
     "data": {
      "image/png": "[encoded data removed]",
      "text/plain": [
       "<Figure size 400x400 with 1 Axes>"
      ]
     },
     "metadata": {},
     "output_type": "display_data"
    }
   ],
   "source": [
    "i = 233\n",
    "seis = np.load(\"{}/seismic/train/{}.npy\".format(processed_data, i))\n",
    "mask = np.load(\"{}/fault/train/{}.npy\".format(processed_data, i))\n",
    "plt.figure(figsize=(4,4))\n",
    "plt.imshow(seis,'seismic')\n",
    "plt.imshow(mask, 'gray', alpha=0.7)\n",
    "plt.axis('off')"
   ]
  },
  {
   "cell_type": "code",
   "execution_count": 31,
   "metadata": {},
   "outputs": [
    {
     "data": {
      "text/plain": [
       "(-0.5, 95.5, 95.5, -0.5)"
      ]
     },
     "execution_count": 31,
     "metadata": {},
     "output_type": "execute_result"
    },
    {
     "data": {
      "image/png": "[encoded data removed]",
      "text/plain": [
       "<Figure size 400x400 with 1 Axes>"
      ]
     },
     "metadata": {},
     "output_type": "display_data"
    }
   ],
   "source": [
    "i = 1000\n",
    "seis = np.load(\"{}/seismic/test/{}.npy\".format(processed_data, i))\n",
    "mask = np.load(\"{}/fault/test/{}.npy\".format(processed_data, i))\n",
    "plt.figure(figsize=(4,4))\n",
    "plt.imshow(seis,'seismic')\n",
    "#plt.imshow(mask, 'gray', alpha=0.7)\n",
    "plt.axis('off')"
   ]
  }
 ],
 "metadata": {
  "kernelspec": {
   "display_name": "Python 3",
   "language": "python",
   "name": "python3"
  },
  "language_info": {
   "codemirror_mode": {
    "name": "ipython",
    "version": 3
   },
   "file_extension": ".py",
   "mimetype": "text/x-python",
   "name": "python",
   "nbconvert_exporter": "python",
   "pygments_lexer": "ipython3",
   "version": "3.11.5"
  }
 },
 "nbformat": 4,
 "nbformat_minor": 2
}
