{
 "cells": [
  {
   "cell_type": "code",
   "execution_count": 1,
   "metadata": {},
   "outputs": [],
   "source": [
    "%load_ext autoreload\n",
    "%autoreload 2"
   ]
  },
  {
   "cell_type": "code",
   "execution_count": 2,
   "metadata": {},
   "outputs": [],
   "source": [
    "from IPython.core.interactiveshell import InteractiveShell\n",
    "InteractiveShell.ast_node_interactivity = \"last\" # all | last | last_expr | none "
   ]
  },
  {
   "cell_type": "code",
   "execution_count": 4,
   "metadata": {},
   "outputs": [],
   "source": [
    "# ============= Import required packaages | Define global variables ==============\n",
    "\n",
    "from custom_classes_defs.preprocessing import *\n",
    "# from custom_classes_defs.unet0 import * \n",
    "# from custom_classes_defs.Unet_like import *  \n",
    "from custom_classes_defs.unet import *  \n",
    "# from custom_classes_defs.fnet0 import *\n",
    "# from custom_classes_defs.fnet_like import *\n",
    "# from custom_classes_defs.fnet import *\n",
    "\n",
    "RND_STATE = 247\n",
    "BATCH_SIZE = 512\n",
    "EPOCHS = 100\n",
    "\n",
    "SAVE_PATH='./Thebe3/unet'\n",
    "keras.utils.set_random_seed(RND_STATE)\n",
    "from keras.utils import plot_model\n",
    "\n",
    "INTERACTIVE_SESSION = True\n",
    "\n",
    "# -------------------------------------------------------"
   ]
  },
  {
   "cell_type": "code",
   "execution_count": null,
   "metadata": {},
   "outputs": [],
   "source": [
    "# Verify tensorflow/keras versions\n",
    "print(f\"tensorflow version: {tf.__version__}\")\n",
    "print(f\"keras version: {keras.__version__}\")\n",
    "\n",
    "# Verify CPU/GPU availability\n",
    "print(tf.config.list_physical_devices())\n",
    "NUM_GPU = len(tf.config.list_physical_devices('GPU'))\n",
    "print(f\"Number of GPUs assigned for computation: {NUM_GPU}\")\n",
    "\n",
    "# if NUM_GPU:\n",
    "#     # print GPU info\n",
    "#     !nvidia-smi\n",
    "    \n",
    "if NUM_GPU>1:\n",
    "    strategy = tf.distribute.MirroredStrategy()\n",
    "    # strategy = tf.distribute.MultiWorkerMirroredStrategy()\n",
    "    BATCH_SIZE = strategy.num_replicas_in_sync * BATCH_SIZE"
   ]
  },
  {
   "cell_type": "markdown",
   "metadata": {},
   "source": [
    "### Data preparation and model configurations"
   ]
  },
  {
   "cell_type": "code",
   "execution_count": null,
   "metadata": {},
   "outputs": [],
   "source": [
    "print(\"{}\\n\\t{}\\n{}\".format('='*55,'Data preparation and model configurations', '-'*55))\n",
    "# Images and annations for Thebe seismic data\n",
    "start = time.time()\n",
    "img_url = '../thebe_new/seismic'\n",
    "target_url = '../thebe_new/fault'\n",
    "seis = Thebe(img_url, target_url)\n",
    "    \n",
    "# Create datasets for respective data samples and labels\n",
    "x_test, y_test = seis.data_generator('test', as_numpy=True)\n",
    "        \n",
    "print(\"Size of test data: {}\".format(seis.test_size)) \n",
    "\n",
    "print('...elapsed time: ___{:5.2f} minutes___'.format((time.time()-start) / 60))"
   ]
  },
  {
   "cell_type": "code",
   "execution_count": null,
   "metadata": {},
   "outputs": [],
   "source": [
    "if INTERACTIVE_SESSION:\n",
    "    seis.display_sample_images(x_test, y_test, num_images=4)\n",
    "    seis.display_sample_images(x_test, y_test, num_images=4)\n"
   ]
  },
  {
   "cell_type": "code",
   "execution_count": null,
   "metadata": {},
   "outputs": [],
   "source": [
    "# Model configurations\n",
    "conf = model_config(\n",
    "    epochs=EPOCHS,\n",
    "    batch_size=BATCH_SIZE,\n",
    "    shuffle=True,\n",
    "    scaling=1,\n",
    "    save_path=SAVE_PATH,\n",
    "    img_shape=seis.img_size,\n",
    "    target_size=seis.img_size,\n",
    "    threshold=seis.threshold,\n",
    "    pos_label=seis.pos_label,\n",
    "    train_size=seis.train_size,\n",
    "    test_size=seis.test_size,\n",
    "    multiple_gpu_device=(NUM_GPU>1),\n",
    "    validation_size=seis.validation_size,\n",
    "    augmentation=True\n",
    ")\n",
    "\n",
    "assert not(conf.new_training_session)\n",
    "\n",
    "conf.info()"
   ]
  },
  {
   "cell_type": "markdown",
   "metadata": {},
   "source": [
    "### Build  model "
   ]
  },
  {
   "cell_type": "code",
   "execution_count": null,
   "metadata": {},
   "outputs": [],
   "source": [
    "# select model\n",
    "if 'UNET2D' in dir():\n",
    "    m_obj = UNET2D(panel_sizes=[32,64,128,256], model_arch=conf.model_arch)\n",
    "        \n",
    "elif 'FNET2D' in dir():\n",
    "    m_obj = FNET2D(panel_sizes=[32,64,128,256], model_arch=conf.model_arch)\n",
    "\n",
    "# modify accordingly (to distinguish U-Net0 and U-Net1)\n",
    "Net0 = conf.save_path.__contains__('00') # according to your path names\n",
    "if Net0 and hasattr(m_obj, 'add_residual'):\n",
    "    m_obj.add_residual = False"
   ]
  },
  {
   "cell_type": "code",
   "execution_count": null,
   "metadata": {},
   "outputs": [],
   "source": [
    "print(\"\\n\\n{}\\n\\t{}\\n{}\".format('='*55,f'Build model', '-'*55))\n",
    "\n",
    "if conf.multiple_gpu_device:\n",
    "\n",
    "    print(f\"Number of devices: {strategy.num_replicas_in_sync}\")\n",
    "\n",
    "model = m_obj.build_model()\n",
    "\n",
    "\n",
    "# model.summary()\n",
    "# keras.utils.plot_model(model, 'm_obj.png',show_shapes=True)\n",
    "# plot_model(model, 'm_obj.png',show_shapes=True)\n",
    "num_trainable_weights = sum([np.prod(w.shape) for w in model.trainable_weights])\n",
    "print(f\"Total number of parameters: {model.count_params():,}\")\n",
    "print(f\"Total trainable wieghts: {num_trainable_weights:,}\")\n",
    "print(f\"Total non-trainable wieghts: {model.count_params()-num_trainable_weights:,}\")\n",
    "\n"
   ]
  },
  {
   "cell_type": "markdown",
   "metadata": {},
   "source": [
    "### Train  model"
   ]
  },
  {
   "cell_type": "code",
   "execution_count": null,
   "metadata": {},
   "outputs": [],
   "source": [
    "print(\"\\n\\n{}\\n\\t{}\\n{}\".format('='*55,f'Train {m_obj.Name} model', '-'*55))\n",
    "\n",
    "model, train_history = \\\n",
    "    conf.execute_training(\n",
    "        model, \n",
    "        data=None, \n",
    "        plot_history=INTERACTIVE_SESSION\n",
    ")\n"
   ]
  },
  {
   "cell_type": "code",
   "execution_count": null,
   "metadata": {},
   "outputs": [],
   "source": [
    "if INTERACTIVE_SESSION:\n",
    "    show_convergence(train_history.history, ['accuracy','val_accuracy'])"
   ]
  },
  {
   "cell_type": "code",
   "execution_count": null,
   "metadata": {},
   "outputs": [],
   "source": [
    "if INTERACTIVE_SESSION:\n",
    "    show_convergence(train_history.history, ['f1_score','val_f1_score'])"
   ]
  },
  {
   "cell_type": "code",
   "execution_count": null,
   "metadata": {},
   "outputs": [],
   "source": [
    "if INTERACTIVE_SESSION:\n",
    "    show_convergence(train_history.history, 'lr')"
   ]
  },
  {
   "cell_type": "markdown",
   "metadata": {},
   "source": [
    "### Evaluate and Vizualize"
   ]
  },
  {
   "cell_type": "code",
   "execution_count": null,
   "metadata": {},
   "outputs": [],
   "source": [
    "print(\"\\n\\n{}\\n\\t{}\\n{}\".format('='*55,f'Evaluate {m_obj.Name} model', '-'*55))\n",
    "start = time.time()\n",
    "y_pred = model.predict(x_test, batch_size=BATCH_SIZE, verbose=2)\n",
    "\n",
    "start = time.time() - start\n",
    "print(\"evaluation elapsed time:___{:5.2f}___minutes\" \\\n",
    "                .format(start/60))\n"
   ]
  },
  {
   "cell_type": "code",
   "execution_count": null,
   "metadata": {},
   "outputs": [],
   "source": [
    "\n",
    "if INTERACTIVE_SESSION:\n",
    "    seis.display_sample_images(x_test, y_test, y_pred)\n",
    "    "
   ]
  },
  {
   "cell_type": "code",
   "execution_count": null,
   "metadata": {},
   "outputs": [],
   "source": [
    "\n",
    "scores = conf.evaluate_sklearn(y_test, y_pred,report=True)\n",
    "print(scores)"
   ]
  }
 ],
 "metadata": {
  "kernelspec": {
   "display_name": "Python 3 (ipykernel)",
   "language": "python",
   "name": "python3"
  },
  "language_info": {
   "codemirror_mode": {
    "name": "ipython",
    "version": 3
   },
   "file_extension": ".py",
   "mimetype": "text/x-python",
   "name": "python",
   "nbconvert_exporter": "python",
   "pygments_lexer": "ipython3",
   "version": "3.10.14"
  }
 },
 "nbformat": 4,
 "nbformat_minor": 4
}
