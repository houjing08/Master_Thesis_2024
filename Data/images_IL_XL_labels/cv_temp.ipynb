{
 "cells": [
  {
   "cell_type": "code",
   "execution_count": 7,
   "metadata": {},
   "outputs": [
    {
     "name": "stdout",
     "output_type": "stream",
     "text": [
      "The autoreload extension is already loaded. To reload it, use:\n",
      "  %reload_ext autoreload\n"
     ]
    }
   ],
   "source": [
    "%load_ext autoreload\n",
    "%autoreload 2"
   ]
  },
  {
   "cell_type": "code",
   "execution_count": 8,
   "metadata": {},
   "outputs": [],
   "source": [
    "from IPython.core.interactiveshell import InteractiveShell\n",
    "InteractiveShell.ast_node_interactivity = \"last\" # all | last | last_expr | none "
   ]
  },
  {
   "cell_type": "code",
   "execution_count": 9,
   "metadata": {},
   "outputs": [],
   "source": [
    "for name in dir():\n",
    "    if not name.startswith('_'):\n",
    "        del globals()[name]"
   ]
  },
  {
   "cell_type": "code",
   "execution_count": 10,
   "metadata": {},
   "outputs": [],
   "source": [
    "import numpy as np\n",
    "import matplotlib.pyplot as plt\n",
    "import re, os\n",
    "import cv2\n",
    "from PIL import Image\n",
    "import random\n"
   ]
  },
  {
   "cell_type": "code",
   "execution_count": 11,
   "metadata": {},
   "outputs": [],
   "source": [
    "from skimage import data, color\n",
    "from skimage.transform import rescale, resize, downscale_local_mean"
   ]
  },
  {
   "cell_type": "code",
   "execution_count": null,
   "metadata": {},
   "outputs": [],
   "source": [
    "faults_url = '/Users/bawfeh78/Downloads/images_IL_XL_labels/faults'\n",
    "for i, fname in enumerate(os.listdir(faults_url)):\n",
    "    if fname.endswith('png'):\n",
    "        print(fname)\n",
    "        img = plt.imread(os.path.join(faults_url, fname))\n",
    "        dpi = 10\n",
    "        left, right = 5*dpi, 2*dpi\n",
    "        bottom, top = 8*dpi, 2*dpi\n",
    "        img = img[bottom:-top,left:-right]\n",
    "        plt.axis('off')\n",
    "        plt.imshow(img)\n",
    "        plt.savefig(os.path.join(faults_url+'/jpg', fname[:-4]+'.jpg'), bbox_inches='tight', pad_inches=0)\n",
    "plt.show()"
   ]
  },
  {
   "cell_type": "code",
   "execution_count": null,
   "metadata": {},
   "outputs": [],
   "source": [
    "faults_url = '/Users/bawfeh78/Downloads/images_IL_XL_labels/faults/jpg'\n",
    "for i, fname in enumerate(os.listdir(faults_url)):\n",
    "    if fname.endswith('jpg'):\n",
    "        jpg_img = plt.imread(os.path.join(faults_url, fname))\n",
    "        threshold = np.quantile(jpg_img, q=0.01)\n",
    "        print('{} - threshold = {:<5.1f}'.format(fname, threshold))\n",
    "        jpg_img = np.where(jpg_img>threshold, 255, 0)\n",
    "        plt.axis('off')\n",
    "        plt.imshow(jpg_img)\n",
    "        plt.savefig(os.path.join(faults_url, fname), bbox_inches='tight', pad_inches=0)\n",
    "plt.show()"
   ]
  },
  {
   "cell_type": "code",
   "execution_count": null,
   "metadata": {},
   "outputs": [],
   "source": [
    "seis_url = '/Users/bawfeh78/Downloads/images_IL_XL_labels/seis/'\n",
    "for i, fname in enumerate(os.listdir(seis_url)):\n",
    "    if fname.endswith('png'):\n",
    "        print(fname)\n",
    "        img = plt.imread(os.path.join(seis_url, fname))\n",
    "        dpi = 10\n",
    "        left, right = 5*dpi, 2*dpi\n",
    "        bottom, top = 8*dpi, 2*dpi\n",
    "        img = img[bottom:-top,left:-right]\n",
    "        plt.axis('off')\n",
    "        plt.imshow(img)\n",
    "        plt.savefig(os.path.join(seis_url+'/jpg', fname[:-4]+'.jpg'), bbox_inches='tight', pad_inches=0)\n",
    "plt.show()"
   ]
  },
  {
   "cell_type": "code",
   "execution_count": null,
   "metadata": {},
   "outputs": [],
   "source": [
    "fname = 'IL3600'\n",
    "seis_url = '/Users/bawfeh78/Downloads/images_IL_XL_labels/seis/jpg'\n",
    "faults_url = '/Users/bawfeh78/Downloads/images_IL_XL_labels/faults/jpg'\n",
    "image1 = os.path.join(seis_url, fname+'.jpg')\n",
    "image2 = os.path.join(faults_url, fname+'_fault.jpg')\n",
    "\n",
    "img1 = plt.imread(image1)\n",
    "img2 = plt.imread(image2)\n",
    "if (img1.shape == img2.shape):\n",
    "    fig = plt.figure(figsize=(8,8))\n",
    "    plt.axis('off')\n",
    "    plt.imshow(np.where(img2==0, img2, img1))\n",
    "else:\n",
    "    print('Cropped images have different size!')\n",
    "plt.show()"
   ]
  },
  {
   "cell_type": "code",
   "execution_count": null,
   "metadata": {},
   "outputs": [],
   "source": [
    "images_dir = sorted(os.listdir(seis_url))\n",
    "mask_dir = sorted(os.listdir(faults_url))\n",
    "random.Random(247).shuffle(images_dir)\n",
    "random.Random(247).shuffle(mask_dir)\n",
    "print(\"number of images = {}\\nnumber of labels = {}\".format(len(images_dir),len(mask_dir)))"
   ]
  },
  {
   "cell_type": "code",
   "execution_count": null,
   "metadata": {},
   "outputs": [],
   "source": [
    "def train_test_val_split(total_len, ratio = (5,1,4)):\n",
    "    N = sum(ratio)\n",
    "    delta = total_len * np.divide(ratio, N)\n",
    "    right = np.clip(np.cumsum(np.round(delta), dtype=int), 0, total_len-1)\n",
    "    left = np.append([0], right[:-1]+1)\n",
    "    return list(zip(left, right))\n"
   ]
  },
  {
   "cell_type": "code",
   "execution_count": null,
   "metadata": {},
   "outputs": [],
   "source": [
    "images_array, mask_array = [], []\n",
    "for i, m in zip(images_dir, mask_dir):\n",
    "    if i[:-4] != m[:-10]:\n",
    "        print(i, m)\n",
    "    else:\n",
    "        ipath = os.path.join(seis_url, i)\n",
    "        images_array.append(plt.imread(ipath))\n",
    "        mpath = os.path.join(faults_url, m)\n",
    "        mask_array.append(plt.imread(mpath))"
   ]
  },
  {
   "cell_type": "code",
   "execution_count": null,
   "metadata": {},
   "outputs": [],
   "source": [
    "save_path = '/Users/bawfeh78/Downloads/images_IL_XL_labels/'\n",
    "splits = train_test_val_split(len(images_array))\n",
    "left, right = splits[0]\n",
    "np.savez_compressed(os.path.join(save_path,'train'), \n",
    "                    images=images_array[left:right], \n",
    "                    labels=mask_array[left:right])\n",
    "left, right = splits[1]\n",
    "np.savez_compressed(os.path.join(save_path,'val'), \n",
    "                    images=images_array[left:right], \n",
    "                    labels=mask_array[left:right])\n",
    "left, right = splits[2]\n",
    "np.savez_compressed(os.path.join(save_path,'test'), \n",
    "                    images=images_array[left:right], \n",
    "                    labels=mask_array[left:right])"
   ]
  }
 ],
 "metadata": {
  "kernelspec": {
   "display_name": "Python 3",
   "language": "python",
   "name": "python3"
  },
  "language_info": {
   "codemirror_mode": {
    "name": "ipython",
    "version": 3
   },
   "file_extension": ".py",
   "mimetype": "text/x-python",
   "name": "python",
   "nbconvert_exporter": "python",
   "pygments_lexer": "ipython3",
   "version": "3.11.5"
  }
 },
 "nbformat": 4,
 "nbformat_minor": 2
}
