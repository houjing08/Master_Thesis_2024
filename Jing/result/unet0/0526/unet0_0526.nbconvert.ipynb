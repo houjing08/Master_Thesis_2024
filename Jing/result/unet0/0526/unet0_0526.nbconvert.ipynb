{
 "cells": [
  {
   "cell_type": "code",
   "execution_count": 1,
   "metadata": {
    "execution": {
     "iopub.execute_input": "2024-05-26T20:13:43.532013Z",
     "iopub.status.busy": "2024-05-26T20:13:43.531461Z",
     "iopub.status.idle": "2024-05-26T20:13:44.383539Z",
     "shell.execute_reply": "2024-05-26T20:13:44.382519Z"
    }
   },
   "outputs": [],
   "source": [
    "%load_ext autoreload\n",
    "%autoreload 2"
   ]
  },
  {
   "cell_type": "code",
   "execution_count": 2,
   "metadata": {
    "execution": {
     "iopub.execute_input": "2024-05-26T20:13:44.389460Z",
     "iopub.status.busy": "2024-05-26T20:13:44.388903Z",
     "iopub.status.idle": "2024-05-26T20:13:45.159304Z",
     "shell.execute_reply": "2024-05-26T20:13:45.158279Z"
    }
   },
   "outputs": [],
   "source": [
    "from IPython.core.interactiveshell import InteractiveShell\n",
    "InteractiveShell.ast_node_interactivity = \"last\" # all | last | last_expr | none "
   ]
  },
  {
   "cell_type": "code",
   "execution_count": 3,
   "metadata": {
    "execution": {
     "iopub.execute_input": "2024-05-26T20:13:45.164547Z",
     "iopub.status.busy": "2024-05-26T20:13:45.163988Z",
     "iopub.status.idle": "2024-05-26T20:13:45.964191Z",
     "shell.execute_reply": "2024-05-26T20:13:45.963198Z"
    }
   },
   "outputs": [],
   "source": [
    "# for name in dir():\n",
    "#     if not name.startswith('_'):\n",
    "#         del globals()[name]"
   ]
  },
  {
   "cell_type": "markdown",
   "metadata": {},
   "source": [
    "### Data preparation and model configuration"
   ]
  },
  {
   "cell_type": "code",
   "execution_count": 4,
   "metadata": {
    "execution": {
     "iopub.execute_input": "2024-05-26T20:13:45.969674Z",
     "iopub.status.busy": "2024-05-26T20:13:45.969117Z",
     "iopub.status.idle": "2024-05-26T20:14:31.776657Z",
     "shell.execute_reply": "2024-05-26T20:14:31.775492Z"
    }
   },
   "outputs": [
    {
     "name": "stderr",
     "output_type": "stream",
     "text": [
      "2024-05-26 22:14:06.223631: I tensorflow/core/util/port.cc:113] oneDNN custom operations are on. You may see slightly different numerical results due to floating-point round-off errors from different computation orders. To turn them off, set the environment variable `TF_ENABLE_ONEDNN_OPTS=0`.\n",
      "2024-05-26 22:14:07.141147: E external/local_xla/xla/stream_executor/cuda/cuda_dnn.cc:9261] Unable to register cuDNN factory: Attempting to register factory for plugin cuDNN when one has already been registered\n",
      "2024-05-26 22:14:07.142066: E external/local_xla/xla/stream_executor/cuda/cuda_fft.cc:607] Unable to register cuFFT factory: Attempting to register factory for plugin cuFFT when one has already been registered\n",
      "2024-05-26 22:14:07.281423: E external/local_xla/xla/stream_executor/cuda/cuda_blas.cc:1515] Unable to register cuBLAS factory: Attempting to register factory for plugin cuBLAS when one has already been registered\n",
      "2024-05-26 22:14:07.554337: I tensorflow/core/platform/cpu_feature_guard.cc:182] This TensorFlow binary is optimized to use available CPU instructions in performance-critical operations.\n",
      "To enable the following instructions: SSE4.1 SSE4.2 AVX AVX2 AVX512F AVX512_VNNI FMA, in other operations, rebuild TensorFlow with the appropriate compiler flags.\n"
     ]
    }
   ],
   "source": [
    "# ============= Import required packaages ==============\n",
    "# Import all custom variables and modules\n",
    "\n",
    "from custom_classes_defs_revised.preprocessing import *\n",
    "from custom_classes_defs_revised.unet0 import *\n",
    "#from custom_classes_defs_revised.unet import *\n",
    "#from custom_classes_defs_revised.Unet_like import *\n",
    "\n",
    "#from custom_classes_defs.setup import *  \n",
    "#from custom_classes_defs.preprocessing import *\n",
    "#from custom_classes_defs.Unet_like import * \n",
    "#from custom_classes_defs.unet import *   \n",
    "# from custom_classes_defs.fnet import * \n",
    "# from custom_classes_defs.fnet1 import *\n",
    "# from custom_classes_defs.hed import *\n",
    "\n",
    "import keras\n",
    "import numpy as np\n",
    "\n",
    "from keras.utils import plot_model\n",
    "\n",
    "RND_STATE = 247\n",
    "BATCH_SIZE = 256\n",
    "\n",
    "\n",
    "keras.utils.set_random_seed(RND_STATE)\n",
    "\n",
    "INTERACTIVE_SESSION = True\n",
    "\n",
    "# import keras_tuner as kt\n",
    "# -------------------------------------------------------"
   ]
  },
  {
   "cell_type": "code",
   "execution_count": 5,
   "metadata": {
    "execution": {
     "iopub.execute_input": "2024-05-26T20:14:31.782828Z",
     "iopub.status.busy": "2024-05-26T20:14:31.781854Z",
     "iopub.status.idle": "2024-05-26T20:14:38.938369Z",
     "shell.execute_reply": "2024-05-26T20:14:38.937209Z"
    }
   },
   "outputs": [
    {
     "name": "stdout",
     "output_type": "stream",
     "text": [
      "tensorflow version: 2.15.0\n",
      "keras version: 2.15.0\n",
      "[PhysicalDevice(name='/physical_device:CPU:0', device_type='CPU'), PhysicalDevice(name='/physical_device:GPU:0', device_type='GPU')]\n",
      "Number of GPUs assigned for computation: 1\n"
     ]
    }
   ],
   "source": [
    "# Verify tensorflow/keras versions\n",
    "print(f\"tensorflow version: {tf.__version__}\")\n",
    "print(f\"keras version: {keras.__version__}\")\n",
    "\n",
    "# Verify CPU/GPU availability\n",
    "print(tf.config.list_physical_devices())\n",
    "NUM_GPU = len(tf.config.list_physical_devices('GPU'))\n",
    "print(f\"Number of GPUs assigned for computation: {NUM_GPU}\")\n",
    "\n",
    "#if NUM_GPU:\n",
    "#    # print GPU info\n",
    "#    !nvidia-smi"
   ]
  },
  {
   "cell_type": "code",
   "execution_count": 6,
   "metadata": {
    "execution": {
     "iopub.execute_input": "2024-05-26T20:14:38.941860Z",
     "iopub.status.busy": "2024-05-26T20:14:38.941245Z",
     "iopub.status.idle": "2024-05-26T20:15:30.188935Z",
     "shell.execute_reply": "2024-05-26T20:15:30.188020Z"
    }
   },
   "outputs": [
    {
     "name": "stdout",
     "output_type": "stream",
     "text": [
      "=======================================================\n",
      "\tData preparation and model configurations\n",
      "-------------------------------------------------------\n"
     ]
    },
    {
     "name": "stderr",
     "output_type": "stream",
     "text": [
      "2024-05-26 22:14:57.613404: I tensorflow/core/common_runtime/gpu/gpu_device.cc:1929] Created device /job:localhost/replica:0/task:0/device:GPU:0 with 36745 MB memory:  -> device: 0, name: NVIDIA A100-PCIE-40GB, pci bus id: 0000:3b:00.0, compute capability: 8.0\n"
     ]
    },
    {
     "name": "stdout",
     "output_type": "stream",
     "text": [
      "Train Dataset: <CacheDataset element_spec=(TensorSpec(shape=(None, 96, 96, 1), dtype=tf.float32, name=None), TensorSpec(shape=(None, 96, 96, 1), dtype=tf.float32, name=None))>\n",
      "Size of training data: 181029\n",
      "Size of validation data: 64317\n",
      "Size of test data: 66077\n",
      "...elapsed time: ___ 0.79 minutes___\n"
     ]
    }
   ],
   "source": [
    "print(\"{}\\n\\t{}\\n{}\".format('='*55,'Data preparation and model configurations', '-'*55))\n",
    "time_start= time.time()\n",
    "\n",
    "seis_path = '../data_thebe/seismic/'\n",
    "label_path = '../data_thebe/fault/'\n",
    "\n",
    "\n",
    "thebe_data = Thebe(seis_path,label_path)\n",
    "\n",
    "train_dataset = thebe_data.data_generator(sub_group='train',batch_size = BATCH_SIZE, cache=True)\n",
    "val_dataset = thebe_data.data_generator(sub_group='val',batch_size= BATCH_SIZE, cache=True)\n",
    "test_dataset = thebe_data.data_generator(sub_group='test',as_numpy=True, cache=True)\n",
    "\n",
    "print(\"Train Dataset:\", train_dataset)\n",
    "\n",
    "print(\"Size of training data: {}\".format(thebe_data.train_size))\n",
    "print(\"Size of validation data: {}\".format(thebe_data.validation_size))\n",
    "print(\"Size of test data: {}\".format(thebe_data.test_size)) \n",
    "\n",
    "print('...elapsed time: ___{:5.2f} minutes___'.format((time.time()-time_start) / 60))"
   ]
  },
  {
   "cell_type": "code",
   "execution_count": 7,
   "metadata": {
    "execution": {
     "iopub.execute_input": "2024-05-26T20:15:30.193430Z",
     "iopub.status.busy": "2024-05-26T20:15:30.193062Z",
     "iopub.status.idle": "2024-05-26T20:15:35.148140Z",
     "shell.execute_reply": "2024-05-26T20:15:35.146835Z"
    }
   },
   "outputs": [
    {
     "name": "stdout",
     "output_type": "stream",
     "text": [
      "             NUM_GPU: 1\n",
      "        augmentation: False\n",
      "        channels_dim: (1, 1)\n",
      "        compile_args:\n",
      "                     optimizer: adam\n",
      "                          loss: binary_crossentropy\n",
      "                       metrics: accuracy\n",
      "                              : f1_score(name=f1_score,dtype=float32)\n",
      "           img_shape: (96, 96)\n",
      "              labels: ListWrapper([0, 1])\n",
      "     mixed_precision: None\n",
      "          model_arch:\n",
      "                     img_shape: (96, 96)\n",
      "                   target_size: (96, 96)\n",
      "                  channels_dim: (1, 1)\n",
      "                       scaling: 1\n",
      "                  augmentation: False\n",
      " multiple_gpu_device: False\n",
      "new_training_session: False\n",
      "           pos_label: 1\n",
      "           save_path: ./Thebe/unet0\n",
      "             scaling: 1\n",
      "         target_size: (96, 96)\n",
      "           test_size: 66077\n",
      "           threshold: 0.5\n",
      "          train_size: 181029\n",
      "       training_args:\n",
      "                        epochs: 100\n",
      "                    batch_size: 256\n",
      "                       shuffle: True\n",
      "                       verbose: 0\n",
      "               validation_data: <class 'tensorflow.python.data.ops.cache_op.CacheDataset'>\n",
      "                     callbacks: <keras.src.callbacks.ModelCheckpoint object at 0x7f4feb6c56d0>\n",
      "                              : <keras.src.callbacks.ReduceLROnPlateau object at 0x7f4fa1156510>\n",
      "                              : <keras.src.callbacks.EarlyStopping object at 0x7f4f9da149d0>\n",
      "   training_duration: None\n",
      "     validation_size: 64317\n"
     ]
    }
   ],
   "source": [
    "# Model configurations\n",
    "conf = model_config(\n",
    "    epochs=100,\n",
    "    batch_size=BATCH_SIZE,\n",
    "    shuffle=True,\n",
    "    scaling=1,\n",
    "    save_path='./Thebe/unet0',\n",
    "    img_shape=thebe_data.img_size,\n",
    "    target_size=thebe_data.img_size,\n",
    "    threshold=thebe_data.threshold,\n",
    "    pos_label=thebe_data.pos_label,\n",
    "    train_size=thebe_data.train_size,\n",
    "    test_size=thebe_data.test_size,\n",
    "    new_training_session=False,\n",
    "    multiple_gpu_device=(NUM_GPU>1),\n",
    "    validation_size=thebe_data.validation_size\n",
    ")\n",
    "\n",
    "callbacks = conf.callbacks(\n",
    "    chkpt_monitor='val_f1_score', \n",
    "    es_monitor='val_loss',\n",
    "    es_patience=100, \n",
    "    lr_monitor='val_loss',\n",
    "    lr_patience=5\n",
    ")\n",
    "\n",
    "conf.set( validation_data=val_dataset,  callbacks=callbacks )\n",
    "m1 = f1_score(positive_label=thebe_data.pos_label, threshold=thebe_data.threshold)\n",
    "conf.set(\n",
    "    'compile',\n",
    "    metrics= ['accuracy', m1]\n",
    ")\n",
    "\n",
    "# conf.double_check(INTERACTIVE_SESSION)\n",
    "conf.info()"
   ]
  },
  {
   "cell_type": "markdown",
   "metadata": {},
   "source": [
    "### Build model"
   ]
  },
  {
   "cell_type": "code",
   "execution_count": 8,
   "metadata": {
    "execution": {
     "iopub.execute_input": "2024-05-26T20:15:35.153966Z",
     "iopub.status.busy": "2024-05-26T20:15:35.153328Z",
     "iopub.status.idle": "2024-05-26T20:15:41.084283Z",
     "shell.execute_reply": "2024-05-26T20:15:41.083177Z"
    }
   },
   "outputs": [
    {
     "name": "stdout",
     "output_type": "stream",
     "text": [
      "\n",
      "\n",
      "=======================================================\n",
      "\tBuild model\n",
      "-------------------------------------------------------\n"
     ]
    },
    {
     "name": "stdout",
     "output_type": "stream",
     "text": [
      "Total number of parameters: 1,952,417\n",
      "Total trainable wieghts: 1,949,601\n",
      "Total non-trainable wieghts: 2,816\n"
     ]
    }
   ],
   "source": [
    "print(\"\\n\\n{}\\n\\t{}\\n{}\".format('='*55,f'Build model', '-'*55))\n",
    "\n",
    "if conf.multiple_gpu_device:\n",
    "\n",
    "    strategy = tf.distribute.MirroredStrategy()\n",
    "    print(f\"Number of devices: {strategy.num_replicas_in_sync}\")\n",
    "    with strategy.scope():\n",
    "\n",
    "        conf = model_config(\n",
    "            epochs=100,\n",
    "            batch_size=BATCH_SIZE,\n",
    "            shuffle=True,\n",
    "            scaling=1,\n",
    "            save_path='./Thebe/unet0',\n",
    "            img_shape=thebe_data.img_size,\n",
    "            target_size=thebe_data.img_size,\n",
    "            threshold=thebe_data.threshold,\n",
    "            pos_label=thebe_data.pos_label,\n",
    "            train_size=thebe_data.train_size,\n",
    "            test_size=thebe_data.test_size,\n",
    "            new_training_session=False,\n",
    "            multiple_gpu_device=None,\n",
    "            validation_size=thebe_data.validation_size\n",
    "        )\n",
    "\n",
    "        callbacks = conf.callbacks(\n",
    "            chkpt_monitor='val_f1_score', \n",
    "            es_monitor='val_loss',\n",
    "            es_patience=100, \n",
    "            lr_monitor='val_loss',\n",
    "            lr_patience=5\n",
    "        )\n",
    "\n",
    "        conf.set( validation_data=val_dataset,  callbacks=callbacks )\n",
    "        m1 = f1_score(positive_label=thebe_data.pos_label, threshold=thebe_data.threshold)\n",
    "        conf.set(\n",
    "            'compile',\n",
    "            metrics= ['accuracy', m1]\n",
    "        )\n",
    "\n",
    "        m_obj = UNET2D(panel_sizes=[32,64,128,256], model_arch=conf.model_arch)\n",
    "        #m_obj = FNET2D(panel_sizes=[32,64,128,256], model_arch=conf.model_arch)\n",
    "        model = m_obj.build_model()\n",
    "        model.compile(**conf.compile_args)\n",
    "\n",
    "else:\n",
    "\n",
    "    m_obj = UNET2D(panel_sizes=[32,64,128,256], model_arch=conf.model_arch)\n",
    "    #m_obj = FNET2D(panel_sizes=[32,64,128,256], model_arch=conf.model_arch)\n",
    "    model = m_obj.build_model()\n",
    "    model.compile(**conf.compile_args)\n",
    "\n",
    "\n",
    "# model.summary()\n",
    "# keras.utils.plot_model(model, 'm_obj.png',show_shapes=True)\n",
    "# plot_model(model, 'm_obj.png',show_shapes=True)\n",
    "num_trainable_weights = sum([np.prod(w.shape) for w in model.trainable_weights])\n",
    "print(f\"Total number of parameters: {model.count_params():,}\")\n",
    "print(f\"Total trainable wieghts: {num_trainable_weights:,}\")\n",
    "print(f\"Total non-trainable wieghts: {model.count_params()-num_trainable_weights:,}\")\n",
    "\n"
   ]
  },
  {
   "cell_type": "markdown",
   "metadata": {},
   "source": [
    "### Train the model"
   ]
  },
  {
   "cell_type": "code",
   "execution_count": 9,
   "metadata": {
    "execution": {
     "iopub.execute_input": "2024-05-26T20:15:41.087853Z",
     "iopub.status.busy": "2024-05-26T20:15:41.087249Z",
     "iopub.status.idle": "2024-05-26T20:15:52.715902Z",
     "shell.execute_reply": "2024-05-26T20:15:52.715004Z"
    }
   },
   "outputs": [
    {
     "name": "stdout",
     "output_type": "stream",
     "text": [
      "\n",
      "\n",
      "=======================================================\n",
      "\tTrain unet model\n",
      "-------------------------------------------------------\n"
     ]
    },
    {
     "name": "stdout",
     "output_type": "stream",
     "text": [
      "model train history 'model+_history.pickle'loaded!\n",
      "             NUM_GPU: 4\n",
      "        augmentation: False\n",
      "        channels_dim: (1, 1)\n",
      "        compile_args:\n",
      "                     optimizer: <class 'keras.src.optimizers.adam.Adam'>\n",
      "                          loss: binary_crossentropy\n",
      "                       metrics: accuracy\n",
      "                              : f1_score(name=f1_score,dtype=float32)\n",
      "           img_shape: (96, 96)\n",
      "              labels: ListWrapper([0, 1])\n",
      "     mixed_precision: None\n",
      "          model_arch:\n",
      "                     img_shape: (96, 96)\n",
      "                   target_size: (96, 96)\n",
      "                  channels_dim: (1, 1)\n",
      "                       scaling: 1\n",
      "                  augmentation: False\n",
      " multiple_gpu_device: True\n",
      "new_training_session: True\n",
      "           pos_label: 1\n",
      "           save_path: ./Thebe/unet0\n",
      "             scaling: 1\n",
      "         target_size: (96, 96)\n",
      "           test_size: 66077\n",
      "           threshold: 0.5\n",
      "          train_size: 181029\n",
      "       training_args:\n",
      "                        epochs: 100\n",
      "                    batch_size: 256\n",
      "                       shuffle: True\n",
      "                       verbose: 0\n",
      "               validation_data: <class 'tensorflow.python.data.ops.cache_op.CacheDataset'>\n",
      "                     callbacks: <keras.src.callbacks.ModelCheckpoint object at 0x7fa685abc5d0>\n",
      "                              : <keras.src.callbacks.ReduceLROnPlateau object at 0x7fa685e77e90>\n",
      "                              : <keras.src.callbacks.EarlyStopping object at 0x7fa68c821fd0>\n",
      "   training_duration: 237.61\n",
      "     validation_size: 64317\n"
     ]
    },
    {
     "data": {
      "image/png": "[encoded data removed]",
      "text/plain": [
       "<Figure size 640x480 with 1 Axes>"
      ]
     },
     "metadata": {},
     "output_type": "display_data"
    },
    {
     "name": "stderr",
     "output_type": "stream",
     "text": [
      "WARNING:absl:Skipping variable loading for optimizer 'Adam', because it has 1 variables whereas the saved optimizer has 129 variables. \n"
     ]
    },
    {
     "name": "stdout",
     "output_type": "stream",
     "text": [
      "Loading time used 0.11157337427139283 mins\n"
     ]
    }
   ],
   "source": [
    "time_start= time.time()\n",
    "print(\"\\n\\n{}\\n\\t{}\\n{}\".format('='*55,f'Train {m_obj.Name} model', '-'*55))\n",
    "\n",
    "model, train_history = \\\n",
    "    conf.execute_training(\n",
    "        model, \n",
    "        data=train_dataset, \n",
    "        plot_history=INTERACTIVE_SESSION\n",
    ")\n",
    "\n",
    "\n",
    "time_end = (time.time()-time_start)/60\n",
    "print(f'Loading time used {time_end} mins')"
   ]
  },
  {
   "cell_type": "code",
   "execution_count": 10,
   "metadata": {
    "execution": {
     "iopub.execute_input": "2024-05-26T20:15:52.720678Z",
     "iopub.status.busy": "2024-05-26T20:15:52.720221Z",
     "iopub.status.idle": "2024-05-26T20:16:02.588519Z",
     "shell.execute_reply": "2024-05-26T20:16:02.587788Z"
    }
   },
   "outputs": [
    {
     "name": "stdout",
     "output_type": "stream",
     "text": [
      "\n",
      "\n",
      "=======================================================\n",
      "\tTrain unet model\n",
      "-------------------------------------------------------\n"
     ]
    },
    {
     "name": "stdout",
     "output_type": "stream",
     "text": [
      "model train history 'model+_history.pickle'loaded!\n",
      "             NUM_GPU: 4\n",
      "        augmentation: False\n",
      "        channels_dim: (1, 1)\n",
      "        compile_args:\n",
      "                     optimizer: <class 'keras.src.optimizers.adam.Adam'>\n",
      "                          loss: binary_crossentropy\n",
      "                       metrics: accuracy\n",
      "                              : f1_score(name=f1_score,dtype=float32)\n",
      "           img_shape: (96, 96)\n",
      "              labels: ListWrapper([0, 1])\n",
      "     mixed_precision: None\n",
      "          model_arch:\n",
      "                     img_shape: (96, 96)\n",
      "                   target_size: (96, 96)\n",
      "                  channels_dim: (1, 1)\n",
      "                       scaling: 1\n",
      "                  augmentation: False\n",
      " multiple_gpu_device: True\n",
      "new_training_session: True\n",
      "           pos_label: 1\n",
      "           save_path: ./Thebe/unet0\n",
      "             scaling: 1\n",
      "         target_size: (96, 96)\n",
      "           test_size: 66077\n",
      "           threshold: 0.5\n",
      "          train_size: 181029\n",
      "       training_args:\n",
      "                        epochs: 100\n",
      "                    batch_size: 256\n",
      "                       shuffle: True\n",
      "                       verbose: 0\n",
      "               validation_data: <class 'tensorflow.python.data.ops.cache_op.CacheDataset'>\n",
      "                     callbacks: <keras.src.callbacks.ModelCheckpoint object at 0x7fa685abc5d0>\n",
      "                              : <keras.src.callbacks.ReduceLROnPlateau object at 0x7fa685e77e90>\n",
      "                              : <keras.src.callbacks.EarlyStopping object at 0x7fa68c821fd0>\n",
      "   training_duration: 237.61\n",
      "     validation_size: 64317\n"
     ]
    },
    {
     "data": {
      "image/png": "[encoded data removed]",
      "text/plain": [
       "<Figure size 640x480 with 1 Axes>"
      ]
     },
     "metadata": {},
     "output_type": "display_data"
    },
    {
     "name": "stderr",
     "output_type": "stream",
     "text": [
      "WARNING:absl:Skipping variable loading for optimizer 'Adam', because it has 1 variables whereas the saved optimizer has 129 variables. \n"
     ]
    },
    {
     "name": "stdout",
     "output_type": "stream",
     "text": [
      "Loading time used 0.08683109283447266 mins\n"
     ]
    }
   ],
   "source": [
    "time_start= time.time()\n",
    "\n",
    "print(\"\\n\\n{}\\n\\t{}\\n{}\".format('='*55,f'Train {m_obj.Name} model', '-'*55))\n",
    "\n",
    "model, train_history = \\\n",
    "    conf.execute_training(\n",
    "        model, \n",
    "        data=train_dataset, \n",
    "        plot_history=INTERACTIVE_SESSION\n",
    ")\n",
    "\n",
    "time_end = (time.time()-time_start)/60\n",
    "print(f'Loading time used {time_end} mins')"
   ]
  },
  {
   "cell_type": "code",
   "execution_count": 11,
   "metadata": {
    "execution": {
     "iopub.execute_input": "2024-05-26T20:16:02.592638Z",
     "iopub.status.busy": "2024-05-26T20:16:02.592362Z",
     "iopub.status.idle": "2024-05-26T20:16:07.823024Z",
     "shell.execute_reply": "2024-05-26T20:16:07.822306Z"
    }
   },
   "outputs": [
    {
     "data": {
      "image/png": "[encoded data removed]",
      "text/plain": [
       "<Figure size 640x480 with 1 Axes>"
      ]
     },
     "metadata": {},
     "output_type": "display_data"
    }
   ],
   "source": [
    "show_convergence(train_history.history, ['accuracy','val_accuracy'])"
   ]
  },
  {
   "cell_type": "code",
   "execution_count": 12,
   "metadata": {
    "execution": {
     "iopub.execute_input": "2024-05-26T20:16:07.828110Z",
     "iopub.status.busy": "2024-05-26T20:16:07.827821Z",
     "iopub.status.idle": "2024-05-26T20:16:12.139385Z",
     "shell.execute_reply": "2024-05-26T20:16:12.138661Z"
    }
   },
   "outputs": [
    {
     "data": {
      "image/png": "[encoded data removed]",
      "text/plain": [
       "<Figure size 640x480 with 1 Axes>"
      ]
     },
     "metadata": {},
     "output_type": "display_data"
    }
   ],
   "source": [
    "show_convergence(train_history.history, ['f1_score','val_f1_score'])"
   ]
  },
  {
   "cell_type": "code",
   "execution_count": 13,
   "metadata": {
    "execution": {
     "iopub.execute_input": "2024-05-26T20:16:12.144062Z",
     "iopub.status.busy": "2024-05-26T20:16:12.143762Z",
     "iopub.status.idle": "2024-05-26T20:16:16.038087Z",
     "shell.execute_reply": "2024-05-26T20:16:16.037355Z"
    }
   },
   "outputs": [
    {
     "data": {
      "image/png": "[encoded data removed]",
      "text/plain": [
       "<Figure size 640x480 with 1 Axes>"
      ]
     },
     "metadata": {},
     "output_type": "display_data"
    }
   ],
   "source": [
    "show_convergence(train_history.history, 'lr')"
   ]
  },
  {
   "cell_type": "markdown",
   "metadata": {},
   "source": [
    "### Visualize predictions"
   ]
  },
  {
   "cell_type": "code",
   "execution_count": 14,
   "metadata": {
    "execution": {
     "iopub.execute_input": "2024-05-26T20:16:16.042995Z",
     "iopub.status.busy": "2024-05-26T20:16:16.042696Z",
     "iopub.status.idle": "2024-05-26T20:16:19.900725Z",
     "shell.execute_reply": "2024-05-26T20:16:19.899690Z"
    }
   },
   "outputs": [],
   "source": [
    "# check the pairs of ori images and labels on val dataset\n",
    "\n",
    "#display_sample_images(val_dataset[0], val_dataset[1],(96,96))"
   ]
  },
  {
   "cell_type": "code",
   "execution_count": 15,
   "metadata": {
    "execution": {
     "iopub.execute_input": "2024-05-26T20:16:19.908074Z",
     "iopub.status.busy": "2024-05-26T20:16:19.907524Z",
     "iopub.status.idle": "2024-05-26T20:16:24.187375Z",
     "shell.execute_reply": "2024-05-26T20:16:24.186291Z"
    }
   },
   "outputs": [],
   "source": [
    "#time_start= time.time()\n",
    "#y_preds = model.predict(test_dataset[0])\n",
    "\n",
    "#time_end = (time.time()-time_start)/60\n",
    "#print(f'Loading time used {time_end} mins')"
   ]
  },
  {
   "cell_type": "code",
   "execution_count": 16,
   "metadata": {
    "execution": {
     "iopub.execute_input": "2024-05-26T20:16:24.192869Z",
     "iopub.status.busy": "2024-05-26T20:16:24.192280Z",
     "iopub.status.idle": "2024-05-26T20:16:28.849171Z",
     "shell.execute_reply": "2024-05-26T20:16:28.848101Z"
    }
   },
   "outputs": [],
   "source": [
    "#display_sample_images(y_preds, test_dataset[1],(96,96))"
   ]
  },
  {
   "cell_type": "code",
   "execution_count": 17,
   "metadata": {
    "execution": {
     "iopub.execute_input": "2024-05-26T20:16:28.854393Z",
     "iopub.status.busy": "2024-05-26T20:16:28.853986Z",
     "iopub.status.idle": "2024-05-26T20:16:33.481679Z",
     "shell.execute_reply": "2024-05-26T20:16:33.480702Z"
    }
   },
   "outputs": [],
   "source": [
    "#time_start= time.time()\n",
    "\n",
    "#print(\"\\n\\n{}\\n\\t{}\\n{}\".format('='*55,f'Evaluate {m_obj.Name} model', '-'*55))\n",
    "\n",
    "#model.evaluate(x=test_dataset)\n",
    "#time_end = (time.time()-time_start)/60\n",
    "#print(f'Loading time used {time_end} mins')"
   ]
  },
  {
   "cell_type": "code",
   "execution_count": 18,
   "metadata": {
    "execution": {
     "iopub.execute_input": "2024-05-26T20:16:33.486884Z",
     "iopub.status.busy": "2024-05-26T20:16:33.486374Z",
     "iopub.status.idle": "2024-05-26T20:16:38.199449Z",
     "shell.execute_reply": "2024-05-26T20:16:38.198380Z"
    }
   },
   "outputs": [],
   "source": [
    "# Using scikit-learn\n",
    "#scores = m_obj.evaluate_sklearn(test_dataset, y_preds,report=True)\n",
    "#print(scores)\n"
   ]
  }
 ],
 "metadata": {
  "kernelspec": {
   "display_name": "Python 3 (ipykernel)",
   "language": "python",
   "name": "python3"
  },
  "language_info": {
   "codemirror_mode": {
    "name": "ipython",
    "version": 3
   },
   "file_extension": ".py",
   "mimetype": "text/x-python",
   "name": "python",
   "nbconvert_exporter": "python",
   "pygments_lexer": "ipython3",
   "version": "3.11.8"
  }
 },
 "nbformat": 4,
 "nbformat_minor": 4
}
