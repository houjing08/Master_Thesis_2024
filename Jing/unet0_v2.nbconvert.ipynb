{
 "cells": [
  {
   "cell_type": "code",
   "execution_count": 1,
   "metadata": {
    "execution": {
     "iopub.execute_input": "2024-05-18T13:47:11.451748Z",
     "iopub.status.busy": "2024-05-18T13:47:11.451280Z",
     "iopub.status.idle": "2024-05-18T13:47:12.157978Z",
     "shell.execute_reply": "2024-05-18T13:47:12.157309Z"
    }
   },
   "outputs": [],
   "source": [
    "%load_ext autoreload\n",
    "%autoreload 2"
   ]
  },
  {
   "cell_type": "code",
   "execution_count": 2,
   "metadata": {
    "execution": {
     "iopub.execute_input": "2024-05-18T13:47:12.161569Z",
     "iopub.status.busy": "2024-05-18T13:47:12.160955Z",
     "iopub.status.idle": "2024-05-18T13:47:12.806369Z",
     "shell.execute_reply": "2024-05-18T13:47:12.805775Z"
    }
   },
   "outputs": [],
   "source": [
    "from IPython.core.interactiveshell import InteractiveShell\n",
    "InteractiveShell.ast_node_interactivity = \"last\" # all | last | last_expr | none "
   ]
  },
  {
   "cell_type": "code",
   "execution_count": 3,
   "metadata": {
    "execution": {
     "iopub.execute_input": "2024-05-18T13:47:12.809483Z",
     "iopub.status.busy": "2024-05-18T13:47:12.809015Z",
     "iopub.status.idle": "2024-05-18T13:47:13.509837Z",
     "shell.execute_reply": "2024-05-18T13:47:13.509160Z"
    }
   },
   "outputs": [],
   "source": [
    "# for name in dir():\n",
    "#     if not name.startswith('_'):\n",
    "#         del globals()[name]"
   ]
  },
  {
   "cell_type": "markdown",
   "metadata": {},
   "source": [
    "### Data preparation and model configuration"
   ]
  },
  {
   "cell_type": "code",
   "execution_count": 4,
   "metadata": {
    "execution": {
     "iopub.execute_input": "2024-05-18T13:47:13.513016Z",
     "iopub.status.busy": "2024-05-18T13:47:13.512537Z",
     "iopub.status.idle": "2024-05-18T13:47:50.250726Z",
     "shell.execute_reply": "2024-05-18T13:47:50.249954Z"
    }
   },
   "outputs": [
    {
     "name": "stderr",
     "output_type": "stream",
     "text": [
      "2024-05-18 15:47:28.215240: E external/local_xla/xla/stream_executor/cuda/cuda_dnn.cc:9261] Unable to register cuDNN factory: Attempting to register factory for plugin cuDNN when one has already been registered\n",
      "2024-05-18 15:47:28.215758: E external/local_xla/xla/stream_executor/cuda/cuda_fft.cc:607] Unable to register cuFFT factory: Attempting to register factory for plugin cuFFT when one has already been registered\n",
      "2024-05-18 15:47:28.279541: E external/local_xla/xla/stream_executor/cuda/cuda_blas.cc:1515] Unable to register cuBLAS factory: Attempting to register factory for plugin cuBLAS when one has already been registered\n",
      "2024-05-18 15:47:28.425293: I tensorflow/core/platform/cpu_feature_guard.cc:182] This TensorFlow binary is optimized to use available CPU instructions in performance-critical operations.\n",
      "To enable the following instructions: SSE4.1 SSE4.2 AVX AVX2 FMA, in other operations, rebuild TensorFlow with the appropriate compiler flags.\n"
     ]
    }
   ],
   "source": [
    "# ============= Import required packaages ==============\n",
    "# Import all custom variables and modules\n",
    "\n",
    "from custom_classes_defs_revised.preprocessing import *\n",
    "from custom_classes_defs_revised.unet0 import *\n",
    "\n",
    "#from custom_classes_defs.setup import *  \n",
    "#from custom_classes_defs.preprocessing import *\n",
    "#from custom_classes_defs.Unet_like import * \n",
    "#from custom_classes_defs.unet import *   \n",
    "# from custom_classes_defs.fnet import * \n",
    "# from custom_classes_defs.fnet1 import *\n",
    "# from custom_classes_defs.hed import *\n",
    "\n",
    "import keras\n",
    "import numpy as np\n",
    "\n",
    "from keras.utils import plot_model\n",
    "\n",
    "RND_STATE = 247\n",
    "BATCH_SIZE = 512\n",
    "\n",
    "\n",
    "keras.utils.set_random_seed(RND_STATE)\n",
    "\n",
    "INTERACTIVE_SESSION = True\n",
    "\n",
    "# import keras_tuner as kt\n",
    "# -------------------------------------------------------"
   ]
  },
  {
   "cell_type": "code",
   "execution_count": 5,
   "metadata": {
    "execution": {
     "iopub.execute_input": "2024-05-18T13:47:50.254679Z",
     "iopub.status.busy": "2024-05-18T13:47:50.254012Z",
     "iopub.status.idle": "2024-05-18T13:47:56.382252Z",
     "shell.execute_reply": "2024-05-18T13:47:56.381708Z"
    }
   },
   "outputs": [
    {
     "name": "stdout",
     "output_type": "stream",
     "text": [
      "tensorflow version: 2.15.0\n",
      "keras version: 2.15.0\n",
      "[PhysicalDevice(name='/physical_device:CPU:0', device_type='CPU'), PhysicalDevice(name='/physical_device:GPU:0', device_type='GPU')]\n",
      "Number of GPUs assigned for computation: 1\n"
     ]
    }
   ],
   "source": [
    "# Verify tensorflow/keras versions\n",
    "print(f\"tensorflow version: {tf.__version__}\")\n",
    "print(f\"keras version: {keras.__version__}\")\n",
    "\n",
    "# Verify CPU/GPU availability\n",
    "print(tf.config.list_physical_devices())\n",
    "NUM_GPU = len(tf.config.list_physical_devices('GPU'))\n",
    "print(f\"Number of GPUs assigned for computation: {NUM_GPU}\")\n",
    "\n",
    "#if NUM_GPU:\n",
    "#    # print GPU info\n",
    "#    !nvidia-smi"
   ]
  },
  {
   "cell_type": "code",
   "execution_count": 6,
   "metadata": {
    "execution": {
     "iopub.execute_input": "2024-05-18T13:47:56.385044Z",
     "iopub.status.busy": "2024-05-18T13:47:56.384718Z",
     "iopub.status.idle": "2024-05-18T13:47:59.756762Z",
     "shell.execute_reply": "2024-05-18T13:47:59.755732Z"
    }
   },
   "outputs": [],
   "source": [
    "# Input data path\n",
    "seis_path = '../data_thebe/seismic/'\n",
    "label_path = '../data_thebe/fault/'\n"
   ]
  },
  {
   "cell_type": "code",
   "execution_count": 7,
   "metadata": {
    "execution": {
     "iopub.execute_input": "2024-05-18T13:47:59.761118Z",
     "iopub.status.busy": "2024-05-18T13:47:59.760375Z",
     "iopub.status.idle": "2024-05-18T13:48:36.844418Z",
     "shell.execute_reply": "2024-05-18T13:48:36.843560Z"
    }
   },
   "outputs": [
    {
     "name": "stderr",
     "output_type": "stream",
     "text": [
      "2024-05-18 15:48:23.661973: I tensorflow/core/common_runtime/gpu/gpu_device.cc:1929] Created device /job:localhost/replica:0/task:0/device:GPU:0 with 38379 MB memory:  -> device: 0, name: NVIDIA A100-SXM4-40GB, pci bus id: 0000:c1:00.0, compute capability: 8.0\n"
     ]
    },
    {
     "name": "stdout",
     "output_type": "stream",
     "text": [
      "Loading time used 0.560048536459605 mins\n"
     ]
    }
   ],
   "source": [
    "time_start= time.time()\n",
    "thebe_data = Thebe(seis_path,label_path,ratio=0.4)\n",
    "\n",
    "train_dataset = thebe_data.data_generator(sub_group='train',cache=True)\n",
    "val_dataset = thebe_data.data_generator(sub_group='val',cache= True)\n",
    "test_dataset = thebe_data.data_generator(sub_group='test',as_numpy=True, cache=True)\n",
    "\n",
    "time_end = (time.time()-time_start)/60\n",
    "print(f'Loading time used {time_end} mins')"
   ]
  },
  {
   "cell_type": "code",
   "execution_count": 8,
   "metadata": {
    "execution": {
     "iopub.execute_input": "2024-05-18T13:48:36.847327Z",
     "iopub.status.busy": "2024-05-18T13:48:36.846865Z",
     "iopub.status.idle": "2024-05-18T13:48:40.460861Z",
     "shell.execute_reply": "2024-05-18T13:48:40.460128Z"
    }
   },
   "outputs": [],
   "source": [
    "#print(f\"training data (size = {(train_dataset.cardinality().numpy())*BATCH_SIZE})\")\n",
    "#print(f\"validation data (size = {(val_dataset.cardinality().numpy())*BATCH_SIZE})\")\n",
    "#print(f\"test data (size = {(test_dataset.cardinality().numpy())*BATCH_SIZE})\")\n",
    "#print(\"Data images tensor:\",train_dataset.element_spec[0])\n",
    "#print(\"Data labels tensor:\",train_dataset.element_spec[1])"
   ]
  },
  {
   "cell_type": "code",
   "execution_count": 9,
   "metadata": {
    "execution": {
     "iopub.execute_input": "2024-05-18T13:48:40.464135Z",
     "iopub.status.busy": "2024-05-18T13:48:40.463719Z",
     "iopub.status.idle": "2024-05-18T13:48:44.767366Z",
     "shell.execute_reply": "2024-05-18T13:48:44.766660Z"
    }
   },
   "outputs": [
    {
     "name": "stdout",
     "output_type": "stream",
     "text": [
      "             NUM_GPU: 1\n",
      "        augmentation: True\n",
      "        channels_dim: (1, 1)\n",
      "        compile_args:\n",
      "                     optimizer: <class 'keras.src.optimizers.adam.Adam'>\n",
      "                          loss: binary_crossentropy\n",
      "                       metrics: accuracy\n",
      "           img_shape: (96, 96)\n",
      "              labels: ListWrapper([0, 1])\n",
      "     mixed_precision: False\n",
      "          model_arch:\n",
      "                     img_shape: (96, 96)\n",
      "                   target_size: (96, 96)\n",
      "                  channels_dim: (1, 1)\n",
      "                       scaling: 1\n",
      "                  augmentation: True\n",
      " multiple_gpu_device: None\n",
      "new_training_session: True\n",
      "           pos_label: 1\n",
      "           save_path: ./output/unet0\n",
      "             scaling: 1\n",
      "         target_size: (96, 96)\n",
      "           test_size: None\n",
      "           threshold: 0.5\n",
      "          train_size: None\n",
      "       training_args:\n",
      "                        epochs: 100\n",
      "                    batch_size: 512\n",
      "                       shuffle: True\n",
      "                       verbose: 0\n",
      "               validation_data: <class 'tensorflow.python.data.ops.cache_op.CacheDataset'>\n",
      "                     callbacks: <keras.src.callbacks.ModelCheckpoint object at 0x7f516cc4dfd0>\n",
      "                              : <keras.src.callbacks.ReduceLROnPlateau object at 0x7f516531f210>\n",
      "                              : <keras.src.callbacks.EarlyStopping object at 0x7f516531ed10>\n",
      "   training_duration: None\n",
      "     validation_size: None\n"
     ]
    }
   ],
   "source": [
    "\n",
    "\n",
    "# Model configurations\n",
    "conf = model_config(\n",
    "    epochs= 100,\n",
    "    batch_size=BATCH_SIZE,\n",
    "    shuffle=True,\n",
    "    verbose=0,\n",
    "    scaling=1,\n",
    "    save_path='./output/unet0',\n",
    "    img_shape= (96,96),\n",
    "    target_size= (96,96),\n",
    "    channels_dim=(1,1),\n",
    "    augmentation=True,\n",
    "    pos_label= thebe_data.pos_label,\n",
    "    new_training_session=True,\n",
    "    mixed_precision = False,\n",
    "    multiple_gpu_device=None\n",
    ")\n",
    "\n",
    "\n",
    "callbacks=conf.callbacks(chkpt_monitor='val_loss', es_monitor='val_loss',\n",
    "    es_patience= 20, \n",
    "    lr_monitor='val_loss',\n",
    "    lr_patience=5,)\n",
    "\n",
    "conf.set( validation_data=val_dataset,  callbacks=callbacks)\n",
    "conf.set(\n",
    "    'compile',\n",
    "    optimizer=tf.keras.optimizers.Adam(1e-2), \n",
    "    metrics= ['accuracy']\n",
    ")\n",
    "\n",
    "# conf.double_check(INTERACTIVE_SESSION)\n",
    "conf.info()"
   ]
  },
  {
   "cell_type": "markdown",
   "metadata": {},
   "source": [
    "### Build model"
   ]
  },
  {
   "cell_type": "code",
   "execution_count": 10,
   "metadata": {
    "execution": {
     "iopub.execute_input": "2024-05-18T13:48:44.770974Z",
     "iopub.status.busy": "2024-05-18T13:48:44.770290Z",
     "iopub.status.idle": "2024-05-18T13:48:49.378578Z",
     "shell.execute_reply": "2024-05-18T13:48:49.377990Z"
    }
   },
   "outputs": [
    {
     "name": "stdout",
     "output_type": "stream",
     "text": [
      "\n",
      "\n",
      "=======================================================\n",
      "\tBuild model\n",
      "-------------------------------------------------------\n"
     ]
    },
    {
     "name": "stdout",
     "output_type": "stream",
     "text": [
      "Total number of parameters: 1,952,417\n",
      "Total trainable wieghts: 1,949,601\n",
      "Total non-trainable wieghts: 2,816\n"
     ]
    }
   ],
   "source": [
    "### SINGLE-HOST, MULTI-DEVICE SYNCHRONOUS TRAINING\n",
    "## François Chollet. Deep Learning with Python, Second Edition (Kindle Location 12675). Manning Publications Co.. \n",
    "print(\"\\n\\n{}\\n\\t{}\\n{}\".format('='*55,f'Build model', '-'*55))\n",
    "\n",
    "if conf.multiple_gpu_device:\n",
    "\n",
    "    strategy = tf.distribute.MirroredStrategy()\n",
    "    print(f\"Number of devices: {strategy.num_replicas_in_sync}\")\n",
    "    with strategy.scope():\n",
    "        m_obj = UNET2D(panel_sizes=[32,64,128,256], model_arch=conf.model_arch)\n",
    "        model = m_obj.build_model()\n",
    "        model.compile(**conf.compile_args)\n",
    "\n",
    "else:\n",
    "\n",
    "    m_obj = UNET2D(panel_sizes=[32,64,128,256], model_arch=conf.model_arch)\n",
    "    # m_obj = HED2D(num_freeze=4, model_arch=conf.model_arch)\n",
    "    model = m_obj.build_model()\n",
    "    model.compile(**conf.compile_args)\n",
    "\n",
    "#model.summary()\n",
    "#plot_model(model, 'm_obj.png',show_shapes=True)\n",
    "num_trainable_weights = sum([np.prod(w.shape) for w in model.trainable_weights])\n",
    "print(f\"Total number of parameters: {model.count_params():,}\")\n",
    "print(f\"Total trainable wieghts: {num_trainable_weights:,}\")\n",
    "print(f\"Total non-trainable wieghts: {model.count_params()-num_trainable_weights:,}\")\n",
    "\n"
   ]
  },
  {
   "cell_type": "markdown",
   "metadata": {},
   "source": [
    "### Train the model"
   ]
  },
  {
   "cell_type": "code",
   "execution_count": 11,
   "metadata": {
    "execution": {
     "iopub.execute_input": "2024-05-18T13:48:49.381256Z",
     "iopub.status.busy": "2024-05-18T13:48:49.381117Z",
     "iopub.status.idle": "2024-05-18T21:52:24.371955Z",
     "shell.execute_reply": "2024-05-18T21:52:24.371079Z"
    }
   },
   "outputs": [
    {
     "name": "stdout",
     "output_type": "stream",
     "text": [
      "\n",
      "\n",
      "=======================================================\n",
      "\tTrain unet model\n",
      "-------------------------------------------------------\n",
      "Model training...\n"
     ]
    },
    {
     "name": "stderr",
     "output_type": "stream",
     "text": [
      "2024-05-18 15:48:57.685813: E tensorflow/core/grappler/optimizers/meta_optimizer.cc:961] layout failed: INVALID_ARGUMENT: Size of values 0 does not match size of permutation 4 @ fanin shape inU-NET/sequential_1/dropout/dropout/SelectV2-2-TransposeNHWCToNCHW-LayoutOptimizer\n"
     ]
    },
    {
     "name": "stderr",
     "output_type": "stream",
     "text": [
      "2024-05-18 15:49:02.110145: I external/local_xla/xla/stream_executor/cuda/cuda_dnn.cc:454] Loaded cuDNN version 8907\n"
     ]
    },
    {
     "name": "stderr",
     "output_type": "stream",
     "text": [
      "2024-05-18 15:49:08.592363: I external/local_xla/xla/service/service.cc:168] XLA service 0x7f4fd07bd0c0 initialized for platform CUDA (this does not guarantee that XLA will be used). Devices:\n",
      "2024-05-18 15:49:08.592629: I external/local_xla/xla/service/service.cc:176]   StreamExecutor device (0): NVIDIA A100-SXM4-40GB, Compute Capability 8.0\n",
      "2024-05-18 15:49:08.677110: I tensorflow/compiler/mlir/tensorflow/utils/dump_mlir_util.cc:269] disabling MLIR crash reproducer, set env var `MLIR_CRASH_REPRODUCER_DIRECTORY` to enable.\n"
     ]
    },
    {
     "name": "stderr",
     "output_type": "stream",
     "text": [
      "WARNING: All log messages before absl::InitializeLog() is called are written to STDERR\n",
      "I0000 00:00:1716040149.437615 3758521 device_compiler.h:186] Compiled cluster using XLA!  This line is logged at most once for the lifetime of the process.\n"
     ]
    },
    {
     "name": "stdout",
     "output_type": "stream",
     "text": [
      "\n",
      "Epoch 6: ReduceLROnPlateau reducing learning rate to 0.004999999888241291.\n"
     ]
    },
    {
     "name": "stdout",
     "output_type": "stream",
     "text": [
      "\n",
      "Epoch 11: ReduceLROnPlateau reducing learning rate to 0.0024999999441206455.\n"
     ]
    },
    {
     "name": "stdout",
     "output_type": "stream",
     "text": [
      "\n",
      "Epoch 16: ReduceLROnPlateau reducing learning rate to 0.0012499999720603228.\n"
     ]
    },
    {
     "name": "stdout",
     "output_type": "stream",
     "text": [
      "\n",
      "Epoch 21: ReduceLROnPlateau reducing learning rate to 0.0006249999860301614.\n"
     ]
    },
    {
     "name": "stdout",
     "output_type": "stream",
     "text": [
      "training elapsed time: ___483.49___ minutes\n",
      "...training completed!\n"
     ]
    },
    {
     "data": {
      "image/png": "[encoded data removed]",
      "text/plain": [
       "<Figure size 640x480 with 1 Axes>"
      ]
     },
     "metadata": {},
     "output_type": "display_data"
    },
    {
     "name": "stdout",
     "output_type": "stream",
     "text": [
      "Loading time used 483.52513174215954 mins\n"
     ]
    }
   ],
   "source": [
    "time_start= time.time()\n",
    "\n",
    "print(\"\\n\\n{}\\n\\t{}\\n{}\".format('='*55,f'Train {m_obj.Name} model', '-'*55))\n",
    "\n",
    "model, train_history = \\\n",
    "    conf.execute_training(\n",
    "        model, \n",
    "        data=train_dataset, \n",
    "        plot_history=INTERACTIVE_SESSION\n",
    ")\n",
    "\n",
    "time_end = (time.time()-time_start)/60\n",
    "print(f'Loading time used {time_end} mins')"
   ]
  },
  {
   "cell_type": "code",
   "execution_count": 12,
   "metadata": {
    "execution": {
     "iopub.execute_input": "2024-05-18T21:52:24.376177Z",
     "iopub.status.busy": "2024-05-18T21:52:24.375722Z",
     "iopub.status.idle": "2024-05-18T21:52:30.354356Z",
     "shell.execute_reply": "2024-05-18T21:52:30.353742Z"
    }
   },
   "outputs": [
    {
     "data": {
      "image/png": "[encoded data removed]",
      "text/plain": [
       "<Figure size 640x480 with 1 Axes>"
      ]
     },
     "metadata": {},
     "output_type": "display_data"
    }
   ],
   "source": [
    "show_convergence(train_history.history, ['accuracy','val_accuracy'])"
   ]
  },
  {
   "cell_type": "code",
   "execution_count": 13,
   "metadata": {
    "execution": {
     "iopub.execute_input": "2024-05-18T21:52:30.357091Z",
     "iopub.status.busy": "2024-05-18T21:52:30.356940Z",
     "iopub.status.idle": "2024-05-18T21:52:33.997293Z",
     "shell.execute_reply": "2024-05-18T21:52:33.996680Z"
    }
   },
   "outputs": [
    {
     "data": {
      "image/png": "[encoded data removed]",
      "text/plain": [
       "<Figure size 640x480 with 1 Axes>"
      ]
     },
     "metadata": {},
     "output_type": "display_data"
    }
   ],
   "source": [
    "show_convergence(train_history.history, 'lr')"
   ]
  },
  {
   "cell_type": "markdown",
   "metadata": {},
   "source": [
    "### Visualize predictions"
   ]
  },
  {
   "cell_type": "code",
   "execution_count": 14,
   "metadata": {
    "execution": {
     "iopub.execute_input": "2024-05-18T21:52:34.000792Z",
     "iopub.status.busy": "2024-05-18T21:52:34.000384Z",
     "iopub.status.idle": "2024-05-18T21:52:37.290232Z",
     "shell.execute_reply": "2024-05-18T21:52:37.289292Z"
    }
   },
   "outputs": [],
   "source": [
    "# check the pairs of ori images and labels on val dataset\n",
    "\n",
    "#display_sample_images(val_dataset[0], val_dataset[1],(96,96))"
   ]
  },
  {
   "cell_type": "code",
   "execution_count": 15,
   "metadata": {
    "execution": {
     "iopub.execute_input": "2024-05-18T21:52:37.293971Z",
     "iopub.status.busy": "2024-05-18T21:52:37.293662Z",
     "iopub.status.idle": "2024-05-18T21:52:40.568540Z",
     "shell.execute_reply": "2024-05-18T21:52:40.567809Z"
    }
   },
   "outputs": [],
   "source": [
    "#time_start= time.time()\n",
    "#y_preds = model.predict(test_dataset[0])\n",
    "\n",
    "#time_end = (time.time()-time_start)/60\n",
    "#print(f'Loading time used {time_end} mins')"
   ]
  },
  {
   "cell_type": "code",
   "execution_count": 16,
   "metadata": {
    "execution": {
     "iopub.execute_input": "2024-05-18T21:52:40.571564Z",
     "iopub.status.busy": "2024-05-18T21:52:40.571057Z",
     "iopub.status.idle": "2024-05-18T21:52:43.797053Z",
     "shell.execute_reply": "2024-05-18T21:52:43.796190Z"
    }
   },
   "outputs": [],
   "source": [
    "#display_sample_images(y_preds, test_dataset[1],(96,96))"
   ]
  },
  {
   "cell_type": "code",
   "execution_count": 17,
   "metadata": {
    "execution": {
     "iopub.execute_input": "2024-05-18T21:52:43.800525Z",
     "iopub.status.busy": "2024-05-18T21:52:43.800241Z",
     "iopub.status.idle": "2024-05-18T21:52:47.082764Z",
     "shell.execute_reply": "2024-05-18T21:52:47.081881Z"
    }
   },
   "outputs": [],
   "source": [
    "#time_start= time.time()\n",
    "\n",
    "#print(\"\\n\\n{}\\n\\t{}\\n{}\".format('='*55,f'Evaluate {m_obj.Name} model', '-'*55))\n",
    "\n",
    "#model.evaluate(x=test_dataset)\n",
    "#time_end = (time.time()-time_start)/60\n",
    "#print(f'Loading time used {time_end} mins')"
   ]
  },
  {
   "cell_type": "code",
   "execution_count": 18,
   "metadata": {
    "execution": {
     "iopub.execute_input": "2024-05-18T21:52:47.086508Z",
     "iopub.status.busy": "2024-05-18T21:52:47.085933Z",
     "iopub.status.idle": "2024-05-18T21:52:50.545804Z",
     "shell.execute_reply": "2024-05-18T21:52:50.545148Z"
    }
   },
   "outputs": [],
   "source": [
    "# Using scikit-learn\n",
    "#scores = m_obj.evaluate_sklearn(test_dataset, y_preds,report=True)\n",
    "#print(scores)\n"
   ]
  }
 ],
 "metadata": {
  "kernelspec": {
   "display_name": "Python 3 (ipykernel)",
   "language": "python",
   "name": "python3"
  },
  "language_info": {
   "codemirror_mode": {
    "name": "ipython",
    "version": 3
   },
   "file_extension": ".py",
   "mimetype": "text/x-python",
   "name": "python",
   "nbconvert_exporter": "python",
   "pygments_lexer": "ipython3",
   "version": "3.11.8"
  }
 },
 "nbformat": 4,
 "nbformat_minor": 4
}
