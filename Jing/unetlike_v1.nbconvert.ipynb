{
 "cells": [
  {
   "cell_type": "code",
   "execution_count": 1,
   "metadata": {
    "execution": {
     "iopub.execute_input": "2024-05-29T21:37:44.359841Z",
     "iopub.status.busy": "2024-05-29T21:37:44.359346Z",
     "iopub.status.idle": "2024-05-29T21:37:45.387993Z",
     "shell.execute_reply": "2024-05-29T21:37:45.387044Z"
    }
   },
   "outputs": [],
   "source": [
    "%load_ext autoreload\n",
    "%autoreload 2"
   ]
  },
  {
   "cell_type": "code",
   "execution_count": 2,
   "metadata": {
    "execution": {
     "iopub.execute_input": "2024-05-29T21:37:45.393873Z",
     "iopub.status.busy": "2024-05-29T21:37:45.393320Z",
     "iopub.status.idle": "2024-05-29T21:37:46.311445Z",
     "shell.execute_reply": "2024-05-29T21:37:46.310433Z"
    }
   },
   "outputs": [],
   "source": [
    "from IPython.core.interactiveshell import InteractiveShell\n",
    "InteractiveShell.ast_node_interactivity = \"last\" # all | last | last_expr | none "
   ]
  },
  {
   "cell_type": "code",
   "execution_count": 3,
   "metadata": {
    "execution": {
     "iopub.execute_input": "2024-05-29T21:37:46.316186Z",
     "iopub.status.busy": "2024-05-29T21:37:46.315773Z",
     "iopub.status.idle": "2024-05-29T21:37:47.267737Z",
     "shell.execute_reply": "2024-05-29T21:37:47.266740Z"
    }
   },
   "outputs": [],
   "source": [
    "# for name in dir():\n",
    "#     if not name.startswith('_'):\n",
    "#         del globals()[name]"
   ]
  },
  {
   "cell_type": "markdown",
   "metadata": {},
   "source": [
    "### Data preparation and model configuration"
   ]
  },
  {
   "cell_type": "code",
   "execution_count": 4,
   "metadata": {
    "execution": {
     "iopub.execute_input": "2024-05-29T21:37:47.273000Z",
     "iopub.status.busy": "2024-05-29T21:37:47.272451Z",
     "iopub.status.idle": "2024-05-29T21:39:17.881642Z",
     "shell.execute_reply": "2024-05-29T21:39:17.880267Z"
    }
   },
   "outputs": [
    {
     "name": "stderr",
     "output_type": "stream",
     "text": [
      "2024-05-29 23:38:27.632132: I tensorflow/core/util/port.cc:113] oneDNN custom operations are on. You may see slightly different numerical results due to floating-point round-off errors from different computation orders. To turn them off, set the environment variable `TF_ENABLE_ONEDNN_OPTS=0`.\n",
      "2024-05-29 23:38:29.447826: E external/local_xla/xla/stream_executor/cuda/cuda_dnn.cc:9261] Unable to register cuDNN factory: Attempting to register factory for plugin cuDNN when one has already been registered\n",
      "2024-05-29 23:38:29.448647: E external/local_xla/xla/stream_executor/cuda/cuda_fft.cc:607] Unable to register cuFFT factory: Attempting to register factory for plugin cuFFT when one has already been registered\n",
      "2024-05-29 23:38:29.658417: E external/local_xla/xla/stream_executor/cuda/cuda_blas.cc:1515] Unable to register cuBLAS factory: Attempting to register factory for plugin cuBLAS when one has already been registered\n",
      "2024-05-29 23:38:30.157133: I tensorflow/core/platform/cpu_feature_guard.cc:182] This TensorFlow binary is optimized to use available CPU instructions in performance-critical operations.\n",
      "To enable the following instructions: SSE4.1 SSE4.2 AVX AVX2 AVX512F AVX512_VNNI FMA, in other operations, rebuild TensorFlow with the appropriate compiler flags.\n"
     ]
    }
   ],
   "source": [
    "# ============= Import required packaages ==============\n",
    "# Import all custom variables and modules\n",
    "\n",
    "from custom_classes_defs_revised.preprocessing import *\n",
    "#from custom_classes_defs_revised.unet0 import *\n",
    "from custom_classes_defs_revised.Unet_like import *\n",
    "\n",
    "#from custom_classes_defs.setup import *  \n",
    "#from custom_classes_defs.preprocessing import *\n",
    "#from custom_classes_defs.Unet_like import * \n",
    "#from custom_classes_defs.unet import *   \n",
    "# from custom_classes_defs.fnet import * \n",
    "# from custom_classes_defs.fnet1 import *\n",
    "# from custom_classes_defs.hed import *\n",
    "\n",
    "import keras\n",
    "import numpy as np\n",
    "\n",
    "from keras.utils import plot_model\n",
    "\n",
    "RND_STATE = 247\n",
    "BATCH_SIZE = 256\n",
    "\n",
    "\n",
    "keras.utils.set_random_seed(RND_STATE)\n",
    "\n",
    "INTERACTIVE_SESSION = True\n",
    "\n",
    "# import keras_tuner as kt\n",
    "# -------------------------------------------------------"
   ]
  },
  {
   "cell_type": "code",
   "execution_count": 5,
   "metadata": {
    "execution": {
     "iopub.execute_input": "2024-05-29T21:39:17.889247Z",
     "iopub.status.busy": "2024-05-29T21:39:17.888400Z",
     "iopub.status.idle": "2024-05-29T21:39:27.876516Z",
     "shell.execute_reply": "2024-05-29T21:39:27.875784Z"
    }
   },
   "outputs": [
    {
     "name": "stdout",
     "output_type": "stream",
     "text": [
      "tensorflow version: 2.15.0\n",
      "keras version: 2.15.0\n",
      "[PhysicalDevice(name='/physical_device:CPU:0', device_type='CPU'), PhysicalDevice(name='/physical_device:GPU:0', device_type='GPU')]\n",
      "Number of GPUs assigned for computation: 1\n"
     ]
    }
   ],
   "source": [
    "# Verify tensorflow/keras versions\n",
    "print(f\"tensorflow version: {tf.__version__}\")\n",
    "print(f\"keras version: {keras.__version__}\")\n",
    "\n",
    "# Verify CPU/GPU availability\n",
    "print(tf.config.list_physical_devices())\n",
    "NUM_GPU = len(tf.config.list_physical_devices('GPU'))\n",
    "print(f\"Number of GPUs assigned for computation: {NUM_GPU}\")\n",
    "\n",
    "#if NUM_GPU:\n",
    "#    # print GPU info\n",
    "#    !nvidia-smi"
   ]
  },
  {
   "cell_type": "code",
   "execution_count": 6,
   "metadata": {
    "execution": {
     "iopub.execute_input": "2024-05-29T21:39:27.881058Z",
     "iopub.status.busy": "2024-05-29T21:39:27.880765Z",
     "iopub.status.idle": "2024-05-29T21:40:23.749901Z",
     "shell.execute_reply": "2024-05-29T21:40:23.748881Z"
    }
   },
   "outputs": [
    {
     "name": "stdout",
     "output_type": "stream",
     "text": [
      "=======================================================\n",
      "\tData preparation and model configurations\n",
      "-------------------------------------------------------\n"
     ]
    },
    {
     "name": "stderr",
     "output_type": "stream",
     "text": [
      "2024-05-29 23:39:49.208335: I tensorflow/core/common_runtime/gpu/gpu_device.cc:1929] Created device /job:localhost/replica:0/task:0/device:GPU:0 with 37787 MB memory:  -> device: 0, name: NVIDIA A100-PCIE-40GB, pci bus id: 0000:86:00.0, compute capability: 8.0\n"
     ]
    },
    {
     "name": "stdout",
     "output_type": "stream",
     "text": [
      "Train Dataset: <CacheDataset element_spec=(TensorSpec(shape=(None, 96, 96, 1), dtype=tf.float32, name=None), TensorSpec(shape=(None, 96, 96, 1), dtype=tf.float32, name=None))>\n",
      "Size of training data: 181029\n",
      "Size of validation data: 64317\n",
      "Size of test data: 66077\n",
      "...elapsed time: ___ 0.85 minutes___\n"
     ]
    }
   ],
   "source": [
    "print(\"{}\\n\\t{}\\n{}\".format('='*55,'Data preparation and model configurations', '-'*55))\n",
    "time_start= time.time()\n",
    "\n",
    "seis_path = '../data_thebe/seismic/'\n",
    "label_path = '../data_thebe/fault/'\n",
    "\n",
    "thebe_data = Thebe(seis_path,label_path)\n",
    "\n",
    "train_dataset = thebe_data.data_generator(sub_group='train',batch_size = BATCH_SIZE, cache=True)\n",
    "val_dataset = thebe_data.data_generator(sub_group='val',batch_size= BATCH_SIZE, cache= True)\n",
    "test_dataset = thebe_data.data_generator(sub_group='test',as_numpy=True, cache=True)\n",
    "\n",
    "print(\"Train Dataset:\", train_dataset)\n",
    "\n",
    "print(\"Size of training data: {}\".format(thebe_data.train_size))\n",
    "print(\"Size of validation data: {}\".format(thebe_data.validation_size))\n",
    "print(\"Size of test data: {}\".format(thebe_data.test_size)) \n",
    "\n",
    "print('...elapsed time: ___{:5.2f} minutes___'.format((time.time()-time_start) / 60))"
   ]
  },
  {
   "cell_type": "code",
   "execution_count": 7,
   "metadata": {
    "execution": {
     "iopub.execute_input": "2024-05-29T21:40:23.754797Z",
     "iopub.status.busy": "2024-05-29T21:40:23.754294Z",
     "iopub.status.idle": "2024-05-29T21:40:30.644626Z",
     "shell.execute_reply": "2024-05-29T21:40:30.643307Z"
    }
   },
   "outputs": [
    {
     "name": "stdout",
     "output_type": "stream",
     "text": [
      "             NUM_GPU: 1\n",
      "        augmentation: False\n",
      "        channels_dim: (1, 1)\n",
      "        compile_args:\n",
      "                     optimizer: <class 'keras.src.optimizers.adam.Adam'>\n",
      "                          loss: binary_crossentropy\n",
      "                       metrics: accuracy\n",
      "                              : f1_score(name=f1_score,dtype=float32)\n",
      "           img_shape: (96, 96)\n",
      "              labels: ListWrapper([0, 1])\n",
      "     mixed_precision: None\n",
      "          model_arch:\n",
      "                     img_shape: (96, 96)\n",
      "                   target_size: (96, 96)\n",
      "                  channels_dim: (1, 1)\n",
      "                       scaling: 1\n",
      "                  augmentation: False\n",
      " multiple_gpu_device: False\n",
      "new_training_session: True\n",
      "           pos_label: 1\n",
      "           save_path: ./output/unetlike\n",
      "             scaling: 1\n",
      "         target_size: (96, 96)\n",
      "           test_size: 66077\n",
      "           threshold: 0.5\n",
      "          train_size: 181029\n",
      "       training_args:\n",
      "                        epochs: 100\n",
      "                    batch_size: 256\n",
      "                       shuffle: True\n",
      "                       verbose: 0\n",
      "               validation_data: <class 'tensorflow.python.data.ops.cache_op.CacheDataset'>\n",
      "                     callbacks: <keras.src.callbacks.ModelCheckpoint object at 0x7f2d12b6c6d0>\n",
      "                              : <keras.src.callbacks.ReduceLROnPlateau object at 0x7f2d5db52a10>\n",
      "                              : <keras.src.callbacks.EarlyStopping object at 0x7f2de9e9dbd0>\n",
      "   training_duration: None\n",
      "     validation_size: 64317\n"
     ]
    }
   ],
   "source": [
    "# Model configurations\n",
    "conf = model_config(\n",
    "    epochs=100,\n",
    "    batch_size=BATCH_SIZE,\n",
    "    shuffle=True,\n",
    "    scaling=1,\n",
    "    save_path='./output/unetlike',\n",
    "    img_shape=thebe_data.img_size,\n",
    "    target_size=thebe_data.img_size,\n",
    "    threshold=thebe_data.threshold,\n",
    "    pos_label=thebe_data.pos_label,\n",
    "    train_size=thebe_data.train_size,\n",
    "    test_size=thebe_data.test_size,\n",
    "    new_training_session=True,\n",
    "    multiple_gpu_device=(NUM_GPU>1),\n",
    "    validation_size=thebe_data.validation_size\n",
    ")\n",
    "\n",
    "callbacks = conf.callbacks(\n",
    "    chkpt_monitor='val_f1_score', \n",
    "    es_monitor='val_loss',\n",
    "    es_patience=100, \n",
    "    lr_monitor='val_loss',\n",
    ")\n",
    "\n",
    "conf.set( validation_data=val_dataset,  callbacks=callbacks )\n",
    "m1 = f1_score(positive_label=thebe_data.pos_label, threshold=thebe_data.threshold)\n",
    "conf.set(\n",
    "    'compile',\n",
    "    optimizer=tf.keras.optimizers.Adam(1e-3), \n",
    "    metrics= ['accuracy', m1]\n",
    ")\n",
    "\n",
    "# conf.double_check(INTERACTIVE_SESSION)\n",
    "conf.info()"
   ]
  },
  {
   "cell_type": "markdown",
   "metadata": {},
   "source": [
    "### Build model"
   ]
  },
  {
   "cell_type": "code",
   "execution_count": 8,
   "metadata": {
    "execution": {
     "iopub.execute_input": "2024-05-29T21:40:30.650385Z",
     "iopub.status.busy": "2024-05-29T21:40:30.649757Z",
     "iopub.status.idle": "2024-05-29T21:40:36.805729Z",
     "shell.execute_reply": "2024-05-29T21:40:36.804955Z"
    }
   },
   "outputs": [
    {
     "name": "stdout",
     "output_type": "stream",
     "text": [
      "\n",
      "\n",
      "=======================================================\n",
      "\tBuild model\n",
      "-------------------------------------------------------\n"
     ]
    },
    {
     "name": "stdout",
     "output_type": "stream",
     "text": [
      "Total number of parameters: 2,057,825\n",
      "Total trainable wieghts: 2,054,049\n",
      "Total non-trainable wieghts: 3,776\n"
     ]
    }
   ],
   "source": [
    "print(\"\\n\\n{}\\n\\t{}\\n{}\".format('='*55,f'Build model', '-'*55))\n",
    "\n",
    "if conf.multiple_gpu_device:\n",
    "\n",
    "    strategy = tf.distribute.MirroredStrategy()\n",
    "    print(f\"Number of devices: {strategy.num_replicas_in_sync}\")\n",
    "    with strategy.scope():\n",
    "\n",
    "        conf = model_config(\n",
    "            epochs=100,\n",
    "            batch_size=BATCH_SIZE,\n",
    "            shuffle=True,\n",
    "            scaling=1,\n",
    "            save_path='./output/unetlike',\n",
    "            img_shape=thebe_data.img_size,\n",
    "            target_size=thebe_data.img_size,\n",
    "            threshold=thebe_data.threshold,\n",
    "            pos_label=thebe_data.pos_label,\n",
    "            train_size=thebe_data.train_size,\n",
    "            test_size=thebe_data.test_size,\n",
    "            new_training_session=True,\n",
    "            multiple_gpu_device=None,\n",
    "            validation_size=thebe_data.validation_size\n",
    "        )\n",
    "\n",
    "        callbacks = conf.callbacks(\n",
    "            chkpt_monitor='val_f1_score', \n",
    "            es_monitor='val_loss',\n",
    "            es_patience=100, \n",
    "            lr_monitor='val_loss',\n",
    "        )\n",
    "\n",
    "        conf.set( validation_data=val_dataset,  callbacks=callbacks )\n",
    "        m1 = f1_score(positive_label=thebe_data.pos_label, threshold=thebe_data.threshold)\n",
    "        conf.set(\n",
    "            'compile',\n",
    "            metrics= ['accuracy', m1]\n",
    "        )\n",
    "\n",
    "        m_obj = UNET2D(panel_sizes=[32,64,128,256], model_arch=conf.model_arch)\n",
    "        #m_obj = FNET2D(panel_sizes=[32,64,128,256], model_arch=conf.model_arch)\n",
    "        model = m_obj.build_model()\n",
    "        model.compile(**conf.compile_args)\n",
    "\n",
    "else:\n",
    "\n",
    "    m_obj = UNET2D(panel_sizes=[32,64,128,256], model_arch=conf.model_arch)\n",
    "    #m_obj = FNET2D(panel_sizes=[32,64,128,256], model_arch=conf.model_arch)\n",
    "    model = m_obj.build_model()\n",
    "    model.compile(**conf.compile_args)\n",
    "\n",
    "\n",
    "# model.summary()\n",
    "# keras.utils.plot_model(model, 'm_obj.png',show_shapes=True)\n",
    "# plot_model(model, 'm_obj.png',show_shapes=True)\n",
    "num_trainable_weights = sum([np.prod(w.shape) for w in model.trainable_weights])\n",
    "print(f\"Total number of parameters: {model.count_params():,}\")\n",
    "print(f\"Total trainable wieghts: {num_trainable_weights:,}\")\n",
    "print(f\"Total non-trainable wieghts: {model.count_params()-num_trainable_weights:,}\")\n",
    "\n"
   ]
  },
  {
   "cell_type": "markdown",
   "metadata": {},
   "source": [
    "### Train the model"
   ]
  },
  {
   "cell_type": "code",
   "execution_count": 9,
   "metadata": {
    "execution": {
     "iopub.execute_input": "2024-05-29T21:40:36.810101Z",
     "iopub.status.busy": "2024-05-29T21:40:36.809803Z",
     "iopub.status.idle": "2024-05-29T23:55:16.814128Z",
     "shell.execute_reply": "2024-05-29T23:55:16.812966Z"
    }
   },
   "outputs": [
    {
     "name": "stdout",
     "output_type": "stream",
     "text": [
      "\n",
      "\n",
      "=======================================================\n",
      "\tTrain unet model\n",
      "-------------------------------------------------------\n",
      "Model training...\n"
     ]
    },
    {
     "name": "stderr",
     "output_type": "stream",
     "text": [
      "2024-05-29 23:40:54.351805: E tensorflow/core/grappler/optimizers/meta_optimizer.cc:961] layout failed: INVALID_ARGUMENT: Size of values 0 does not match size of permutation 4 @ fanin shape inU-NET/dropout/dropout/SelectV2-2-TransposeNHWCToNCHW-LayoutOptimizer\n"
     ]
    },
    {
     "name": "stderr",
     "output_type": "stream",
     "text": [
      "2024-05-29 23:40:56.113449: I external/local_xla/xla/stream_executor/cuda/cuda_dnn.cc:454] Loaded cuDNN version 8907\n"
     ]
    },
    {
     "name": "stderr",
     "output_type": "stream",
     "text": [
      "2024-05-29 23:41:14.724186: I external/local_xla/xla/service/service.cc:168] XLA service 0x7f277c3e1620 initialized for platform CUDA (this does not guarantee that XLA will be used). Devices:\n",
      "2024-05-29 23:41:14.724260: I external/local_xla/xla/service/service.cc:176]   StreamExecutor device (0): NVIDIA A100-PCIE-40GB, Compute Capability 8.0\n",
      "2024-05-29 23:41:14.877471: I tensorflow/compiler/mlir/tensorflow/utils/dump_mlir_util.cc:269] disabling MLIR crash reproducer, set env var `MLIR_CRASH_REPRODUCER_DIRECTORY` to enable.\n"
     ]
    },
    {
     "name": "stderr",
     "output_type": "stream",
     "text": [
      "WARNING: All log messages before absl::InitializeLog() is called are written to STDERR\n",
      "I0000 00:00:1717018876.116158 3992081 device_compiler.h:186] Compiled cluster using XLA!  This line is logged at most once for the lifetime of the process.\n"
     ]
    },
    {
     "name": "stdout",
     "output_type": "stream",
     "text": [
      "\n",
      "Epoch 21: ReduceLROnPlateau reducing learning rate to 0.0005000000237487257.\n"
     ]
    },
    {
     "name": "stdout",
     "output_type": "stream",
     "text": [
      "\n",
      "Epoch 31: ReduceLROnPlateau reducing learning rate to 0.0002500000118743628.\n"
     ]
    },
    {
     "name": "stdout",
     "output_type": "stream",
     "text": [
      "\n",
      "Epoch 41: ReduceLROnPlateau reducing learning rate to 0.0001250000059371814.\n"
     ]
    },
    {
     "name": "stdout",
     "output_type": "stream",
     "text": [
      "\n",
      "Epoch 51: ReduceLROnPlateau reducing learning rate to 6.25000029685907e-05.\n"
     ]
    },
    {
     "name": "stdout",
     "output_type": "stream",
     "text": [
      "\n",
      "Epoch 61: ReduceLROnPlateau reducing learning rate to 3.125000148429535e-05.\n"
     ]
    },
    {
     "name": "stdout",
     "output_type": "stream",
     "text": [
      "\n",
      "Epoch 71: ReduceLROnPlateau reducing learning rate to 1.5625000742147677e-05.\n"
     ]
    },
    {
     "name": "stdout",
     "output_type": "stream",
     "text": [
      "\n",
      "Epoch 81: ReduceLROnPlateau reducing learning rate to 7.812500371073838e-06.\n"
     ]
    },
    {
     "name": "stdout",
     "output_type": "stream",
     "text": [
      "\n",
      "Epoch 91: ReduceLROnPlateau reducing learning rate to 3.906250185536919e-06.\n"
     ]
    },
    {
     "name": "stdout",
     "output_type": "stream",
     "text": [
      "training elapsed time: ___134.55___ minutes\n",
      "...training completed!\n"
     ]
    },
    {
     "data": {
      "image/png": "[encoded data removed]",
      "text/plain": [
       "<Figure size 640x480 with 1 Axes>"
      ]
     },
     "metadata": {},
     "output_type": "display_data"
    },
    {
     "name": "stdout",
     "output_type": "stream",
     "text": [
      "Loading time used 134.58556300401688 mins\n"
     ]
    }
   ],
   "source": [
    "time_start= time.time()\n",
    "print(\"\\n\\n{}\\n\\t{}\\n{}\".format('='*55,f'Train {m_obj.Name} model', '-'*55))\n",
    "\n",
    "model, train_history = \\\n",
    "    conf.execute_training(\n",
    "        model, \n",
    "        data=train_dataset, \n",
    "        plot_history=INTERACTIVE_SESSION\n",
    ")\n",
    "\n",
    "\n",
    "time_end = (time.time()-time_start)/60\n",
    "print(f'Loading time used {time_end} mins')"
   ]
  },
  {
   "cell_type": "code",
   "execution_count": 10,
   "metadata": {
    "execution": {
     "iopub.execute_input": "2024-05-29T23:55:16.820356Z",
     "iopub.status.busy": "2024-05-29T23:55:16.819759Z",
     "iopub.status.idle": "2024-05-30T02:04:50.653869Z",
     "shell.execute_reply": "2024-05-30T02:04:50.652936Z"
    }
   },
   "outputs": [
    {
     "name": "stdout",
     "output_type": "stream",
     "text": [
      "\n",
      "\n",
      "=======================================================\n",
      "\tTrain unet model\n",
      "-------------------------------------------------------\n",
      "Model training...\n"
     ]
    },
    {
     "name": "stdout",
     "output_type": "stream",
     "text": [
      "\n",
      "Epoch 11: ReduceLROnPlateau reducing learning rate to 1.9531250927684596e-06.\n"
     ]
    },
    {
     "name": "stdout",
     "output_type": "stream",
     "text": [
      "\n",
      "Epoch 21: ReduceLROnPlateau reducing learning rate to 1e-06.\n"
     ]
    },
    {
     "name": "stdout",
     "output_type": "stream",
     "text": [
      "training elapsed time: ___129.47___ minutes\n",
      "...training completed!\n"
     ]
    },
    {
     "data": {
      "image/png": "[encoded data removed]",
      "text/plain": [
       "<Figure size 640x480 with 1 Axes>"
      ]
     },
     "metadata": {},
     "output_type": "display_data"
    },
    {
     "name": "stdout",
     "output_type": "stream",
     "text": [
      "Loading time used 129.48035744825998 mins\n"
     ]
    }
   ],
   "source": [
    "time_start= time.time()\n",
    "\n",
    "print(\"\\n\\n{}\\n\\t{}\\n{}\".format('='*55,f'Train {m_obj.Name} model', '-'*55))\n",
    "\n",
    "model, train_history = \\\n",
    "    conf.execute_training(\n",
    "        model, \n",
    "        data=train_dataset, \n",
    "        plot_history=INTERACTIVE_SESSION\n",
    ")\n",
    "\n",
    "time_end = (time.time()-time_start)/60\n",
    "print(f'Loading time used {time_end} mins')"
   ]
  },
  {
   "cell_type": "code",
   "execution_count": 11,
   "metadata": {
    "execution": {
     "iopub.execute_input": "2024-05-30T02:04:50.658552Z",
     "iopub.status.busy": "2024-05-30T02:04:50.658172Z",
     "iopub.status.idle": "2024-05-30T02:04:55.488221Z",
     "shell.execute_reply": "2024-05-30T02:04:55.487501Z"
    }
   },
   "outputs": [
    {
     "data": {
      "image/png": "[encoded data removed]",
      "text/plain": [
       "<Figure size 640x480 with 1 Axes>"
      ]
     },
     "metadata": {},
     "output_type": "display_data"
    }
   ],
   "source": [
    "show_convergence(train_history.history, ['accuracy','val_accuracy'])"
   ]
  },
  {
   "cell_type": "code",
   "execution_count": 12,
   "metadata": {
    "execution": {
     "iopub.execute_input": "2024-05-30T02:04:55.493440Z",
     "iopub.status.busy": "2024-05-30T02:04:55.493154Z",
     "iopub.status.idle": "2024-05-30T02:05:00.231503Z",
     "shell.execute_reply": "2024-05-30T02:05:00.230801Z"
    }
   },
   "outputs": [
    {
     "data": {
      "image/png": "[encoded data removed]",
      "text/plain": [
       "<Figure size 640x480 with 1 Axes>"
      ]
     },
     "metadata": {},
     "output_type": "display_data"
    }
   ],
   "source": [
    "show_convergence(train_history.history, ['f1_score','val_f1_score'])"
   ]
  },
  {
   "cell_type": "code",
   "execution_count": 13,
   "metadata": {
    "execution": {
     "iopub.execute_input": "2024-05-30T02:05:00.236543Z",
     "iopub.status.busy": "2024-05-30T02:05:00.236260Z",
     "iopub.status.idle": "2024-05-30T02:05:04.659436Z",
     "shell.execute_reply": "2024-05-30T02:05:04.658706Z"
    }
   },
   "outputs": [
    {
     "data": {
      "image/png": "[encoded data removed]",
      "text/plain": [
       "<Figure size 640x480 with 1 Axes>"
      ]
     },
     "metadata": {},
     "output_type": "display_data"
    }
   ],
   "source": [
    "show_convergence(train_history.history, 'lr')"
   ]
  },
  {
   "cell_type": "markdown",
   "metadata": {},
   "source": [
    "### Visualize predictions"
   ]
  },
  {
   "cell_type": "code",
   "execution_count": 14,
   "metadata": {
    "execution": {
     "iopub.execute_input": "2024-05-30T02:05:04.664396Z",
     "iopub.status.busy": "2024-05-30T02:05:04.664117Z",
     "iopub.status.idle": "2024-05-30T02:05:09.358076Z",
     "shell.execute_reply": "2024-05-30T02:05:09.357053Z"
    }
   },
   "outputs": [],
   "source": [
    "# check the pairs of ori images and labels on val dataset\n",
    "\n",
    "#display_sample_images(val_dataset[0], val_dataset[1],(96,96))"
   ]
  },
  {
   "cell_type": "code",
   "execution_count": 15,
   "metadata": {
    "execution": {
     "iopub.execute_input": "2024-05-30T02:05:09.363211Z",
     "iopub.status.busy": "2024-05-30T02:05:09.362705Z",
     "iopub.status.idle": "2024-05-30T02:05:14.387744Z",
     "shell.execute_reply": "2024-05-30T02:05:14.386678Z"
    }
   },
   "outputs": [],
   "source": [
    "#time_start= time.time()\n",
    "#y_preds = model.predict(test_dataset[0])\n",
    "\n",
    "#time_end = (time.time()-time_start)/60\n",
    "#print(f'Loading time used {time_end} mins')"
   ]
  },
  {
   "cell_type": "code",
   "execution_count": 16,
   "metadata": {
    "execution": {
     "iopub.execute_input": "2024-05-30T02:05:14.393100Z",
     "iopub.status.busy": "2024-05-30T02:05:14.392530Z",
     "iopub.status.idle": "2024-05-30T02:05:19.416619Z",
     "shell.execute_reply": "2024-05-30T02:05:19.415565Z"
    }
   },
   "outputs": [],
   "source": [
    "#display_sample_images(y_preds, test_dataset[1],(96,96))"
   ]
  },
  {
   "cell_type": "code",
   "execution_count": 17,
   "metadata": {
    "execution": {
     "iopub.execute_input": "2024-05-30T02:05:19.421736Z",
     "iopub.status.busy": "2024-05-30T02:05:19.421229Z",
     "iopub.status.idle": "2024-05-30T02:05:24.674110Z",
     "shell.execute_reply": "2024-05-30T02:05:24.673072Z"
    }
   },
   "outputs": [],
   "source": [
    "#time_start= time.time()\n",
    "\n",
    "#print(\"\\n\\n{}\\n\\t{}\\n{}\".format('='*55,f'Evaluate {m_obj.Name} model', '-'*55))\n",
    "\n",
    "#model.evaluate(x=test_dataset)\n",
    "#time_end = (time.time()-time_start)/60\n",
    "#print(f'Loading time used {time_end} mins')"
   ]
  },
  {
   "cell_type": "code",
   "execution_count": 18,
   "metadata": {
    "execution": {
     "iopub.execute_input": "2024-05-30T02:05:24.679295Z",
     "iopub.status.busy": "2024-05-30T02:05:24.678795Z",
     "iopub.status.idle": "2024-05-30T02:05:29.724378Z",
     "shell.execute_reply": "2024-05-30T02:05:29.723313Z"
    }
   },
   "outputs": [],
   "source": [
    "# Using scikit-learn\n",
    "#scores = m_obj.evaluate_sklearn(test_dataset, y_preds,report=True)\n",
    "#print(scores)\n"
   ]
  }
 ],
 "metadata": {
  "kernelspec": {
   "display_name": "Python 3 (ipykernel)",
   "language": "python",
   "name": "python3"
  },
  "language_info": {
   "codemirror_mode": {
    "name": "ipython",
    "version": 3
   },
   "file_extension": ".py",
   "mimetype": "text/x-python",
   "name": "python",
   "nbconvert_exporter": "python",
   "pygments_lexer": "ipython3",
   "version": "3.11.8"
  }
 },
 "nbformat": 4,
 "nbformat_minor": 4
}
