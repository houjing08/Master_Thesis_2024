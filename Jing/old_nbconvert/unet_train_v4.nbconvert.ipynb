{
 "cells": [
  {
   "cell_type": "code",
   "execution_count": 1,
   "metadata": {
    "execution": {
     "iopub.execute_input": "2024-05-07T12:41:06.673533Z",
     "iopub.status.busy": "2024-05-07T12:41:06.673141Z",
     "iopub.status.idle": "2024-05-07T12:41:07.283304Z",
     "shell.execute_reply": "2024-05-07T12:41:07.282293Z"
    }
   },
   "outputs": [],
   "source": [
    "%load_ext autoreload\n",
    "%autoreload 2"
   ]
  },
  {
   "cell_type": "code",
   "execution_count": 2,
   "metadata": {
    "execution": {
     "iopub.execute_input": "2024-05-07T12:41:07.289629Z",
     "iopub.status.busy": "2024-05-07T12:41:07.289045Z",
     "iopub.status.idle": "2024-05-07T12:41:07.875115Z",
     "shell.execute_reply": "2024-05-07T12:41:07.874234Z"
    }
   },
   "outputs": [],
   "source": [
    "from IPython.core.interactiveshell import InteractiveShell\n",
    "InteractiveShell.ast_node_interactivity = \"last\" # all | last | last_expr | none "
   ]
  },
  {
   "cell_type": "code",
   "execution_count": 3,
   "metadata": {
    "execution": {
     "iopub.execute_input": "2024-05-07T12:41:07.878709Z",
     "iopub.status.busy": "2024-05-07T12:41:07.878190Z",
     "iopub.status.idle": "2024-05-07T12:41:08.478439Z",
     "shell.execute_reply": "2024-05-07T12:41:08.468983Z"
    }
   },
   "outputs": [],
   "source": [
    "# for name in dir():\n",
    "#     if not name.startswith('_'):\n",
    "#         del globals()[name]"
   ]
  },
  {
   "cell_type": "markdown",
   "metadata": {},
   "source": [
    "### Data preparation and model configuration"
   ]
  },
  {
   "cell_type": "code",
   "execution_count": 4,
   "metadata": {
    "execution": {
     "iopub.execute_input": "2024-05-07T12:41:08.482630Z",
     "iopub.status.busy": "2024-05-07T12:41:08.482346Z",
     "iopub.status.idle": "2024-05-07T12:42:29.094077Z",
     "shell.execute_reply": "2024-05-07T12:42:29.092650Z"
    }
   },
   "outputs": [
    {
     "name": "stderr",
     "output_type": "stream",
     "text": [
      "2024-05-07 14:41:44.965029: I tensorflow/core/util/port.cc:113] oneDNN custom operations are on. You may see slightly different numerical results due to floating-point round-off errors from different computation orders. To turn them off, set the environment variable `TF_ENABLE_ONEDNN_OPTS=0`.\n",
      "2024-05-07 14:41:46.050123: E external/local_xla/xla/stream_executor/cuda/cuda_dnn.cc:9261] Unable to register cuDNN factory: Attempting to register factory for plugin cuDNN when one has already been registered\n",
      "2024-05-07 14:41:46.050920: E external/local_xla/xla/stream_executor/cuda/cuda_fft.cc:607] Unable to register cuFFT factory: Attempting to register factory for plugin cuFFT when one has already been registered\n",
      "2024-05-07 14:41:46.202344: E external/local_xla/xla/stream_executor/cuda/cuda_blas.cc:1515] Unable to register cuBLAS factory: Attempting to register factory for plugin cuBLAS when one has already been registered\n",
      "2024-05-07 14:41:46.503537: I tensorflow/core/platform/cpu_feature_guard.cc:182] This TensorFlow binary is optimized to use available CPU instructions in performance-critical operations.\n",
      "To enable the following instructions: SSE4.1 SSE4.2 AVX AVX2 AVX512F AVX512_VNNI FMA, in other operations, rebuild TensorFlow with the appropriate compiler flags.\n"
     ]
    }
   ],
   "source": [
    "# ============= Import required packaages ==============\n",
    "# Import all custom variables and modules\n",
    "from custom_classes_defs.preprocessing import *\n",
    "#from custom_classes_defs.Unet_like import * \n",
    "from custom_classes_defs.unet import *   \n",
    "# from custom_classes_defs.fnet import * \n",
    "# from custom_classes_defs.fnet1 import *\n",
    "# from custom_classes_defs.hed import *\n",
    "\n",
    "import keras\n",
    "import numpy as np\n",
    "\n",
    "from keras.utils import plot_model\n",
    "\n",
    "RND_STATE = 247\n",
    "\n",
    "BATCH_SIZE = 128\n",
    "# size 512 to have around 351 iterations\n",
    "# size 256 to have around 707 iterations\n",
    "\n",
    "keras.utils.set_random_seed(RND_STATE)\n",
    "\n",
    "INTERACTIVE_SESSION = True\n",
    "\n",
    "NEW_SESSION = False\n",
    "\n",
    "# import keras_tuner as kt\n",
    "# -------------------------------------------------------"
   ]
  },
  {
   "cell_type": "code",
   "execution_count": 5,
   "metadata": {
    "execution": {
     "iopub.execute_input": "2024-05-07T12:42:29.098547Z",
     "iopub.status.busy": "2024-05-07T12:42:29.097823Z",
     "iopub.status.idle": "2024-05-07T12:42:36.891918Z",
     "shell.execute_reply": "2024-05-07T12:42:36.891162Z"
    }
   },
   "outputs": [
    {
     "name": "stdout",
     "output_type": "stream",
     "text": [
      "tensorflow version: 2.15.0\n",
      "keras version: 2.15.0\n",
      "[PhysicalDevice(name='/physical_device:CPU:0', device_type='CPU'), PhysicalDevice(name='/physical_device:GPU:0', device_type='GPU')]\n",
      "Number of GPUs assigned for computation: 1\n"
     ]
    }
   ],
   "source": [
    "# Verify tensorflow/keras versions\n",
    "print(f\"tensorflow version: {tf.__version__}\")\n",
    "print(f\"keras version: {keras.__version__}\")\n",
    "\n",
    "# Verify CPU/GPU availability\n",
    "print(tf.config.list_physical_devices())\n",
    "NUM_GPU = len(tf.config.list_physical_devices('GPU'))\n",
    "print(f\"Number of GPUs assigned for computation: {NUM_GPU}\")\n",
    "\n",
    "#if NUM_GPU:\n",
    "#    # print GPU info\n",
    "#    !nvidia-smi"
   ]
  },
  {
   "cell_type": "code",
   "execution_count": 6,
   "metadata": {
    "execution": {
     "iopub.execute_input": "2024-05-07T12:42:36.896169Z",
     "iopub.status.busy": "2024-05-07T12:42:36.895908Z",
     "iopub.status.idle": "2024-05-07T12:42:40.408839Z",
     "shell.execute_reply": "2024-05-07T12:42:40.407814Z"
    }
   },
   "outputs": [],
   "source": [
    "# Input data path\n",
    "seis_path = './data_thebe/seis/'\n",
    "label_path = './data_thebe/fault/'\n"
   ]
  },
  {
   "cell_type": "code",
   "execution_count": 7,
   "metadata": {
    "execution": {
     "iopub.execute_input": "2024-05-07T12:42:40.412806Z",
     "iopub.status.busy": "2024-05-07T12:42:40.412426Z",
     "iopub.status.idle": "2024-05-07T12:43:50.576431Z",
     "shell.execute_reply": "2024-05-07T12:43:50.575838Z"
    }
   },
   "outputs": [
    {
     "name": "stderr",
     "output_type": "stream",
     "text": [
      "2024-05-07 14:43:05.437163: I tensorflow/core/common_runtime/gpu/gpu_device.cc:1929] Created device /job:localhost/replica:0/task:0/device:GPU:0 with 33787 MB memory:  -> device: 0, name: NVIDIA A100-PCIE-40GB, pci bus id: 0000:af:00.0, compute capability: 8.0\n"
     ]
    },
    {
     "name": "stdout",
     "output_type": "stream",
     "text": [
      "Loading time used 1.1118727962176005 mins\n"
     ]
    }
   ],
   "source": [
    "time_start= time.time()\n",
    "thebe_data = Thebe(seis_path,label_path, batch_size=BATCH_SIZE)\n",
    "\n",
    "train_dataset = thebe_data.data_generator(sub_group='train',cache=True)\n",
    "val_dataset = thebe_data.data_generator(sub_group='val',cache= True)\n",
    "test_dataset = thebe_data.data_generator(sub_group='test',cache= True)\n",
    "\n",
    "time_end = (time.time()-time_start)/60\n",
    "print(f'Loading time used {time_end} mins')"
   ]
  },
  {
   "cell_type": "code",
   "execution_count": 8,
   "metadata": {
    "execution": {
     "iopub.execute_input": "2024-05-07T12:43:50.579637Z",
     "iopub.status.busy": "2024-05-07T12:43:50.579332Z",
     "iopub.status.idle": "2024-05-07T12:43:54.078713Z",
     "shell.execute_reply": "2024-05-07T12:43:54.077968Z"
    }
   },
   "outputs": [
    {
     "name": "stdout",
     "output_type": "stream",
     "text": [
      "training data (size = 181120)\n",
      "validation data (size = 64384)\n",
      "test data (size = 66176)\n",
      "Data images tensor: TensorSpec(shape=(None, 96, 96), dtype=tf.float32, name=None)\n",
      "Data labels tensor: TensorSpec(shape=(None, 96, 96), dtype=tf.float32, name=None)\n"
     ]
    }
   ],
   "source": [
    "print(f\"training data (size = {(train_dataset.cardinality().numpy())*BATCH_SIZE})\")\n",
    "print(f\"validation data (size = {(val_dataset.cardinality().numpy())*BATCH_SIZE})\")\n",
    "print(f\"test data (size = {(test_dataset.cardinality().numpy())*BATCH_SIZE})\")\n",
    "print(\"Data images tensor:\",train_dataset.element_spec[0])\n",
    "print(\"Data labels tensor:\",train_dataset.element_spec[1])"
   ]
  },
  {
   "cell_type": "code",
   "execution_count": 9,
   "metadata": {
    "execution": {
     "iopub.execute_input": "2024-05-07T12:43:54.081858Z",
     "iopub.status.busy": "2024-05-07T12:43:54.081419Z",
     "iopub.status.idle": "2024-05-07T12:43:58.903692Z",
     "shell.execute_reply": "2024-05-07T12:43:58.902561Z"
    }
   },
   "outputs": [
    {
     "name": "stdout",
     "output_type": "stream",
     "text": [
      "             NUM_GPU: 1\n",
      "        augmentation: False\n",
      "        channels_dim: (1, 1)\n",
      "        compile_args:\n",
      "                     optimizer: <class 'keras.src.optimizers.adam.Adam'>\n",
      "                          loss: binary_crossentropy\n",
      "                       metrics: accuracy\n",
      "           img_shape: (96, 96)\n",
      "              labels: ListWrapper([0, 1])\n",
      "     mixed_precision: False\n",
      "          model_arch:\n",
      "                     img_shape: (96, 96)\n",
      "                   target_size: (96, 96)\n",
      "                  channels_dim: (1, 1)\n",
      "                       scaling: 1\n",
      "                  augmentation: False\n",
      " multiple_gpu_device: None\n",
      "new_training_session: True\n",
      "           pos_label: 1\n",
      "           save_path: ./output/unet\n",
      "             scaling: 1\n",
      "         target_size: (96, 96)\n",
      "           test_size: None\n",
      "           threshold: 0.5\n",
      "          train_size: None\n",
      "       training_args:\n",
      "                        epochs: 30\n",
      "                    batch_size: 128\n",
      "                       shuffle: False\n",
      "                       verbose: 0\n",
      "               validation_data: <class 'tensorflow.python.data.ops.cache_op.CacheDataset'>\n",
      "                     callbacks: <keras.src.callbacks.ModelCheckpoint object at 0x7f0818b16410>\n",
      "                              : <keras.src.callbacks.ReduceLROnPlateau object at 0x7f0818b14e90>\n",
      "                              : <keras.src.callbacks.EarlyStopping object at 0x7f0818b16f10>\n",
      "   training_duration: None\n",
      "     validation_size: None\n"
     ]
    }
   ],
   "source": [
    "\n",
    "\n",
    "# Model configurations\n",
    "conf = model_config(\n",
    "    epochs= 30,\n",
    "    batch_size=BATCH_SIZE,\n",
    "    verbose=0,\n",
    "    scaling=1,\n",
    "    save_path='./output/unet',\n",
    "    img_shape= (96,96),\n",
    "    target_size= (96,96),\n",
    "    channels_dim=(1,1),\n",
    "    pos_label= thebe_data.pos_label,\n",
    "    new_training_session=True,\n",
    "    mixed_precision = False,\n",
    "    multiple_gpu_device=None\n",
    ")\n",
    "\n",
    "\n",
    "callbacks=conf.callbacks(chkpt_monitor='val_loss', es_patience=30, lr_patience= 30)\n",
    "conf.set( validation_data=val_dataset,  callbacks=callbacks )\n",
    "conf.set(\n",
    "    'compile',\n",
    "    optimizer=tf.keras.optimizers.Adam(1e-3), \n",
    "    metrics= ['accuracy']\n",
    ")\n",
    "\n",
    "# conf.double_check(INTERACTIVE_SESSION)\n",
    "conf.info()"
   ]
  },
  {
   "cell_type": "markdown",
   "metadata": {},
   "source": [
    "### Build model"
   ]
  },
  {
   "cell_type": "code",
   "execution_count": 10,
   "metadata": {
    "execution": {
     "iopub.execute_input": "2024-05-07T12:43:58.908808Z",
     "iopub.status.busy": "2024-05-07T12:43:58.908236Z",
     "iopub.status.idle": "2024-05-07T12:44:03.679716Z",
     "shell.execute_reply": "2024-05-07T12:44:03.678978Z"
    }
   },
   "outputs": [
    {
     "name": "stdout",
     "output_type": "stream",
     "text": [
      "\n",
      "\n",
      "=======================================================\n",
      "\tBuild model\n",
      "-------------------------------------------------------\n"
     ]
    },
    {
     "name": "stdout",
     "output_type": "stream",
     "text": [
      "Total number of parameters: 3,083,969\n",
      "Total trainable wieghts: 3,080,193\n",
      "Total non-trainable wieghts: 3,776\n"
     ]
    }
   ],
   "source": [
    "### SINGLE-HOST, MULTI-DEVICE SYNCHRONOUS TRAINING\n",
    "## François Chollet. Deep Learning with Python, Second Edition (Kindle Location 12675). Manning Publications Co.. \n",
    "print(\"\\n\\n{}\\n\\t{}\\n{}\".format('='*55,f'Build model', '-'*55))\n",
    "\n",
    "if conf.multiple_gpu_device:\n",
    "\n",
    "    strategy = tf.distribute.MirroredStrategy()\n",
    "    print(f\"Number of devices: {strategy.num_replicas_in_sync}\")\n",
    "    with strategy.scope():\n",
    "        m_obj = UNET2D(panel_sizes=[32,64,128,256], model_arch=conf.model_arch)\n",
    "        model = m_obj.build_model()\n",
    "        model.compile(**conf.compile_args)\n",
    "\n",
    "else:\n",
    "\n",
    "    m_obj = UNET2D(panel_sizes=[32,64,128,256], model_arch=conf.model_arch)\n",
    "    # m_obj = HED2D(num_freeze=4, model_arch=conf.model_arch)\n",
    "    model = m_obj.build_model()\n",
    "    model.compile(**conf.compile_args)\n",
    "\n",
    "#model.summary()\n",
    "#plot_model(model, 'm_obj.png',show_shapes=True)\n",
    "num_trainable_weights = sum([np.prod(w.shape) for w in model.trainable_weights])\n",
    "print(f\"Total number of parameters: {model.count_params():,}\")\n",
    "print(f\"Total trainable wieghts: {num_trainable_weights:,}\")\n",
    "print(f\"Total non-trainable wieghts: {model.count_params()-num_trainable_weights:,}\")\n",
    "\n"
   ]
  },
  {
   "cell_type": "markdown",
   "metadata": {},
   "source": [
    "### Train the model"
   ]
  },
  {
   "cell_type": "code",
   "execution_count": 11,
   "metadata": {
    "execution": {
     "iopub.execute_input": "2024-05-07T12:44:03.682486Z",
     "iopub.status.busy": "2024-05-07T12:44:03.682247Z",
     "iopub.status.idle": "2024-05-07T13:25:53.970435Z",
     "shell.execute_reply": "2024-05-07T13:25:53.969583Z"
    }
   },
   "outputs": [
    {
     "name": "stdout",
     "output_type": "stream",
     "text": [
      "\n",
      "\n",
      "=======================================================\n",
      "\tTrain unet model\n",
      "-------------------------------------------------------\n",
      "Model training...\n"
     ]
    },
    {
     "name": "stderr",
     "output_type": "stream",
     "text": [
      "2024-05-07 14:44:19.987786: E tensorflow/core/grappler/optimizers/meta_optimizer.cc:961] layout failed: INVALID_ARGUMENT: Size of values 0 does not match size of permutation 4 @ fanin shape inU-NET/dropout/dropout/SelectV2-2-TransposeNHWCToNCHW-LayoutOptimizer\n"
     ]
    },
    {
     "name": "stderr",
     "output_type": "stream",
     "text": [
      "2024-05-07 14:44:21.482183: I external/local_xla/xla/stream_executor/cuda/cuda_dnn.cc:454] Loaded cuDNN version 8907\n"
     ]
    },
    {
     "name": "stderr",
     "output_type": "stream",
     "text": [
      "2024-05-07 14:44:37.424939: I external/local_xla/xla/service/service.cc:168] XLA service 0x7f027c9a0320 initialized for platform CUDA (this does not guarantee that XLA will be used). Devices:\n",
      "2024-05-07 14:44:37.424984: I external/local_xla/xla/service/service.cc:176]   StreamExecutor device (0): NVIDIA A100-PCIE-40GB, Compute Capability 8.0\n",
      "2024-05-07 14:44:37.546105: I tensorflow/compiler/mlir/tensorflow/utils/dump_mlir_util.cc:269] disabling MLIR crash reproducer, set env var `MLIR_CRASH_REPRODUCER_DIRECTORY` to enable.\n"
     ]
    },
    {
     "name": "stderr",
     "output_type": "stream",
     "text": [
      "WARNING: All log messages before absl::InitializeLog() is called are written to STDERR\n",
      "I0000 00:00:1715085878.444306 3402171 device_compiler.h:186] Compiled cluster using XLA!  This line is logged at most once for the lifetime of the process.\n"
     ]
    },
    {
     "name": "stdout",
     "output_type": "stream",
     "text": [
      "training elapsed time: ___41.75___ minutes\n",
      "...training completed!\n"
     ]
    },
    {
     "data": {
      "image/png": "[encoded data removed]",
      "text/plain": [
       "<Figure size 640x480 with 1 Axes>"
      ]
     },
     "metadata": {},
     "output_type": "display_data"
    },
    {
     "name": "stdout",
     "output_type": "stream",
     "text": [
      "Loading time used 41.77733146349589 mins\n"
     ]
    }
   ],
   "source": [
    "time_start= time.time()\n",
    "\n",
    "print(\"\\n\\n{}\\n\\t{}\\n{}\".format('='*55,f'Train {m_obj.Name} model', '-'*55))\n",
    "\n",
    "model, train_history = \\\n",
    "    conf.execute_training(\n",
    "        model, \n",
    "        data=train_dataset, \n",
    "        plot_history=INTERACTIVE_SESSION\n",
    ")\n",
    "\n",
    "time_end = (time.time()-time_start)/60\n",
    "print(f'Loading time used {time_end} mins')"
   ]
  },
  {
   "cell_type": "code",
   "execution_count": 12,
   "metadata": {
    "execution": {
     "iopub.execute_input": "2024-05-07T13:25:53.975587Z",
     "iopub.status.busy": "2024-05-07T13:25:53.975212Z",
     "iopub.status.idle": "2024-05-07T13:25:59.782809Z",
     "shell.execute_reply": "2024-05-07T13:25:59.782189Z"
    }
   },
   "outputs": [
    {
     "data": {
      "image/png": "[encoded data removed]",
      "text/plain": [
       "<Figure size 640x480 with 1 Axes>"
      ]
     },
     "metadata": {},
     "output_type": "display_data"
    }
   ],
   "source": [
    "show_convergence(train_history.history, ['accuracy','val_accuracy'])"
   ]
  },
  {
   "cell_type": "code",
   "execution_count": 13,
   "metadata": {
    "execution": {
     "iopub.execute_input": "2024-05-07T13:25:59.786149Z",
     "iopub.status.busy": "2024-05-07T13:25:59.785831Z",
     "iopub.status.idle": "2024-05-07T13:26:03.599646Z",
     "shell.execute_reply": "2024-05-07T13:26:03.599046Z"
    }
   },
   "outputs": [
    {
     "data": {
      "image/png": "[encoded data removed]",
      "text/plain": [
       "<Figure size 640x480 with 1 Axes>"
      ]
     },
     "metadata": {},
     "output_type": "display_data"
    }
   ],
   "source": [
    "show_convergence(train_history.history, 'lr')"
   ]
  },
  {
   "cell_type": "markdown",
   "metadata": {},
   "source": [
    "### Visualize predictions"
   ]
  },
  {
   "cell_type": "code",
   "execution_count": 14,
   "metadata": {
    "execution": {
     "iopub.execute_input": "2024-05-07T13:26:03.602712Z",
     "iopub.status.busy": "2024-05-07T13:26:03.602413Z",
     "iopub.status.idle": "2024-05-07T13:26:07.138559Z",
     "shell.execute_reply": "2024-05-07T13:26:07.137762Z"
    }
   },
   "outputs": [],
   "source": [
    "#time_start= time.time()\n",
    "#y_preds = model.predict(test_dataset)\n",
    "\n",
    "#time_end = (time.time()-time_start)/60\n",
    "#print(f'Loading time used {time_end} mins')"
   ]
  },
  {
   "cell_type": "code",
   "execution_count": 15,
   "metadata": {
    "execution": {
     "iopub.execute_input": "2024-05-07T13:26:07.142114Z",
     "iopub.status.busy": "2024-05-07T13:26:07.141724Z",
     "iopub.status.idle": "2024-05-07T13:26:10.476696Z",
     "shell.execute_reply": "2024-05-07T13:26:10.475634Z"
    }
   },
   "outputs": [],
   "source": [
    "#time_start= time.time()\n",
    "\n",
    "#print(\"\\n\\n{}\\n\\t{}\\n{}\".format('='*55,f'Evaluate {m_obj.Name} model', '-'*55))\n",
    "\n",
    "#model.evaluate(x=test_dataset)\n",
    "#time_end = (time.time()-time_start)/60\n",
    "#print(f'Loading time used {time_end} mins')"
   ]
  },
  {
   "cell_type": "code",
   "execution_count": 16,
   "metadata": {
    "execution": {
     "iopub.execute_input": "2024-05-07T13:26:10.482133Z",
     "iopub.status.busy": "2024-05-07T13:26:10.481635Z",
     "iopub.status.idle": "2024-05-07T13:26:13.896863Z",
     "shell.execute_reply": "2024-05-07T13:26:13.895668Z"
    }
   },
   "outputs": [],
   "source": [
    "# Using scikit-learn\n",
    "#scores = m_obj.evaluate_sklearn(test_dataset, y_preds,report=True)\n",
    "#print(scores)\n"
   ]
  },
  {
   "cell_type": "code",
   "execution_count": 17,
   "metadata": {
    "execution": {
     "iopub.execute_input": "2024-05-07T13:26:13.901167Z",
     "iopub.status.busy": "2024-05-07T13:26:13.900778Z",
     "iopub.status.idle": "2024-05-07T13:26:17.464269Z",
     "shell.execute_reply": "2024-05-07T13:26:17.463250Z"
    }
   },
   "outputs": [],
   "source": [
    "#if NEW_SESSION:\n",
    "#    thebe_data.display_sample_image(y_preds, 'test')"
   ]
  }
 ],
 "metadata": {
  "kernelspec": {
   "display_name": "Python 3 (ipykernel)",
   "language": "python",
   "name": "python3"
  },
  "language_info": {
   "codemirror_mode": {
    "name": "ipython",
    "version": 3
   },
   "file_extension": ".py",
   "mimetype": "text/x-python",
   "name": "python",
   "nbconvert_exporter": "python",
   "pygments_lexer": "ipython3",
   "version": "3.11.8"
  }
 },
 "nbformat": 4,
 "nbformat_minor": 4
}
