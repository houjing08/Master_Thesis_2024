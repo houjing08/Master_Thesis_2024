{
 "cells": [
  {
   "cell_type": "markdown",
   "metadata": {},
   "source": [
    "This notebook demonstrates use of Keras and LSTM using energy consumption dataset\n",
    "\n",
    "Slightly modified from a previous version shared by Tomasz Wiktorski"
   ]
  },
  {
   "cell_type": "code",
   "execution_count": 9,
   "metadata": {},
   "outputs": [],
   "source": [
    "%matplotlib inline\n",
    "from IPython.core.interactiveshell import InteractiveShell\n",
    "InteractiveShell.ast_node_interactivity = \"all\"\n",
    "import pandas as pd\n",
    "#from pandas import datetime\n",
    "import datetime\n",
    "import numpy as np\n",
    "from pandas.plotting import autocorrelation_plot\n",
    "import statsmodels as sm\n",
    "from statsmodels.tsa.arima_model import ARIMA\n",
    "from statsmodels.tsa.seasonal import seasonal_decompose\n",
    "from statsmodels.tsa.stattools import adfuller\n",
    "from statsmodels.tsa.stattools import acf, pacf\n",
    "from statsmodels.graphics.tsaplots import plot_acf,  plot_pacf\n",
    "from statsmodels.tsa.statespace import sarimax\n",
    "from matplotlib import pyplot as plt\n",
    "from sklearn.metrics import mean_squared_error\n",
    "from math import sqrt\n",
    "from keras.models import Sequential\n",
    "from keras.layers import Dense, Dropout\n",
    "from keras.layers import LSTM\n",
    "from sklearn.preprocessing import MinMaxScaler\n",
    "from sklearn.metrics import mean_squared_error, mean_absolute_error"
   ]
  },
  {
   "cell_type": "markdown",
   "metadata": {},
   "source": [
    "Data can be downloaded from: http://archive.ics.uci.edu/ml/machine-learning-databases/00235/household_power_consumption.zip\n"
   ]
  },
  {
   "cell_type": "code",
   "execution_count": 10,
   "metadata": {},
   "outputs": [],
   "source": [
    "energy_cons = pd.read_csv('../power-cons/household_power_consumption.txt', sep=';', \n",
    "                          parse_dates={'Date_time': ['Date', 'Time']}, infer_datetime_format=True, \n",
    "                          na_values=['?'], index_col='Date_time').resample('D').mean()"
   ]
  },
  {
   "cell_type": "markdown",
   "metadata": {},
   "source": [
    "## Deep learning and LSTM\n",
    "Deep learning is a group of machine learning typically characterized by application of multi-layer ANN architectures together with efficient use of back propagation and stochastic gradient descent.\n",
    "\n",
    "Different network architectures can be used, depending on the application. CNNs (Convolution Neural Netoworks) are often used in computer vision. RNNs (Recurrent Neural Networks) are often used for language modeling. LSTM (Long short-therm memory) networks are a type of RNNs often used for time series prediction or hand writing recognition. Other architectures exist.\n",
    "\n",
    "LSTM are capable of learning patterns farther apart in time than for other types of RNNs."
   ]
  },
  {
   "cell_type": "markdown",
   "metadata": {},
   "source": [
    "## Data preparation\n",
    "As in ARIMA example we will use 1 year of data for training and 1 year for testing. Deep nets can be sesitive to data scaling, therefore, we beging by scaling the data.\n",
    "\n",
    "Since at this point we have not split the data into training and testing sets, we can use one scaler. It is important not to modify the scaler object because it is necessary to bring data back in their original scale at the end."
   ]
  },
  {
   "cell_type": "code",
   "execution_count": 11,
   "metadata": {},
   "outputs": [],
   "source": [
    "tt_scaler = MinMaxScaler()\n",
    "tt_data = energy_cons['Global_active_power']['2008-07-01':'2010-06-30'].fillna(method='bfill')\n",
    "tt_data = tt_data.values.reshape(tt_data.shape[0],1)\n",
    "tt_data = tt_scaler.fit_transform(tt_data)"
   ]
  },
  {
   "cell_type": "markdown",
   "metadata": {},
   "source": [
    "The approach we take is to feed last seven days of energy consumption at a time and predict the consumption for the subsequent day. Based on LSTM architecture the network should discover any longe term patterns on its own.\n",
    "\n",
    "We use the *roll* function in NumPy to time shift time series multiple times, we then merge the results in one array using *hstack*. Finally, data is divided into training and test sets."
   ]
  },
  {
   "cell_type": "code",
   "execution_count": 12,
   "metadata": {},
   "outputs": [],
   "source": [
    "X = np.hstack((tt_data, np.roll(tt_data, -1), \n",
    "           np.roll(tt_data, -2), np.roll(tt_data, -3),\n",
    "           np.roll(tt_data, -4), np.roll(tt_data, -5),\n",
    "           np.roll(tt_data, -6)))[:-8]\n",
    "y = np.roll(tt_data,-7)[:-8]\n",
    "\n",
    "X_train,X_test = X[:361],X[361:]\n",
    "y_train,y_test = y[:361],y[361:]"
   ]
  },
  {
   "cell_type": "markdown",
   "metadata": {},
   "source": [
    "## Creating the LSTM model \n",
    "We create our model by combining 2 LSTM networks and then Dropout and Dense. For the first LSTM layer we need to specify *input shape*. In our case it is a value for one feature over 7 timestamps.\n",
    "\n",
    "We apply second LSTM layer with a hope that it will help in learning higher level patterns in the time series. Choosing the right layers and parameters is a topic on beyond this tutorial.\n",
    "\n",
    "Dropout is a regularization technique that randomly ignores a certain percentage of neurons, what should help with overfitting.\n",
    "\n",
    "Dense is a fully-connected NN layer that is used to reduce dimensionality of output."
   ]
  },
  {
   "cell_type": "code",
   "execution_count": 13,
   "metadata": {},
   "outputs": [],
   "source": [
    "model = Sequential([\n",
    "    LSTM(16, input_shape=(7,1), return_sequences=True),\n",
    "    LSTM(4),\n",
    "    Dropout(.2),\n",
    "    Dense(1)])\n",
    "model.compile(optimizer='adam',loss='mean_squared_error')"
   ]
  },
  {
   "cell_type": "markdown",
   "metadata": {},
   "source": [
    "The model expects a 3 dimensional array with size defined by batch size, number of time steps, number of features.\n",
    "\n",
    "Our arrays are 2 dimentional, since we only have one feature. We reshape the arrays and fit the model.\n",
    "\n",
    "*Epoch* parameter defines the number of training steps. Usually higher number will provide a better fit. It might also lead to overfitting, especially with a higher number of neurons.\n",
    "\n",
    "Specifing *verbose* as zero prevents Keras from displaying training progress. For large models it might better to observe the progress, but it is rather incovienent in a notebook."
   ]
  },
  {
   "cell_type": "code",
   "execution_count": 14,
   "metadata": {},
   "outputs": [],
   "source": [
    "X_train = X_train.reshape((X_train.shape[0],X_train.shape[1],1))\n",
    "X_test = X_test.reshape((X_test.shape[0],X_test.shape[1],1))\n",
    "history = model.fit(X_train,y_train,epochs=1000, verbose=0)"
   ]
  },
  {
   "cell_type": "markdown",
   "metadata": {},
   "source": [
    "## Prediction and evaluation\n",
    "After the model is trained we use it for prediction with the test set.\n",
    "\n",
    "We then rescale back the obtained results. We plot and evaluate them in the same way as for the ARIMA model."
   ]
  },
  {
   "cell_type": "code",
   "execution_count": 15,
   "metadata": {},
   "outputs": [
    {
     "data": {
      "text/plain": [
       "[<matplotlib.lines.Line2D at 0x173b2a46a00>]"
      ]
     },
     "execution_count": 15,
     "metadata": {},
     "output_type": "execute_result"
    },
    {
     "data": {
      "text/plain": [
       "[<matplotlib.lines.Line2D at 0x173b2a46e80>]"
      ]
     },
     "execution_count": 15,
     "metadata": {},
     "output_type": "execute_result"
    },
    {
     "data": {
      "text/plain": [
       "0.08579673704125841"
      ]
     },
     "execution_count": 15,
     "metadata": {},
     "output_type": "execute_result"
    },
    {
     "data": {
      "text/plain": [
       "0.3619388679963745"
      ]
     },
     "execution_count": 15,
     "metadata": {},
     "output_type": "execute_result"
    },
    {
     "data": {
      "image/png": "[encoded data removed]",
      "text/plain": [
       "<Figure size 432x288 with 1 Axes>"
      ]
     },
     "metadata": {
      "needs_background": "light"
     },
     "output_type": "display_data"
    }
   ],
   "source": [
    "Xt = model.predict(X_test)\n",
    "\n",
    "plt.plot(tt_scaler.inverse_transform(y_test.reshape(-1,1)))\n",
    "plt.plot(tt_scaler.inverse_transform(Xt))\n",
    "mean_absolute_error(y_test, Xt)\n",
    "tt_scaler.inverse_transform([[mean_absolute_error(y_test, Xt)]])[0][0]"
   ]
  },
  {
   "cell_type": "markdown",
   "metadata": {},
   "source": [
    "The scaled error is in fact higher than in case of SARIMAX, but:\n",
    "- if we predicted on scaled data error goes down to ca. .19, but we don't do it as in general it tends to give worse results\n",
    "- we did not use trend information (or any other exogonous variables) to support our prediction, if we observe trend for test data we see how much support it actuall provides"
   ]
  },
  {
   "cell_type": "code",
   "execution_count": null,
   "metadata": {},
   "outputs": [],
   "source": []
  }
 ],
 "metadata": {
  "kernelspec": {
   "display_name": "Python 3",
   "language": "python",
   "name": "python3"
  },
  "language_info": {
   "codemirror_mode": {
    "name": "ipython",
    "version": 3
   },
   "file_extension": ".py",
   "mimetype": "text/x-python",
   "name": "python",
   "nbconvert_exporter": "python",
   "pygments_lexer": "ipython3",
   "version": "3.9.5"
  }
 },
 "nbformat": 4,
 "nbformat_minor": 2
}
